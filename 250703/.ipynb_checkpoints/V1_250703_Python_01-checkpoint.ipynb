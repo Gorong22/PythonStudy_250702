{
 "cells": [
  {
   "cell_type": "code",
   "execution_count": null,
   "id": "227e2189-451b-462d-af74-2df05c7e0a22",
   "metadata": {},
   "outputs": [],
   "source": [
    "# 사용자로부터 정수를 입력받은 후 등급을 출력하세요 \n",
    "# A등급 : 100 ~ 81 / B 80 ~ 61 , C 60 ~ 0 "
   ]
  },
  {
   "cell_type": "code",
   "execution_count": 7,
   "id": "c6dab238-512c-4715-b200-248a0254d454",
   "metadata": {},
   "outputs": [
    {
     "name": "stdin",
     "output_type": "stream",
     "text": [
      "숫자를 입력해주세요 60\n"
     ]
    },
    {
     "name": "stdout",
     "output_type": "stream",
     "text": [
      "C등급입니다\n"
     ]
    }
   ],
   "source": [
    "user = int(input(\"숫자를 입력해주세요\"))\n",
    "\n",
    "if user <= 100 and user >= 81 :\n",
    "    print(\"a등급입니다\")\n",
    "elif user <= 80 and user >= 61 :\n",
    "    print(\"b등급입니다\")\n",
    "elif 0 <= user <= 60 :\n",
    "    print(\"C등급입니다\")\n",
    "\n",
    "else :\n",
    "    print(\"0 ~ 100 사이의 숫자를 입력하세요\")\n"
   ]
  },
  {
   "cell_type": "code",
   "execution_count": null,
   "id": "b1ec525c-5961-401d-a0c8-9f05e46bae0e",
   "metadata": {},
   "outputs": [],
   "source": [
    "# 사용자로부터 주민등록번호를 입력받아서 출생연도만 확인 후 출력해주세요 \n",
    "    # ex) 800000 - 123476 -> 80년생 입니다 "
   ]
  },
  {
   "cell_type": "code",
   "execution_count": 8,
   "id": "716bcb36-5ecd-474f-8174-6b34846275ed",
   "metadata": {},
   "outputs": [
    {
     "name": "stdin",
     "output_type": "stream",
     "text": [
      "주민등록번호입력 920220-1692822\n"
     ]
    },
    {
     "name": "stdout",
     "output_type": "stream",
     "text": [
      "92\n"
     ]
    }
   ],
   "source": [
    "data = input(\"주민등록번호입력\")\n",
    "print(data[0:2])"
   ]
  },
  {
   "cell_type": "code",
   "execution_count": 16,
   "id": "54c0ae77-b928-49d3-8115-710c4253cdfd",
   "metadata": {},
   "outputs": [
    {
     "name": "stdin",
     "output_type": "stream",
     "text": [
      "주민등록번호입력 920220-1692822\n"
     ]
    },
    {
     "name": "stdout",
     "output_type": "stream",
     "text": [
      "92 년생\n"
     ]
    }
   ],
   "source": [
    "data = input(\"주민등록번호입력\")\n",
    "age = data\n",
    "print(f\"{age.split(\"-\") [0] [0:2]} 년생\")"
   ]
  },
  {
   "cell_type": "code",
   "execution_count": 19,
   "id": "c29a91b7-a6b5-4051-943c-92ebea2c0692",
   "metadata": {},
   "outputs": [
    {
     "name": "stdout",
     "output_type": "stream",
     "text": [
      "a man goes into the room\n"
     ]
    }
   ],
   "source": [
    "mystr = \"a man goes into the room...\"\n",
    "\n",
    "result = mystr.strip(\"...\")\n",
    "print(result)"
   ]
  },
  {
   "cell_type": "code",
   "execution_count": null,
   "id": "7b993b94-8a3b-45b3-b8ee-da94e6965b4f",
   "metadata": {},
   "outputs": [],
   "source": [
    "#사용자로부터 주민등록번호를 입력 받아서, 성별을 \"ㅠㅠ남성, 여성으로 출력해라"
   ]
  },
  {
   "cell_type": "code",
   "execution_count": 31,
   "id": "ac77b5fa-54d2-4f64-9c6a-c87366896851",
   "metadata": {},
   "outputs": [
    {
     "name": "stdin",
     "output_type": "stream",
     "text": [
      "주민번호를 입력해주세요 920220-1692822\n"
     ]
    },
    {
     "name": "stdout",
     "output_type": "stream",
     "text": [
      "남성입니다\n"
     ]
    }
   ],
   "source": [
    "age = input(\"주민번호를 입력해주세요\")\n",
    "sep = age.split(\"-\")\n",
    "gender = sep[1][0]\n",
    "if gender == \"1\" or gender == \"3\" :\n",
    "    print(\"남성입니다\") \n",
    "elif gender == \"2\" or gender == \"4\" :\n",
    "    print(\"여성입니다\")\n",
    "    "
   ]
  },
  {
   "cell_type": "code",
   "execution_count": 52,
   "id": "7fed0f2a-c9e0-464b-bcc7-0bbce2b00390",
   "metadata": {},
   "outputs": [
    {
     "name": "stdout",
     "output_type": "stream",
     "text": [
      "77\n"
     ]
    }
   ],
   "source": [
    "code = \"000770\"\n",
    "num = code.strip()\n",
    "print(num[3:5])"
   ]
  },
  {
   "cell_type": "code",
   "execution_count": 50,
   "id": "f7610f4e-cb32-476a-9408-a84ffe42183f",
   "metadata": {},
   "outputs": [
    {
     "name": "stdout",
     "output_type": "stream",
     "text": [
      "4\n",
      "0\n"
     ]
    }
   ],
   "source": [
    "python_desc = \"Installing Python is generally easy, and nowadays many Linux and UNIX distributions include a recent Python. Even some Windows computers (notably those from HP) now come with Python already installed. If you do need to install Python and aren't confident about the task you can find a few notes on the BeginnersGuide/Download wiki page, but installation is unremarkable on most platforms.\"\n",
    "print(python_desc.count(\"Python\"))\n",
    "print(python_desc.count(\"python\"))\n"
   ]
  },
  {
   "cell_type": "code",
   "execution_count": 60,
   "id": "28ab223e-f23a-4ada-be68-c049c2491ee8",
   "metadata": {},
   "outputs": [
    {
     "name": "stdin",
     "output_type": "stream",
     "text": [
      " aaarrr\n"
     ]
    },
    {
     "data": {
      "text/plain": [
       "0"
      ]
     },
     "execution_count": 60,
     "metadata": {},
     "output_type": "execute_result"
    }
   ],
   "source": [
    "letters = input()\n",
    "var = letters.find(\"a\")\n",
    "\n",
    "var\n",
    "\n",
    "\n",
    "#if var == 0 :\n",
    "    #print(0)\n",
    "#else :\n",
    "    #print(-1)\n",
    "           \n",
    "#일반적으로 프로그래밍언어는 true, false\n",
    "#truethy, falsy => 참인듯한 값, 거짓인듯 한 값"
   ]
  },
  {
   "cell_type": "code",
   "execution_count": null,
   "id": "ac6974b6-4be3-4793-9419-2a7ece70ba34",
   "metadata": {},
   "outputs": [],
   "source": [
    " #사용자로부터 주민등록번호를 입력받은 후 사용자의 출생지가 어디인지 확인 후 출력해주세요\n",
    "    #주민등록번호 중 뒤에 8자리 중에서 첫번쨰 성별,  두번째 숫자부터 세번째 까지 출생지를 의미한다 \n",
    "\n",
    "#00~08 서울, 09 ~ 12 부산, "
   ]
  },
  {
   "cell_type": "code",
   "execution_count": 77,
   "id": "3d6103a9-0bc2-4eec-87cc-bd3d3b414e68",
   "metadata": {},
   "outputs": [
    {
     "name": "stdin",
     "output_type": "stream",
     "text": [
      "주민번호를 입력해주세요 920220-1042315\n"
     ]
    },
    {
     "name": "stdout",
     "output_type": "stream",
     "text": [
      "서울입니다\n"
     ]
    }
   ],
   "source": [
    "age = input(\"주민번호를 입력해주세요\")\n",
    "sep = age.split(\"-\")\n",
    "area = sep[1][1:3]\n",
    "area2 = int(area)\n",
    "if area2 >= 0 and area2 <= 8 :\n",
    "    print(\"서울입니다\") \n",
    "elif area2 >= 9 and area2 <= 12:\n",
    "    print(\"부산입니다\")\n",
    "else:\n",
    "    print(\"꺼졍\")"
   ]
  },
  {
   "cell_type": "code",
   "execution_count": 79,
   "id": "11ec1379-5221-4895-8466-4dc5d0fffee2",
   "metadata": {},
   "outputs": [],
   "source": [
    "#선생님코드 \n",
    "\n",
    "data = \"125416-1012486\"\n",
    "location = int(data.split(\"-\")[1] [1:3])\n",
    "\n",
    "if location >= 0 and location <= 8 :\n",
    "    print(\"서울출생입니다\")\n",
    "elif location >= 9 and location <= 12 :\n",
    "    print(\"부산입니다\")"
   ]
  },
  {
   "cell_type": "code",
   "execution_count": null,
   "id": "ea5f3492-0e61-4c24-90a0-7541d8545733",
   "metadata": {},
   "outputs": [],
   "source": []
  }
 ],
 "metadata": {
  "kernelspec": {
   "display_name": "Python [conda env:base] *",
   "language": "python",
   "name": "conda-base-py"
  },
  "language_info": {
   "codemirror_mode": {
    "name": "ipython",
    "version": 3
   },
   "file_extension": ".py",
   "mimetype": "text/x-python",
   "name": "python",
   "nbconvert_exporter": "python",
   "pygments_lexer": "ipython3",
   "version": "3.13.5"
  }
 },
 "nbformat": 4,
 "nbformat_minor": 5
}
