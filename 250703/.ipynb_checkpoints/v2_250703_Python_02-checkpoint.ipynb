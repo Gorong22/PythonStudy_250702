{
 "cells": [
  {
   "cell_type": "code",
   "execution_count": 2,
   "id": "f6aa158f-9b50-48b9-8fe2-d1a5f13798a1",
   "metadata": {},
   "outputs": [
    {
     "name": "stdout",
     "output_type": "stream",
     "text": [
      "python\n",
      "TS\n",
      "Node\n"
     ]
    }
   ],
   "source": [
    "#for in 예시\n",
    "\n",
    "lan = [\"python\", \"TS\", \"Node\"]\n",
    "\n",
    "\n",
    "for item in lan :\n",
    "    print(item)"
   ]
  },
  {
   "cell_type": "code",
   "execution_count": 4,
   "id": "7648cd7c-08ad-457b-a31e-9a92224fa100",
   "metadata": {},
   "outputs": [
    {
     "name": "stdout",
     "output_type": "stream",
     "text": [
      "python\n",
      "ts\n",
      "node\n"
     ]
    }
   ],
   "source": [
    "\n",
    "for item in [\"python\", \"ts\", \"node\"] :\n",
    "    print(item)"
   ]
  },
  {
   "cell_type": "code",
   "execution_count": 7,
   "id": "7a931166-ef4e-4e6f-b496-c712ac3cf97b",
   "metadata": {},
   "outputs": [
    {
     "name": "stdout",
     "output_type": "stream",
     "text": [
      "1\n",
      "2\n",
      "3\n",
      "4\n",
      "5\n",
      "6\n",
      "7\n",
      "8\n",
      "9\n",
      "10\n"
     ]
    }
   ],
   "source": [
    "for num in [1, 2, 3, 4, 5, 6, 7, 8, 9, 10] :\n",
    "    print(num)"
   ]
  },
  {
   "cell_type": "code",
   "execution_count": 12,
   "id": "e5b30d0a-179a-46a5-9436-acbcbfaa5f05",
   "metadata": {},
   "outputs": [
    {
     "name": "stdin",
     "output_type": "stream",
     "text": [
      "당신의 최애음식은 피자\n",
      "당신의 최애음식은 햄버거\n",
      "당신의 최애음식은 짲ㅏㅇ면\n"
     ]
    }
   ],
   "source": [
    "for num in range(1, 4) :\n",
    "    input(\"당신의 최애음식은\")"
   ]
  },
  {
   "cell_type": "code",
   "execution_count": 14,
   "id": "b9c5a948-b811-42ed-a49c-d08279fdf087",
   "metadata": {},
   "outputs": [
    {
     "name": "stdin",
     "output_type": "stream",
     "text": [
      "점메추 쌀국수\n",
      "점메추 햄버거\n",
      "점메추 하ㄴ식\n"
     ]
    }
   ],
   "source": [
    "for _ in range(1, 4) :\n",
    "    input(\"점메추\")"
   ]
  },
  {
   "cell_type": "code",
   "execution_count": 16,
   "id": "22905a06-5cce-48ac-b372-048cac65e32f",
   "metadata": {},
   "outputs": [
    {
     "data": {
      "text/plain": [
       "range(0, 3)"
      ]
     },
     "execution_count": 16,
     "metadata": {},
     "output_type": "execute_result"
    }
   ],
   "source": [
    "range(3)\n"
   ]
  },
  {
   "cell_type": "code",
   "execution_count": 17,
   "id": "8c83d97c-dede-4035-9712-b040c78203f4",
   "metadata": {},
   "outputs": [
    {
     "ename": "SyntaxError",
     "evalue": "cannot assign to function call here. Maybe you meant '==' instead of '='? (2319105677.py, line 1)",
     "output_type": "error",
     "traceback": [
      "\u001b[1;36m  Cell \u001b[1;32mIn[17], line 1\u001b[1;36m\u001b[0m\n\u001b[1;33m    range(0, 3) = [1, 2, 3]\u001b[0m\n\u001b[1;37m    ^\u001b[0m\n\u001b[1;31mSyntaxError\u001b[0m\u001b[1;31m:\u001b[0m cannot assign to function call here. Maybe you meant '==' instead of '='?\n"
     ]
    }
   ],
   "source": [
    "range(0, 3) = [1, 2, 3]"
   ]
  },
  {
   "cell_type": "code",
   "execution_count": 32,
   "id": "e0fd9d37-f48a-4682-ae75-ed2833101542",
   "metadata": {},
   "outputs": [
    {
     "name": "stdout",
     "output_type": "stream",
     "text": [
      "55\n"
     ]
    }
   ],
   "source": [
    "sum = 0 #전역변수\n",
    "\n",
    "for index in range(1, 11) :\n",
    "    #sum = sum + index\n",
    "    #복합대입연산자\n",
    "    sum += index\n",
    "    \n",
    "print(sum)"
   ]
  },
  {
   "cell_type": "code",
   "execution_count": 35,
   "id": "b23a276b-0876-4687-becc-18e67e948de3",
   "metadata": {},
   "outputs": [
    {
     "name": "stdin",
     "output_type": "stream",
     "text": [
      "What is your name david\n"
     ]
    },
    {
     "name": "stdout",
     "output_type": "stream",
     "text": [
      "hi~ david!! 'where is foo?'\n"
     ]
    },
    {
     "name": "stdin",
     "output_type": "stream",
     "text": [
      "What is your name hyung\n"
     ]
    },
    {
     "name": "stdout",
     "output_type": "stream",
     "text": [
      "hi~ hyung!! 'where is foo?'\n"
     ]
    },
    {
     "ename": "KeyboardInterrupt",
     "evalue": "Interrupted by user",
     "output_type": "error",
     "traceback": [
      "\u001b[1;31m---------------------------------------------------------------------------\u001b[0m",
      "\u001b[1;31mKeyboardInterrupt\u001b[0m                         Traceback (most recent call last)",
      "Cell \u001b[1;32mIn[35], line 3\u001b[0m\n\u001b[0;32m      1\u001b[0m name \u001b[38;5;241m=\u001b[39m \u001b[38;5;124m\"\u001b[39m\u001b[38;5;124m\"\u001b[39m\n\u001b[0;32m      2\u001b[0m \u001b[38;5;28;01mwhile\u001b[39;00m name \u001b[38;5;241m!=\u001b[39m \u001b[38;5;124m\"\u001b[39m\u001b[38;5;124mfoo\u001b[39m\u001b[38;5;124m\"\u001b[39m :\n\u001b[1;32m----> 3\u001b[0m     name \u001b[38;5;241m=\u001b[39m \u001b[38;5;28minput\u001b[39m(\u001b[38;5;124m\"\u001b[39m\u001b[38;5;124mWhat is your name\u001b[39m\u001b[38;5;124m\"\u001b[39m)\n\u001b[0;32m      4\u001b[0m     \u001b[38;5;28mprint\u001b[39m(\u001b[38;5;124mf\u001b[39m\u001b[38;5;124m\"\u001b[39m\u001b[38;5;124mhi~ \u001b[39m\u001b[38;5;132;01m{\u001b[39;00mname\u001b[38;5;132;01m}\u001b[39;00m\u001b[38;5;124m!! \u001b[39m\u001b[38;5;124m'\u001b[39m\u001b[38;5;124mwhere is foo?\u001b[39m\u001b[38;5;124m'\u001b[39m\u001b[38;5;124m\"\u001b[39m)\n",
      "File \u001b[1;32m~\\anaconda3\\Lib\\site-packages\\ipykernel\\kernelbase.py:1282\u001b[0m, in \u001b[0;36mKernel.raw_input\u001b[1;34m(self, prompt)\u001b[0m\n\u001b[0;32m   1280\u001b[0m     msg \u001b[38;5;241m=\u001b[39m \u001b[38;5;124m\"\u001b[39m\u001b[38;5;124mraw_input was called, but this frontend does not support input requests.\u001b[39m\u001b[38;5;124m\"\u001b[39m\n\u001b[0;32m   1281\u001b[0m     \u001b[38;5;28;01mraise\u001b[39;00m StdinNotImplementedError(msg)\n\u001b[1;32m-> 1282\u001b[0m \u001b[38;5;28;01mreturn\u001b[39;00m \u001b[38;5;28mself\u001b[39m\u001b[38;5;241m.\u001b[39m_input_request(\n\u001b[0;32m   1283\u001b[0m     \u001b[38;5;28mstr\u001b[39m(prompt),\n\u001b[0;32m   1284\u001b[0m     \u001b[38;5;28mself\u001b[39m\u001b[38;5;241m.\u001b[39m_parent_ident[\u001b[38;5;124m\"\u001b[39m\u001b[38;5;124mshell\u001b[39m\u001b[38;5;124m\"\u001b[39m],\n\u001b[0;32m   1285\u001b[0m     \u001b[38;5;28mself\u001b[39m\u001b[38;5;241m.\u001b[39mget_parent(\u001b[38;5;124m\"\u001b[39m\u001b[38;5;124mshell\u001b[39m\u001b[38;5;124m\"\u001b[39m),\n\u001b[0;32m   1286\u001b[0m     password\u001b[38;5;241m=\u001b[39m\u001b[38;5;28;01mFalse\u001b[39;00m,\n\u001b[0;32m   1287\u001b[0m )\n",
      "File \u001b[1;32m~\\anaconda3\\Lib\\site-packages\\ipykernel\\kernelbase.py:1325\u001b[0m, in \u001b[0;36mKernel._input_request\u001b[1;34m(self, prompt, ident, parent, password)\u001b[0m\n\u001b[0;32m   1322\u001b[0m \u001b[38;5;28;01mexcept\u001b[39;00m \u001b[38;5;167;01mKeyboardInterrupt\u001b[39;00m:\n\u001b[0;32m   1323\u001b[0m     \u001b[38;5;66;03m# re-raise KeyboardInterrupt, to truncate traceback\u001b[39;00m\n\u001b[0;32m   1324\u001b[0m     msg \u001b[38;5;241m=\u001b[39m \u001b[38;5;124m\"\u001b[39m\u001b[38;5;124mInterrupted by user\u001b[39m\u001b[38;5;124m\"\u001b[39m\n\u001b[1;32m-> 1325\u001b[0m     \u001b[38;5;28;01mraise\u001b[39;00m \u001b[38;5;167;01mKeyboardInterrupt\u001b[39;00m(msg) \u001b[38;5;28;01mfrom\u001b[39;00m\u001b[38;5;250m \u001b[39m\u001b[38;5;28;01mNone\u001b[39;00m\n\u001b[0;32m   1326\u001b[0m \u001b[38;5;28;01mexcept\u001b[39;00m \u001b[38;5;167;01mException\u001b[39;00m:\n\u001b[0;32m   1327\u001b[0m     \u001b[38;5;28mself\u001b[39m\u001b[38;5;241m.\u001b[39mlog\u001b[38;5;241m.\u001b[39mwarning(\u001b[38;5;124m\"\u001b[39m\u001b[38;5;124mInvalid Message:\u001b[39m\u001b[38;5;124m\"\u001b[39m, exc_info\u001b[38;5;241m=\u001b[39m\u001b[38;5;28;01mTrue\u001b[39;00m)\n",
      "\u001b[1;31mKeyboardInterrupt\u001b[0m: Interrupted by user"
     ]
    }
   ],
   "source": [
    "name = \"\"\n",
    "while name != \"foo\" :\n",
    "    name = input(\"What is your name\")\n",
    "    print(f\"hi~ {name}!! 'where is foo?'\")"
   ]
  },
  {
   "cell_type": "code",
   "execution_count": null,
   "id": "71f76eca-0a1a-46dd-999f-b8e9f9e93b46",
   "metadata": {},
   "outputs": [],
   "source": [
    "# 1 ~ 10 까지의 숫자에 대해 모두 더한 값을 출력하는 프로그램을  for 문을 활용해서 작성해주세요"
   ]
  },
  {
   "cell_type": "code",
   "execution_count": 36,
   "id": "5fcf8caf-e061-4e7c-a8d9-648c80decba5",
   "metadata": {},
   "outputs": [
    {
     "name": "stdout",
     "output_type": "stream",
     "text": [
      "2\n",
      "3\n",
      "4\n",
      "5\n",
      "6\n",
      "7\n",
      "8\n",
      "9\n",
      "10\n",
      "11\n"
     ]
    }
   ],
   "source": [
    "for num in range(1, 11) :\n",
    "    print(num+1)"
   ]
  },
  {
   "cell_type": "code",
   "execution_count": null,
   "id": "546d7417-9582-42c2-bd99-8f4f337ede0d",
   "metadata": {},
   "outputs": [],
   "source": [
    "# 사용자부터 2 ~ 9 사이의 숫자를 입력받은 수 해당 숫자에 대한 구구단을 출력해주세요 \n",
    "# 사용자에게 값을 받는다 \n",
    "# 사용자에게 받은 값을 변수에 넣고, 해당 변수의 값을 가지고 반복적으로 1 ~ 9 까지 곱해준다\n",
    "# 1 ~ 10 까지 반복적으로 곱해주기 위해서 반복문을 사용한다 \n",
    "# 반복문을 사용하기 위해서 range(1, 10) 함수 및 인자값을 사용한다 "
   ]
  },
  {
   "cell_type": "code",
   "execution_count": 38,
   "id": "6b415a3a-03b3-4276-a158-76cb742e1eaa",
   "metadata": {},
   "outputs": [
    {
     "name": "stdin",
     "output_type": "stream",
     "text": [
      "구구단을 위한 숫자를 입력해주세요 12\n"
     ]
    },
    {
     "name": "stdout",
     "output_type": "stream",
     "text": [
      "2부터 9 사이의 숫자만 입력\n"
     ]
    }
   ],
   "source": [
    "data = int(input(\"구구단을 위한 숫자를 입력해주세요\"))\n",
    "\n",
    "if data >= 2 and data <= 9 :\n",
    "    for digit in range(1, 10) :\n",
    "        print(f\"{data} x {digit} = {data * digit}\")\n",
    "else :\n",
    "    print(\"2부터 9 사이의 숫자만 입력\")"
   ]
  },
  {
   "cell_type": "code",
   "execution_count": null,
   "id": "becf93c8-c6ff-451d-9f9d-73b6a45ce560",
   "metadata": {},
   "outputs": [],
   "source": [
    "# name = \"[dave], [david], [andy], [julliet]\"\n",
    "# 위 name이라는 변수안에 담긴 값을 다음처럼 출력해주세요 \n",
    "    # dave \n",
    "    # david\n",
    "    # andy\n",
    "    # juliet"
   ]
  },
  {
   "cell_type": "code",
   "execution_count": 48,
   "id": "b3b4c6ce-55a6-4a59-96e0-ad1eeb1a3398",
   "metadata": {},
   "outputs": [
    {
     "name": "stdout",
     "output_type": "stream",
     "text": [
      "dave, david, andy, julliet\n"
     ]
    }
   ],
   "source": [
    "name = \"[dave], [david], [andy], [julliet]\"\n",
    "print(name.replace(\"[\", \"\").replace(\"]\", \"\"))"
   ]
  },
  {
   "cell_type": "code",
   "execution_count": 52,
   "id": "2197ee15-b972-4b6f-87ab-2d8fc11563d8",
   "metadata": {},
   "outputs": [
    {
     "name": "stdout",
     "output_type": "stream",
     "text": [
      "dave\n",
      "[david\n",
      "[andy\n",
      "[julliet\n"
     ]
    }
   ],
   "source": [
    "name = \"[dave], [david], [andy], [julliet]\"\n",
    "\n",
    "name01 = name.split(\",\")\n",
    "for str_name in name01 :\n",
    "    print(str_name[1:-1])"
   ]
  },
  {
   "cell_type": "code",
   "execution_count": null,
   "id": "629dc047-3cad-49aa-b724-79ed9d419594",
   "metadata": {},
   "outputs": [],
   "source": [
    "# 1부터 30까지의 숫자 중 3의 배수만 출력해주세요 (while문을 활용해서 값을 도출하세요)"
   ]
  },
  {
   "cell_type": "code",
   "execution_count": 59,
   "id": "2a5c5b96-8052-4b95-acb3-e88b58852051",
   "metadata": {},
   "outputs": [
    {
     "name": "stdout",
     "output_type": "stream",
     "text": [
      "3\n",
      "6\n",
      "9\n",
      "12\n",
      "15\n",
      "18\n",
      "21\n",
      "24\n",
      "27\n",
      "30\n"
     ]
    }
   ],
   "source": [
    "num = 0\n",
    "\n",
    "while num < 30 :\n",
    "    num += 1\n",
    "    if num % 3 == 0 :\n",
    "        print(num)\n",
    "    "
   ]
  },
  {
   "cell_type": "code",
   "execution_count": 58,
   "id": "0491bd4a-9172-4734-8e75-0e695f8e3759",
   "metadata": {},
   "outputs": [
    {
     "name": "stdout",
     "output_type": "stream",
     "text": [
      "3\n",
      "6\n",
      "9\n",
      "12\n",
      "15\n",
      "18\n",
      "21\n",
      "24\n",
      "27\n",
      "30\n"
     ]
    }
   ],
   "source": [
    "for num in range(1, 31):\n",
    "    if num % 3 == 0 :\n",
    "        print(num)"
   ]
  },
  {
   "cell_type": "code",
   "execution_count": null,
   "id": "506e6af4-b642-4027-9890-8daeada19634",
   "metadata": {},
   "outputs": [],
   "source": [
    "# 다음 리스트 자료구조에서 음수값은 삭제하고, 양수값만 가지고 있는 새로운 리스트 변수로 만들어서 출력해주세요 "
   ]
  },
  {
   "cell_type": "code",
   "execution_count": 64,
   "id": "e0fa4ca4-0b7a-4c50-aa70-dbf0b184b8f2",
   "metadata": {},
   "outputs": [
    {
     "data": {
      "text/plain": [
       "[0, 31, 22, 33]"
      ]
     },
     "execution_count": 64,
     "metadata": {},
     "output_type": "execute_result"
    }
   ],
   "source": [
    "num_list = [0, -11, 31, 22, -11, 33, -44, -55]\n",
    "new_list = list()\n",
    "for num in num_list :\n",
    "    if num >= 0 :\n",
    "        new_list.append(num)\n",
    "\n",
    "new_list\n",
    "\n"
   ]
  },
  {
   "cell_type": "code",
   "execution_count": 70,
   "id": "535b4632-6a18-4cf2-80fb-6ffb19230a45",
   "metadata": {},
   "outputs": [
    {
     "name": "stdout",
     "output_type": "stream",
     "text": [
      "4\n",
      "3\n",
      "6\n",
      "4\n"
     ]
    }
   ],
   "source": [
    "#아래 리스트에 있는 데이터들의 길이를 출력해주세요 (단 1줄에 1개씩 구분해서 출력)\n",
    "# list_data = [\"java\", \"C++\", \"Python\", \"node\"]\n",
    "\n",
    "list_data = [\"java\", \"C++\", \"Python\", \"node\"]\n",
    "for data in list_data :\n",
    "    print(len(data))\n"
   ]
  },
  {
   "cell_type": "code",
   "execution_count": 74,
   "id": "3d8ba1df-72ff-4800-934c-7e816e699d34",
   "metadata": {},
   "outputs": [
    {
     "name": "stdin",
     "output_type": "stream",
     "text": [
      "이름이 무엇입니까 형원\n",
      "이름이 무엇입니까 우원형\n",
      "이름이 무엇입니까 우원실\n"
     ]
    },
    {
     "name": "stdout",
     "output_type": "stream",
     "text": [
      "입력한 친구들: ['형원', '우원형', '우원실']\n"
     ]
    }
   ],
   "source": [
    "friends = []\n",
    "\n",
    "for i in range(3) :\n",
    "    name = input(\"이름이 무엇입니까\")\n",
    "    friends.append(name)\n",
    "print(f\"입력한 친구들: {friends}\")\n",
    "        \n",
    "    \n",
    "    "
   ]
  },
  {
   "cell_type": "code",
   "execution_count": 78,
   "id": "a830f923-0c11-4043-9f98-54ee337998fd",
   "metadata": {},
   "outputs": [
    {
     "name": "stdin",
     "output_type": "stream",
     "text": [
      "숫자를 입력하세요 21\n"
     ]
    },
    {
     "name": "stdout",
     "output_type": "stream",
     "text": [
      "숫자없음\n"
     ]
    },
    {
     "name": "stdin",
     "output_type": "stream",
     "text": [
      "숫자를 입력하세요 22\n"
     ]
    },
    {
     "name": "stdout",
     "output_type": "stream",
     "text": [
      "짝수 : [22]\n"
     ]
    },
    {
     "name": "stdin",
     "output_type": "stream",
     "text": [
      "숫자를 입력하세요 15\n"
     ]
    },
    {
     "name": "stdout",
     "output_type": "stream",
     "text": [
      "숫자없음\n"
     ]
    },
    {
     "name": "stdin",
     "output_type": "stream",
     "text": [
      "숫자를 입력하세요 46\n"
     ]
    },
    {
     "name": "stdout",
     "output_type": "stream",
     "text": [
      "짝수 : [22, 46]\n"
     ]
    },
    {
     "name": "stdin",
     "output_type": "stream",
     "text": [
      "숫자를 입력하세요 12\n"
     ]
    },
    {
     "name": "stdout",
     "output_type": "stream",
     "text": [
      "짝수 : [22, 46, 12]\n"
     ]
    }
   ],
   "source": [
    "num = []\n",
    "\n",
    "for i in range(5) :\n",
    "    Q1 = int(input(\"숫자를 입력하세요\"))\n",
    "    if Q1 % 2 == 0 :\n",
    "        num.append(Q1)\n",
    "        print(f\"짝수 : {num}\")\n",
    "\n",
    "    else: \n",
    "        print(\"숫자없음\")"
   ]
  },
  {
   "cell_type": "code",
   "execution_count": 88,
   "id": "bdecef3f-4b9e-4321-b5bd-bb45e39780fd",
   "metadata": {},
   "outputs": [
    {
     "name": "stdout",
     "output_type": "stream",
     "text": [
      "execise01\n",
      "execise02\n",
      "execise03\n",
      "execise04\n"
     ]
    }
   ],
   "source": [
    "filelist = [\"execise01.docx\", \"execise02.docx\", \"execise03.docx\", \"execise04.docx\"]\n",
    "\n",
    "for filename in filelist :\n",
    "    print(filename.split(\".\")[0])"
   ]
  },
  {
   "cell_type": "code",
   "execution_count": 92,
   "id": "adafedca-4cbc-4eb5-814e-38c7f038dad7",
   "metadata": {},
   "outputs": [
    {
     "name": "stdout",
     "output_type": "stream",
     "text": [
      "execise01.txt\n"
     ]
    }
   ],
   "source": [
    "filelist = [\"execise01.docx\", \"execise01.csv\", \"execise01.txt\"]\n",
    "for exe in filelist :\n",
    "    if exe.split(\".\")[1] == \"txt\" :\n",
    "        print(exe)"
   ]
  },
  {
   "cell_type": "code",
   "execution_count": null,
   "id": "7fc78db1-25eb-4a0d-976b-acf29997ee26",
   "metadata": {},
   "outputs": [],
   "source": []
  }
 ],
 "metadata": {
  "kernelspec": {
   "display_name": "Python [conda env:base] *",
   "language": "python",
   "name": "conda-base-py"
  },
  "language_info": {
   "codemirror_mode": {
    "name": "ipython",
    "version": 3
   },
   "file_extension": ".py",
   "mimetype": "text/x-python",
   "name": "python",
   "nbconvert_exporter": "python",
   "pygments_lexer": "ipython3",
   "version": "3.13.5"
  }
 },
 "nbformat": 4,
 "nbformat_minor": 5
}
