{
 "cells": [
  {
   "cell_type": "markdown",
   "id": "6cbea993-5080-4c53-886d-1752d0077207",
   "metadata": {},
   "source": [
    "# 구구단을 2단 부터 9단 까지 다음과 같이 출력해라 // 사용자에게 값을 받지 않는다\n",
    "\n",
    "1. 사용자에게 값을 받지 않고 어떻게 출력을 하라는거지?\n",
    "2. 그러면 내가 답을 정해주고 그냥 한번에 출력을 하라는 뜻인건가\n",
    "3. 그러면 내가 범위를 정해서 컴퓨터에게 줘야겠네?\n",
    "4. 그러면 변수를 gugu 와 dan 으로 정하자\n",
    "5. gugu 에게는 2단 부터 9까지만 출력될 수 있게 하고\n",
    "    -> for gugu in range(1,10)\n",
    "7. dan 에게는 1부터 9까지 곱할 수 있도록 해야겠지?\n",
    "   for dan in range(1,10)\n",
    "   합계를 어떻게 구하지? "
   ]
  },
  {
   "cell_type": "code",
   "execution_count": 14,
   "id": "b9c65ef6-9801-45ea-bb84-2bda6fa551ba",
   "metadata": {},
   "outputs": [
    {
     "name": "stdout",
     "output_type": "stream",
     "text": [
      "2 * 1\n",
      "2 * 2\n",
      "2 * 3\n",
      "2 * 4\n",
      "2 * 5\n",
      "2 * 6\n",
      "2 * 7\n",
      "2 * 8\n",
      "2 * 9\n",
      "3 * 1\n",
      "3 * 2\n",
      "3 * 3\n",
      "3 * 4\n",
      "3 * 5\n",
      "3 * 6\n",
      "3 * 7\n",
      "3 * 8\n",
      "3 * 9\n",
      "4 * 1\n",
      "4 * 2\n",
      "4 * 3\n",
      "4 * 4\n",
      "4 * 5\n",
      "4 * 6\n",
      "4 * 7\n",
      "4 * 8\n",
      "4 * 9\n",
      "5 * 1\n",
      "5 * 2\n",
      "5 * 3\n",
      "5 * 4\n",
      "5 * 5\n",
      "5 * 6\n",
      "5 * 7\n",
      "5 * 8\n",
      "5 * 9\n",
      "6 * 1\n",
      "6 * 2\n",
      "6 * 3\n",
      "6 * 4\n",
      "6 * 5\n",
      "6 * 6\n",
      "6 * 7\n",
      "6 * 8\n",
      "6 * 9\n",
      "7 * 1\n",
      "7 * 2\n",
      "7 * 3\n",
      "7 * 4\n",
      "7 * 5\n",
      "7 * 6\n",
      "7 * 7\n",
      "7 * 8\n",
      "7 * 9\n",
      "8 * 1\n",
      "8 * 2\n",
      "8 * 3\n",
      "8 * 4\n",
      "8 * 5\n",
      "8 * 6\n",
      "8 * 7\n",
      "8 * 8\n",
      "8 * 9\n",
      "9 * 1\n",
      "9 * 2\n",
      "9 * 3\n",
      "9 * 4\n",
      "9 * 5\n",
      "9 * 6\n",
      "9 * 7\n",
      "9 * 8\n",
      "9 * 9\n"
     ]
    }
   ],
   "source": [
    "for gugu in range(2,10) :\n",
    "    for dan in range(1,10) : \n",
    "        print(f\"{gugu} * {dan}\")\n",
    "    "
   ]
  }
 ],
 "metadata": {
  "kernelspec": {
   "display_name": "Python [conda env:base] *",
   "language": "python",
   "name": "conda-base-py"
  },
  "language_info": {
   "codemirror_mode": {
    "name": "ipython",
    "version": 3
   },
   "file_extension": ".py",
   "mimetype": "text/x-python",
   "name": "python",
   "nbconvert_exporter": "python",
   "pygments_lexer": "ipython3",
   "version": "3.13.5"
  }
 },
 "nbformat": 4,
 "nbformat_minor": 5
}
