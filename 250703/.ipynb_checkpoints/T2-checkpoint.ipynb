{
 "cells": [
  {
   "cell_type": "code",
   "execution_count": 2,
   "id": "15ff6f8c-2222-4e17-9a0c-af60c3164310",
   "metadata": {},
   "outputs": [
    {
     "name": "stdin",
     "output_type": "stream",
     "text": [
      "숫자를 입력하세요 2\n",
      "숫자를 입력하세요 31\n",
      "숫자를 입력하세요 65\n",
      "숫자를 입력하세요 15\n",
      "숫자를 입력하세요 81\n"
     ]
    },
    {
     "name": "stdout",
     "output_type": "stream",
     "text": [
      "입력한 짝수들: [2]\n"
     ]
    }
   ],
   "source": [
    "#숫자 5개를 입력받아서, 짝수만 리스트에 저장하고 출력하라 \n",
    "event = []\n",
    "\n",
    "for i in range(5) :\n",
    "    num = int(input(\"숫자를 입력하세요\"))\n",
    "    if num % 2 == 0 :\n",
    "        event.append(num)\n",
    "\n",
    "print(\"입력한 짝수들:\", event)"
   ]
  },
  {
   "cell_type": "code",
   "execution_count": 4,
   "id": "728f9a9a-eb0f-40f6-a195-e27407b23ab5",
   "metadata": {},
   "outputs": [
    {
     "name": "stdin",
     "output_type": "stream",
     "text": [
      "숫자 5개를 입력하세요 21\n",
      "숫자 5개를 입력하세요 64\n",
      "숫자 5개를 입력하세요 32\n",
      "숫자 5개를 입력하세요 15\n",
      "숫자 5개를 입력하세요 51\n"
     ]
    },
    {
     "name": "stdout",
     "output_type": "stream",
     "text": [
      "입력한 짝수들 : [21, 15, 51]\n"
     ]
    }
   ],
   "source": [
    "# 숫자를 5개 입력받아서 홀수만 입력하게 해라 \n",
    "\n",
    "hall = []\n",
    "\n",
    "for _ in range(5) :\n",
    "    Q1 = int(input(\"숫자 5개를 입력하세요\"))\n",
    "    if Q1 % 3 == 0 :\n",
    "        hall.append(Q1)\n",
    "print(f\"입력한 짝수들 : {hall}\")"
   ]
  },
  {
   "cell_type": "markdown",
   "id": "48fbd752-1e9f-42c1-8a35-ffe3d1292f39",
   "metadata": {},
   "source": [
    "# 10 보다 큰수만 리스트에 저장해라 \n",
    "1. 10보다 큰 수를 받기 위한 그릇을 만들어야한다\n",
    "2. 질문을 작성해야하는데 복수의 질문이니까 반복할 수 있는 질문을 생성해야한다\n",
    "3. 10보다 큰 수만 넣을 수 있도록 if 함수를 써서 조건을 정해야한다\n",
    "4. 받은 숫자중에 10보다 큰것을 미리 만든 변수 그릇에 추가하도록 한다\n",
    "5. 프린트한다 "
   ]
  },
  {
   "cell_type": "code",
   "execution_count": 6,
   "id": "717df53e-86b1-4a0f-95c3-db174fb196f2",
   "metadata": {},
   "outputs": [
    {
     "name": "stdin",
     "output_type": "stream",
     "text": [
      "숫자를 입력하세요 11\n",
      "숫자를 입력하세요 13\n",
      "숫자를 입력하세요 5\n",
      "숫자를 입력하세요 4\n",
      "숫자를 입력하세요 6\n"
     ]
    },
    {
     "name": "stdout",
     "output_type": "stream",
     "text": [
      "당신의 숫자중 10보다 큰 숫자는 [11, 13]\n"
     ]
    }
   ],
   "source": [
    "big = []\n",
    "\n",
    "for _ in range(5) :\n",
    "    Q1 = int(input(\"숫자를 입력하세요\"))\n",
    "    if Q1 > 10 :\n",
    "        big.append(Q1)\n",
    "print(f\"당신의 숫자중 10보다 큰 숫자는 {big}\")\n",
    "        "
   ]
  },
  {
   "cell_type": "markdown",
   "id": "2e0ec7a0-79f9-40f6-bb96-880da58e8285",
   "metadata": {},
   "source": [
    "#짝수는 짝수 리스트에 홀수는 홀수 리스트에 \n",
    "1. 일단 짝수를 받을 변수그릇과 홀수를 받을 변수 그릇을 만든다\n",
    "2. 질문을 5번 반복할 수 있도록 질문반복문을 만든다\n",
    "3. 그다음에 조건을 짝수만 받았을때는 짝수 그릇에만 담을 수 있도록 만든다\n",
    "4. 조건을 홀수만 받았을때는 홀수 그릇에만 담을 수 있도록 만든다\n",
    "5. 그러면 프린트를 한번에 해야겠구나 짝수는 이렇게 홀수는 이렇게 "
   ]
  },
  {
   "cell_type": "code",
   "execution_count": 11,
   "id": "4d1a85dc-31e0-4a4c-9434-3184c5139a19",
   "metadata": {},
   "outputs": [
    {
     "name": "stdin",
     "output_type": "stream",
     "text": [
      "숫자를 넣어주세용 1\n",
      "숫자를 넣어주세용 3\n",
      "숫자를 넣어주세용 5\n",
      "숫자를 넣어주세용 12\n",
      "숫자를 넣어주세용 46\n"
     ]
    },
    {
     "name": "stdout",
     "output_type": "stream",
     "text": [
      "짝수는 [12, 46], 홀수는 [1, 3, 5] 입니다\n"
     ]
    }
   ],
   "source": [
    "zzak = []\n",
    "hall = []\n",
    "\n",
    "for _ in range(5) : \n",
    "    Q1 = int(input(\"숫자를 넣어주세용\"))\n",
    "    if Q1 % 2 == 0 :\n",
    "        zzak.append(Q1)\n",
    "    else:\n",
    "        hall.append(Q1)\n",
    "print(f\"짝수는 {zzak}, 홀수는 {hall} 입니다\")"
   ]
  },
  {
   "cell_type": "markdown",
   "id": "98c38e37-2657-4592-a3c7-8f3d92a41000",
   "metadata": {},
   "source": [
    "음식 리스트에서 5개를 받고 5글자 이상만 저장해라 \n",
    "\n",
    "1. 일단 음식리스트를 받을 변수그릇을 만들어야한다\n",
    "2. 그다음에 5번 반복 질문할 수 있는 반복 함수 질문을 만든다\n",
    "3. 그다음에 5글자만 받을 수 있는 조건문을 만든다\n",
    "4. 그다음에 만든 그릇에 그 솔팅한 질문을 담는다\n",
    "5. 그다음 출력한다 "
   ]
  },
  {
   "cell_type": "code",
   "execution_count": 13,
   "id": "3738e2ff-e354-41c8-a41a-e36d03d9b237",
   "metadata": {},
   "outputs": [
    {
     "name": "stdin",
     "output_type": "stream",
     "text": [
      "음식 이름을 입력하세요 오코노미야끼\n",
      "음식 이름을 입력하세요 카레\n",
      "음식 이름을 입력하세요 탕수육\n",
      "음식 이름을 입력하세요 평양냉면불고기\n",
      "음식 이름을 입력하세요 교촌허니오리지날\n"
     ]
    },
    {
     "name": "stdout",
     "output_type": "stream",
     "text": [
      "['오코노미야끼', '평양냉면불고기', '교촌허니오리지날']\n"
     ]
    }
   ],
   "source": [
    "food = []\n",
    "for _ in range(5) :\n",
    "    Q1 = input(\"음식 이름을 입력하세요\")\n",
    "    if len(Q1) > 5 :\n",
    "        food.append(Q1)\n",
    "print(f\"{food}\")"
   ]
  },
  {
   "cell_type": "code",
   "execution_count": null,
   "id": "760cbe1c-5df3-4de3-9754-fbbe9535d0dc",
   "metadata": {},
   "outputs": [],
   "source": []
  },
  {
   "cell_type": "code",
   "execution_count": null,
   "id": "8016d498-be20-4626-be93-d6c88fdb1fa7",
   "metadata": {},
   "outputs": [],
   "source": []
  }
 ],
 "metadata": {
  "kernelspec": {
   "display_name": "Python [conda env:base] *",
   "language": "python",
   "name": "conda-base-py"
  },
  "language_info": {
   "codemirror_mode": {
    "name": "ipython",
    "version": 3
   },
   "file_extension": ".py",
   "mimetype": "text/x-python",
   "name": "python",
   "nbconvert_exporter": "python",
   "pygments_lexer": "ipython3",
   "version": "3.13.5"
  }
 },
 "nbformat": 4,
 "nbformat_minor": 5
}
