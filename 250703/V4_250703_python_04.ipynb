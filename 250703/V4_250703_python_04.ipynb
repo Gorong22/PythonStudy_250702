{
 "cells": [
  {
   "cell_type": "code",
   "execution_count": 2,
   "id": "449eb863-d1ef-4fac-8b4f-038054158e35",
   "metadata": {},
   "outputs": [
    {
     "name": "stdout",
     "output_type": "stream",
     "text": [
      "<class 'list'>\n",
      "<class 'tuple'>\n"
     ]
    }
   ],
   "source": [
    "listitems = []\n",
    "tupleitems = (1, 2, 3)\n",
    "\n",
    "print(type(listitems))\n",
    "print(type(tupleitems))"
   ]
  },
  {
   "cell_type": "code",
   "execution_count": 3,
   "id": "c4d1cab6-bf4a-4e35-806a-c26564288fa2",
   "metadata": {},
   "outputs": [
    {
     "name": "stdout",
     "output_type": "stream",
     "text": [
      "1\n",
      "2\n",
      "3\n"
     ]
    }
   ],
   "source": [
    "for item in tupleitems :\n",
    "    print(item)"
   ]
  },
  {
   "cell_type": "code",
   "execution_count": 10,
   "id": "b8cefa57-2edc-4698-99f4-7ab2e0c7f690",
   "metadata": {},
   "outputs": [
    {
     "name": "stdout",
     "output_type": "stream",
     "text": [
      "(1, 2, 3, 4)\n",
      "(1, 2, 3, 4, 3, 4)\n"
     ]
    }
   ],
   "source": [
    "#del tupleitems[1]\n",
    "#tupleitems.insert(4)\n",
    "#tupleitems[4] = 4\n",
    "\n",
    "tuple01 = (1, 2)\n",
    "tuple02 = (3, 4)\n",
    "\n",
    "print(tuple01 + tuple02)\n",
    "print(tuple01 + tuple02 *2)"
   ]
  },
  {
   "cell_type": "code",
   "execution_count": 11,
   "id": "4dd52dae-d7fd-48d5-a9a4-fbaa00546d2b",
   "metadata": {},
   "outputs": [],
   "source": [
    "x = 1\n",
    "y = 2"
   ]
  },
  {
   "cell_type": "code",
   "execution_count": 17,
   "id": "b990aa17-5594-42d1-92fc-af1d783a4662",
   "metadata": {},
   "outputs": [],
   "source": [
    "(x, y) = (y, x)"
   ]
  },
  {
   "cell_type": "code",
   "execution_count": 18,
   "id": "e8db5922-044c-440e-910c-2ad0f67d0d7c",
   "metadata": {},
   "outputs": [
    {
     "data": {
      "text/plain": [
       "2"
      ]
     },
     "execution_count": 18,
     "metadata": {},
     "output_type": "execute_result"
    }
   ],
   "source": [
    "x"
   ]
  },
  {
   "cell_type": "code",
   "execution_count": 27,
   "id": "45cf7495-71a2-4e66-85c8-ab1da42ea8c7",
   "metadata": {},
   "outputs": [],
   "source": [
    "def quot_and_rem(x, y) :\n",
    "    quot = x // y\n",
    "    rem = x % y \n",
    "    return (quot, rem)"
   ]
  },
  {
   "cell_type": "code",
   "execution_count": 23,
   "id": "53d0e07a-2a79-4ef0-810c-fb4c1c0de521",
   "metadata": {},
   "outputs": [],
   "source": [
    "(quot01, rem01) = quot_and_rem(10, 3)"
   ]
  },
  {
   "cell_type": "code",
   "execution_count": 26,
   "id": "d5fa91e3-29f9-4e5b-ba0a-e2b40f242c9e",
   "metadata": {},
   "outputs": [
    {
     "data": {
      "text/plain": [
       "int"
      ]
     },
     "execution_count": 26,
     "metadata": {},
     "output_type": "execute_result"
    }
   ],
   "source": [
    "type(quot01)"
   ]
  },
  {
   "cell_type": "code",
   "execution_count": 25,
   "id": "37a50258-359a-48cc-afb9-d2aca718bd62",
   "metadata": {},
   "outputs": [
    {
     "data": {
      "text/plain": [
       "1"
      ]
     },
     "execution_count": 25,
     "metadata": {},
     "output_type": "execute_result"
    }
   ],
   "source": [
    "rem01"
   ]
  },
  {
   "cell_type": "code",
   "execution_count": 35,
   "id": "f447f2a1-95b9-46d8-82de-a61840c31474",
   "metadata": {},
   "outputs": [
    {
     "data": {
      "text/plain": [
       "tuple"
      ]
     },
     "execution_count": 35,
     "metadata": {},
     "output_type": "execute_result"
    }
   ],
   "source": [
    "data1 = (1, 2, 3)\n",
    "type(data1)\n",
    "list(data1)\n",
    "type(data1)"
   ]
  }
 ],
 "metadata": {
  "kernelspec": {
   "display_name": "Python [conda env:base] *",
   "language": "python",
   "name": "conda-base-py"
  },
  "language_info": {
   "codemirror_mode": {
    "name": "ipython",
    "version": 3
   },
   "file_extension": ".py",
   "mimetype": "text/x-python",
   "name": "python",
   "nbconvert_exporter": "python",
   "pygments_lexer": "ipython3",
   "version": "3.13.5"
  }
 },
 "nbformat": 4,
 "nbformat_minor": 5
}
