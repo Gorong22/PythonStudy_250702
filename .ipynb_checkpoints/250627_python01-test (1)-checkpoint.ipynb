{
 "cells": [
  {
   "cell_type": "code",
   "execution_count": 1,
   "id": "844146f3-a0b3-46f9-814d-a7e967d3ea4e",
   "metadata": {},
   "outputs": [
    {
     "name": "stdout",
     "output_type": "stream",
     "text": [
      "hello world\n"
     ]
    }
   ],
   "source": [
    "print(\"hello world\")"
   ]
  },
  {
   "cell_type": "code",
   "execution_count": 8,
   "id": "408dad99-44da-487c-be95-3d83e0d82727",
   "metadata": {},
   "outputs": [
    {
     "name": "stdout",
     "output_type": "stream",
     "text": [
      "3.1\n"
     ]
    }
   ],
   "source": [
    "var = 3.1415\n",
    "\n",
    "print(format(var, \".1f\"))"
   ]
  },
  {
   "cell_type": "code",
   "execution_count": 10,
   "id": "51416610-8563-482e-9d32-b2572a05379d",
   "metadata": {},
   "outputs": [
    {
     "name": "stdout",
     "output_type": "stream",
     "text": [
      "<class 'str'>\n",
      "<class 'int'>\n"
     ]
    }
   ],
   "source": [
    "num1 = \"720\"\n",
    "print(type(num1))\n",
    "\n",
    "num2 = int(num1)\n",
    "print(type(num2))"
   ]
  },
  {
   "cell_type": "code",
   "execution_count": 13,
   "id": "83d454cf-3016-45d8-bc78-d9d54480856d",
   "metadata": {},
   "outputs": [
    {
     "name": "stdout",
     "output_type": "stream",
     "text": [
      "36\n"
     ]
    }
   ],
   "source": [
    "double = 6 ** 2\n",
    "print(double)"
   ]
  },
  {
   "cell_type": "code",
   "execution_count": 27,
   "id": "e6529365-52d6-4748-bc08-43dfb3f09f93",
   "metadata": {
    "scrolled": true
   },
   "outputs": [
    {
     "name": "stdin",
     "output_type": "stream",
     "text": [
      "당신의 첫번쨰 숫자를 적으셈 1\n",
      "당신의 두번째 숫자를 적으셈 1\n"
     ]
    },
    {
     "name": "stdout",
     "output_type": "stream",
     "text": [
      "당신이 적은 숫자의 합은 (user_num1+user_num2) 입니다\n"
     ]
    }
   ],
   "source": [
    "user_num1 = input (\"당신의 첫번쨰 숫자를 적으셈\")\n",
    "user_num2 = input (\"당신의 두번째 숫자를 적으셈\")\n",
    "print(\"당신이 적은 숫자의 합은 (user_num1+user_num2) 입니다\")\n",
    "\n"
   ]
  },
  {
   "cell_type": "code",
   "execution_count": 1,
   "id": "afbe6804-0c50-45bc-a6d3-d9d14adbe3eb",
   "metadata": {},
   "outputs": [
    {
     "name": "stdout",
     "output_type": "stream",
     "text": [
      "hello\n"
     ]
    }
   ],
   "source": [
    "text = \"hello\"\n",
    "print(text)"
   ]
  },
  {
   "cell_type": "code",
   "execution_count": 7,
   "id": "748fe7bd-e3f4-4c33-a5fd-ba8d64de569a",
   "metadata": {},
   "outputs": [
    {
     "name": "stdout",
     "output_type": "stream",
     "text": [
      "n\n"
     ]
    }
   ],
   "source": [
    "text1 = \"python\"\n",
    "print(text1[-1])"
   ]
  },
  {
   "cell_type": "code",
   "execution_count": 12,
   "id": "57983e1f-98a8-4b07-aaa4-cffa32e5bc15",
   "metadata": {},
   "outputs": [
    {
     "name": "stdout",
     "output_type": "stream",
     "text": [
      "7.89\n"
     ]
    }
   ],
   "source": [
    "score = 7.895\n",
    "print(format(score, \".2f\"))"
   ]
  },
  {
   "cell_type": "code",
   "execution_count": 34,
   "id": "944d86a4-356e-4814-8100-13950dacfe9b",
   "metadata": {},
   "outputs": [
    {
     "name": "stdin",
     "output_type": "stream",
     "text": [
      "첫번째 숫자를 입력하세요 1\n",
      "두번째 숫자를 입력하세요 1\n"
     ]
    },
    {
     "name": "stdout",
     "output_type": "stream",
     "text": [
      "당신이 적은 숫자의 합은 2 입니다\n"
     ]
    }
   ],
   "source": [
    "Q1 = input(\"첫번째 숫자를 입력하세요\") \n",
    "Q2 = input(\"두번째 숫자를 입력하세요\") \n",
    "\n",
    "A1 = int(Q1)\n",
    "A2 = int(Q2) \n",
    "\n",
    "print(f\"당신이 적은 숫자의 합은 {A1+A2} 입니다\")"
   ]
  },
  {
   "cell_type": "code",
   "execution_count": 38,
   "id": "3cf6f862-3554-42f7-9338-da3614a3af6e",
   "metadata": {},
   "outputs": [
    {
     "name": "stdin",
     "output_type": "stream",
     "text": [
      "문자열을 입력하세요 apple\n"
     ]
    },
    {
     "name": "stdout",
     "output_type": "stream",
     "text": [
      "세번째 글짜는 p 입니다\n"
     ]
    }
   ],
   "source": [
    "Q1 = input(\"문자열을 입력하세요\") \n",
    "print(f\"세번째 글짜는 {Q1[2]} 입니다\")"
   ]
  },
  {
   "cell_type": "code",
   "execution_count": 39,
   "id": "8d305b9a-6c92-4c28-a57a-4800b422dc9b",
   "metadata": {},
   "outputs": [
    {
     "name": "stdin",
     "output_type": "stream",
     "text": [
      "지금 하고싶은말을 적어주세요 hello\n"
     ]
    },
    {
     "name": "stdout",
     "output_type": "stream",
     "text": [
      "당신이 입력한 총 문자의 수는,5 입니다\n"
     ]
    }
   ],
   "source": [
    "Q1 = input(\"지금 하고싶은말을 적어주세요\")\n",
    "print(f\"당신이 입력한 총 문자의 수는,{len(Q1)} 입니다\")"
   ]
  },
  {
   "cell_type": "code",
   "execution_count": 46,
   "id": "215c05d6-a534-4520-9222-3f1d5427c33b",
   "metadata": {},
   "outputs": [
    {
     "name": "stdin",
     "output_type": "stream",
     "text": [
      "생각나는 소수를 입력해주세요 3.14159\n"
     ]
    },
    {
     "name": "stdout",
     "output_type": "stream",
     "text": [
      "당신이 입력한 소수점의 둘째 자리를 반올림하면 3.14 입니다\n"
     ]
    }
   ],
   "source": [
    "Q1 = input(\"생각나는 소수를 입력해주세요\")\n",
    "A1 = float(Q1)\n",
    "\n",
    "print(f\"당신이 입력한 소수점의 둘째 자리를 반올림하면 {format(A1, \".2f\")} 입니다\")"
   ]
  },
  {
   "cell_type": "code",
   "execution_count": 52,
   "id": "0391aaae-e067-4bdb-84a7-6a93bb788a4f",
   "metadata": {},
   "outputs": [
    {
     "name": "stdin",
     "output_type": "stream",
     "text": [
      "당신 지금 바나나 영어로 적는거 가능 banna\n"
     ]
    },
    {
     "name": "stdout",
     "output_type": "stream",
     "text": [
      "당신이 적은 바나나의 앞의 3글자는,n입니다\n"
     ]
    }
   ],
   "source": [
    "Q1 = input(\"당신 지금 바나나 영어로 적는거 가능\") \n",
    "del print\n",
    "print(f\"당신이 적은 바나나의 앞의 3글자는,{Q1[2]}입니다\")"
   ]
  },
  {
   "cell_type": "code",
   "execution_count": 53,
   "id": "4a7e4c7e-e54a-42c5-aa7f-eda1c918cec8",
   "metadata": {},
   "outputs": [
    {
     "name": "stdin",
     "output_type": "stream",
     "text": [
      "아무거나 영어로 적으세요 다 뒤집어줌요 apple\n"
     ]
    },
    {
     "name": "stdout",
     "output_type": "stream",
     "text": [
      "당신이 적은 단어를 뒤집으면elppa일꺼에요\n"
     ]
    }
   ],
   "source": [
    "Q1 = input(\"아무거나 영어로 적으세요 다 뒤집어줌요\")\n",
    "print(f\"당신이 적은 단어를 뒤집으면{Q1[::-1]}일꺼에요\")"
   ]
  },
  {
   "cell_type": "code",
   "execution_count": 54,
   "id": "21ca8996-2fe0-457d-9181-1a7b92624f0b",
   "metadata": {},
   "outputs": [
    {
     "name": "stdin",
     "output_type": "stream",
     "text": [
      "지금 당신의 머릿속의 떠오르는 숫자 한가지 입력하세요 135\n",
      "또 다른 숫자도 하나 더 입력해주세요 10394875\n"
     ]
    },
    {
     "name": "stdout",
     "output_type": "stream",
     "text": [
      "당신이 입력한 숫자의 총합은10395010입니다 맞지요?\n"
     ]
    }
   ],
   "source": [
    "# [문제 1} 숫자 두 개 더해서 출력하기 \n",
    "\n",
    "Q1 = input(\"지금 당신의 머릿속의 떠오르는 숫자 한가지 입력하세요\") \n",
    "Q2 = input(\"또 다른 숫자도 하나 더 입력해주세요\") \n",
    "\n",
    "A1 = int(Q1)\n",
    "A2 = int(Q2) \n",
    "\n",
    "print(f\"당신이 입력한 숫자의 총합은{A1+A2}입니다 맞지요?\")"
   ]
  },
  {
   "cell_type": "code",
   "execution_count": 60,
   "id": "e0dbea91-6110-4a38-89ec-ea5682cec2c0",
   "metadata": {},
   "outputs": [
    {
     "name": "stdin",
     "output_type": "stream",
     "text": [
      "글자수를 3글자 이상 작성해주세요 이형원입니다\n"
     ]
    },
    {
     "name": "stdout",
     "output_type": "stream",
     "text": [
      "당신이 적어주신 글자는이형원입니다입니다\n"
     ]
    }
   ],
   "source": [
    "# 문제2 세번째 글자 출력하기 \n",
    "# 사용자에게 문자열을 입력받고, 세 번째 글자를 출력하세요\n",
    "# 단, 글자 수가 3보다 적으면 \" 3글자 이상 입력해주세요!\" 출력! \n",
    "\n",
    "Q1 = input(\"글자수를 3글자 이상 작성해주세요\") \n",
    "if len(Q1) > 3:\n",
    "    print(f\"당신이 적어주신 글자는{Q1}입니다\")\n",
    "else: \n",
    "    print(\"3글자 이상 입력해주세요\") "
   ]
  },
  {
   "cell_type": "code",
   "execution_count": 64,
   "id": "8272e55f-85ac-4f72-b8ba-4613992ab408",
   "metadata": {},
   "outputs": [
    {
     "name": "stdin",
     "output_type": "stream",
     "text": [
      "글자수를 입력해주세요 ㅇㄹㄴ\n"
     ]
    },
    {
     "name": "stdout",
     "output_type": "stream",
     "text": [
      "잘적어주셨어요 당신이 적어주신 글자는 ㅇㄹㄴ이며, 총 글자수는 3입니다\n"
     ]
    }
   ],
   "source": [
    "#문제3 글자 수 세기 \n",
    "\n",
    "Q1 = input(\"글자수를 입력해주세요\")\n",
    "if len(Q1) < 5:\n",
    "    print(f\"잘적어주셨어요 당신이 적어주신 글자는 {Q1}이며, 총 글자수는 {len(Q1)}입니다\")\n",
    "else:\n",
    "    print(\"너무 많아요 5글자 미만 적어주세요\")"
   ]
  },
  {
   "cell_type": "code",
   "execution_count": 68,
   "id": "61061d20-4ecb-4e6a-a970-7c7e6b0f1fff",
   "metadata": {},
   "outputs": [
    {
     "name": "stdin",
     "output_type": "stream",
     "text": [
      "소수점 숫자를 적어주세요 3.12312345\n"
     ]
    },
    {
     "name": "stdout",
     "output_type": "stream",
     "text": [
      "둘째 자리까지 반올림한 값은 3.123123입니다\n"
     ]
    }
   ],
   "source": [
    "# 문제4 소수 둘째 자리까지 반올림하기 \n",
    "\n",
    "Q1 = input(\"소수점 숫자를 적어주세요\") \n",
    "A1 = float(Q1) \n",
    "\n",
    "if '.' in Q1 and len(Q1.split('.')[1])>= 2:\n",
    "    print(f\"둘째 자리까지 반올림한 값은 {format(A1,\"-2f\")}입니다\") \n",
    "else:\n",
    "    print(\"소수점 둘쨰 자리까지 입력해주세요\")"
   ]
  },
  {
   "cell_type": "code",
   "execution_count": 71,
   "id": "b5a93bce-2b6a-4c30-a8ac-e5e36629de5c",
   "metadata": {},
   "outputs": [
    {
     "name": "stdin",
     "output_type": "stream",
     "text": [
      "아무 단어나 적으셈 xclvkjxcvoie,,ckdnsldiofn\n"
     ]
    },
    {
     "name": "stdout",
     "output_type": "stream",
     "text": [
      "니가 적은 단어를 뒤집어볼게 nfoidlsndkc,,eiovcxjkvlcx 맞지?\n"
     ]
    }
   ],
   "source": [
    "#문제5 글자수 뒤집어\n",
    "\n",
    "Q1 = input(\"아무 단어나 적으셈\") \n",
    "print(f\"니가 적은 단어를 뒤집어볼게 {Q1[::-1]} 맞지?\")"
   ]
  },
  {
   "cell_type": "code",
   "execution_count": 74,
   "id": "76228ae2-fa23-4cc7-a2ec-d464f7946129",
   "metadata": {},
   "outputs": [
    {
     "name": "stdin",
     "output_type": "stream",
     "text": [
      "글자수 입력하셈요 안녕하세요 감사해요 잘있어요\n"
     ]
    },
    {
     "name": "stdout",
     "output_type": "stream",
     "text": [
      "많이도 적으셨네요 당신이 적은 글자는 안녕하세요 감사해요 잘있어요이며 총 글자수는 15 입니다\n"
     ]
    }
   ],
   "source": [
    "#문제5 심화 글자수 제한까지 \n",
    "\n",
    "Q1 = input(\"글자수 입력하셈요\") \n",
    "if len(Q1)>2:\n",
    "    print(f\"많이도 적으셨네요 당신이 적은 글자는 {Q1}이며 총 글자수는 {len(Q1)} 입니다\")\n",
    "else:\n",
    "    print(f\"너무적게적음.. 2글자 이상 적으세요\")"
   ]
  },
  {
   "cell_type": "code",
   "execution_count": 2,
   "id": "b31e63a1-b7d0-4c7a-89a4-71c92cc2a9f2",
   "metadata": {},
   "outputs": [
    {
     "name": "stdout",
     "output_type": "stream",
     "text": [
      "t\n"
     ]
    }
   ],
   "source": [
    "word = \"Python\"\n",
    "print(word[2])"
   ]
  },
  {
   "cell_type": "code",
   "execution_count": 5,
   "id": "67b413cc-9d04-4f25-9d4e-0271b398efb9",
   "metadata": {},
   "outputs": [
    {
     "name": "stdout",
     "output_type": "stream",
     "text": [
      "데이터\n"
     ]
    }
   ],
   "source": [
    "sentence = \"데이터분석전문가\"\n",
    "print(sentence[0:3])"
   ]
  },
  {
   "cell_type": "code",
   "execution_count": 7,
   "id": "eb5185d0-c911-41c7-b09c-e08128053388",
   "metadata": {},
   "outputs": [
    {
     "name": "stdin",
     "output_type": "stream",
     "text": [
      "나이를 입력하세요 29\n"
     ]
    },
    {
     "name": "stdout",
     "output_type": "stream",
     "text": [
      "당신의 나이는 30 입니다요\n"
     ]
    }
   ],
   "source": [
    "num = input(\"나이를 입력하세요\") \n",
    "age = int(num)\n",
    "print(f\"당신의 나이는 {age+1} 입니다요\")"
   ]
  },
  {
   "cell_type": "code",
   "execution_count": null,
   "id": "20b6a6ca-b66e-423f-a6ca-ac01b5ad75e6",
   "metadata": {},
   "outputs": [],
   "source": []
  }
 ],
 "metadata": {
  "kernelspec": {
   "display_name": "Python [conda env:base] *",
   "language": "python",
   "name": "conda-base-py"
  },
  "language_info": {
   "codemirror_mode": {
    "name": "ipython",
    "version": 3
   },
   "file_extension": ".py",
   "mimetype": "text/x-python",
   "name": "python",
   "nbconvert_exporter": "python",
   "pygments_lexer": "ipython3",
   "version": "3.13.5"
  }
 },
 "nbformat": 4,
 "nbformat_minor": 5
}
