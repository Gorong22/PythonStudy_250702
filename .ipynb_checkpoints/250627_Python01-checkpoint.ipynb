{
 "cells": [
  {
   "cell_type": "markdown",
   "id": "62d94de4-dc45-4b36-8231-b36c2507ca8b",
   "metadata": {},
   "source": [
    "# 파이썬 기초문법 할꺼임요 \n",
    "\n",
    "- 아래 셀추가 b 위에 셀 추가 a\n",
    "\n",
    "### 1. 변수\n",
    "\n",
    "### 2.내장함수 (*어딘가에 내포가 되어있다 Built-in Function)\n",
    "- print()\n",
    "\n",
    "- Input()\n",
    "\n",
    "- type()\n",
    "\n",
    "### 3.연산자 ( 사칙연산 // 비교연산)\n",
    "\n",
    "### 4.자료타입\n",
    "- string\n",
    "- int\n",
    "- float\n",
    "- boolean\n",
    "### 5.형변환\n",
    "- int()\n",
    "- float()\n",
    "- str()\n",
    "### 6. F-string\n",
    "- f\"문자열(변수)\"\n",
    "\n",
    "### 6. 문자열 매서드 함수\n",
    "- \"\"\" \"\"\"\n",
    "- \\n\n",
    "- len()\n",
    "- find()\n",
    "- replace()\n",
    "- strip()\n",
    "- format() => 유의사항 !! 단독으로 쓰일떄와 함께 쓸때가 다르다 \n",
    "- [index]\n",
    "- [index:index"
   ]
  },
  {
   "cell_type": "markdown",
   "id": "ac940c39-51bb-47d6-8c6c-6e6e03ee3c0a",
   "metadata": {},
   "source": [
    "# 단축기 \n",
    "# A(above) 위쪾 셀 추가 \n",
    "# B(below) 아래쪽에 셀 추가 \n",
    "# dd : 셀 삭제 \n",
    "# 되돌리기 : CTR + z\n",
    "# 행 바꿈 ( 개행 ) \n",
    "# 줄바꿈 enter \n",
    "# 셀 실행 ctr + enter "
   ]
  },
  {
   "cell_type": "code",
   "execution_count": 14,
   "id": "dd5dc6fa-7c65-490c-8bff-c8cae700b1d9",
   "metadata": {},
   "outputs": [
    {
     "name": "stdout",
     "output_type": "stream",
     "text": [
      "1\n"
     ]
    }
   ],
   "source": [
    "num = 1 \n",
    "\n",
    "# num -> 변수 ( 어떤 값을 담을 수 있는 그릇 ) \n",
    "# Snake 표기법 => hello_world \n",
    "# Camel 표기법 => helloWorld (*추천)\n",
    "# Hungarian 표기법 => HelloWorld\n",
    "# 변수의 이름이 숫자로 시작되서는 절대 안됨 (*반드시) --> 파이썬이 숫자로 인식하여 계산법에 오류가 남\n",
    "# num 이라는 변수 안에 1이라는 값을 할당 했다\n",
    "print(num) \n",
    "# print () => 함수 (#Function : 기능)\n",
    "# print라는 함수안에 num이라는 변수값을 인자(argment)값으로 사용했다 "
   ]
  },
  {
   "cell_type": "code",
   "execution_count": 17,
   "id": "486e2359-6de1-43d3-8e85-b916eb174979",
   "metadata": {},
   "outputs": [
    {
     "name": "stdout",
     "output_type": "stream",
     "text": [
      "Hello Hello\n"
     ]
    }
   ],
   "source": [
    "print(\"Hello Hello\")"
   ]
  },
  {
   "cell_type": "code",
   "execution_count": 19,
   "id": "d4867118-e65d-43a5-b2c7-623ab61c46f7",
   "metadata": {},
   "outputs": [
    {
     "name": "stdout",
     "output_type": "stream",
     "text": [
      "<class 'int'>\n",
      "<class 'str'>\n"
     ]
    }
   ],
   "source": [
    "# 자료타입이 왜 중요한가? \n",
    "print(type(1))\n",
    "# 알트 시프트 아래 (복제) 단축기\n",
    "print(type(\"1\"))"
   ]
  },
  {
   "cell_type": "code",
   "execution_count": 24,
   "id": "37ce0e1e-bf72-42bd-81b1-a30201013ab9",
   "metadata": {},
   "outputs": [
    {
     "name": "stdout",
     "output_type": "stream",
     "text": [
      "10\n",
      "4\n",
      "21\n",
      "2.3333333333333335\n",
      "50\n"
     ]
    }
   ],
   "source": [
    "# 연산기능 \n",
    "num01 = 3\n",
    "num02 = 7\n",
    "\n",
    "print(num01 + num02)\n",
    "print(num02 - num01)\n",
    "print(num01 * num02)\n",
    "print(num02 / num01)\n",
    "print((7 + 3) * 5)"
   ]
  },
  {
   "cell_type": "code",
   "execution_count": 28,
   "id": "ed162460-60ea-4247-a784-d363c50748ee",
   "metadata": {},
   "outputs": [
    {
     "name": "stdout",
     "output_type": "stream",
     "text": [
      "2.142857142857143\n",
      "2\n",
      "1\n",
      "8\n"
     ]
    }
   ],
   "source": [
    "print(15 / 7 ) # 나누기 연산자\n",
    "print(15 // 7 )# 나누기 후 몫의 값을 정수로 찾아 주는 연산자 \n",
    "print(15 % 7) # 나머지 연산자\n",
    "print(2 ** 3)"
   ]
  },
  {
   "cell_type": "code",
   "execution_count": 29,
   "id": "ba1b36ec-f280-459b-a4a3-8a427a96dcba",
   "metadata": {},
   "outputs": [
    {
     "name": "stdout",
     "output_type": "stream",
     "text": [
      "<class 'str'> <class 'int'> <class 'float'> <class 'bool'>\n"
     ]
    }
   ],
   "source": [
    "str_data =\"Hello\" # 문자열\n",
    "int_data = 1 # 정수\n",
    "float_data = 1.1 # 부동소수\n",
    "boll_data = True # 논리형\n",
    "\n",
    "print(type(str_data), type(int_data), type(float_data), type(boll_data))"
   ]
  },
  {
   "cell_type": "code",
   "execution_count": 34,
   "id": "02889af3-d6d7-460a-8f2a-9609adefd2ae",
   "metadata": {},
   "outputs": [
    {
     "name": "stdout",
     "output_type": "stream",
     "text": [
      "200\n"
     ]
    }
   ],
   "source": [
    "digit1 = 10\n",
    "digit2 = 20\n",
    "name = \"won\"\n",
    "\n",
    "print(digit1 * digit2) # 동일한 자료형태의 경우에는 연산처리 가능!"
   ]
  },
  {
   "cell_type": "code",
   "execution_count": 36,
   "id": "024212db-a75b-41af-8745-f4402bfc2e5b",
   "metadata": {},
   "outputs": [
    {
     "name": "stdout",
     "output_type": "stream",
     "text": [
      "wonshil\n"
     ]
    }
   ],
   "source": [
    "name1 = \"won\"\n",
    "name2 = \"shil\"\n",
    "\n",
    "print(name1 + name2)"
   ]
  },
  {
   "cell_type": "code",
   "execution_count": 45,
   "id": "f6cbafd6-b08a-480a-9e19-be1a1b296e57",
   "metadata": {},
   "outputs": [
    {
     "name": "stdout",
     "output_type": "stream",
     "text": [
      "True\n",
      "False\n",
      "False\n",
      "True\n",
      "False\n",
      "True\n"
     ]
    }
   ],
   "source": [
    "num1 = 2 \n",
    "num2 = 4 \n",
    "\n",
    "print(num01 < num2)\n",
    "print(num01 > num2)\n",
    "print(num01 >= num2) # 같거나 크다 \n",
    "print(num01 <= num2) # 같거나 작다\n",
    "print(num01 == num2) # 값이 동일하다\n",
    "print(num01 != num2) # 느낌표는 not 이란 뜻 같지 않다 라는 뜻"
   ]
  },
  {
   "cell_type": "code",
   "execution_count": null,
   "id": "218453ed-b71b-4660-972a-e8c501fae2c5",
   "metadata": {},
   "outputs": [],
   "source": [
    "age = 24 \n",
    "name = \"Won\"\n",
    "height = 176\n",
    "weight = 80\n",
    "footSize = 260\n",
    "glass = True\n",
    "marriage = True\n",
    "gender = \"male\"\n",
    "hobby = \"guitar\"\n"
   ]
  },
  {
   "cell_type": "code",
   "execution_count": null,
   "id": "757793f9-9021-4537-92c9-87df00f89f33",
   "metadata": {},
   "outputs": [],
   "source": [
    "### 반지름 10인 변수를 선언하시고 해당 반지름을 기준으로 하는 원의 지름, 둘레, 넓이 변수로 선언 및 할당 출력 "
   ]
  },
  {
   "cell_type": "code",
   "execution_count": 56,
   "id": "210dd548-d1fc-4331-b1e8-5259b8122b9e",
   "metadata": {},
   "outputs": [
    {
     "name": "stdout",
     "output_type": "stream",
     "text": [
      "20 62.830000000000005 314.15000000000003\n",
      "반지름 ;  10 지름 ;  20 둘레 ;  62.830000000000005 널이 ;  314.15000000000003\n",
      "반지름 ; 10\n"
     ]
    }
   ],
   "source": [
    "ban = 10 \n",
    "jirum = ( ban * 2 ) \n",
    "pai = 3.1415 \n",
    "dulle = ( 2 * pai * ban) \n",
    "extent = ( pai * 10 ** 2 ) \n",
    "\n",
    "print(jirum, dulle, extent)\n",
    "print(\"반지름 ; \", ban, \"지름 ; \", jirum, \"둘레 ; \", dulle, \"널이 ; \", extent)\n",
    "print(f\"반지름 ; {ban}\") # F-String = Formated String"
   ]
  },
  {
   "cell_type": "code",
   "execution_count": 73,
   "id": "85ffadbd-d5a5-432c-8b65-23db6a6d5270",
   "metadata": {},
   "outputs": [
    {
     "name": "stdin",
     "output_type": "stream",
     "text": [
      "what is your name? 재ㅜ\n",
      "where are you from? Kkachimountine\n",
      "man or woman? man\n",
      "How old are you? 33\n"
     ]
    },
    {
     "name": "stdout",
     "output_type": "stream",
     "text": [
      "hi i'am 재ㅜ i'am from Kkachimountine my age is 33\n"
     ]
    }
   ],
   "source": [
    "name = input(\"what is your name?\")\n",
    "address = input(\"where are you from?\")\n",
    "gender = input(\"man or woman?\")\n",
    "age = int(input(\"How old are you?\"))\n",
    "\n",
    "print(f\"hi i'am {name} i'am from {address} my age is {age}\"  )"
   ]
  },
  {
   "cell_type": "code",
   "execution_count": 70,
   "id": "422b2395-31c7-4149-ab76-0def6d573f6a",
   "metadata": {},
   "outputs": [
    {
     "name": "stdin",
     "output_type": "stream",
     "text": [
      " 20\n",
      " 346\n"
     ]
    },
    {
     "name": "stdout",
     "output_type": "stream",
     "text": [
      "6920\n"
     ]
    }
   ],
   "source": [
    "num1 = int(input())\n",
    "num2 = int(input())\n",
    "\n",
    "print(num1 * num2)"
   ]
  },
  {
   "cell_type": "code",
   "execution_count": 94,
   "id": "9e2d5e44-86e6-4549-83fb-19eba508c57b",
   "metadata": {
    "scrolled": true
   },
   "outputs": [
    {
     "name": "stdout",
     "output_type": "stream",
     "text": [
      "<class 'float'>\n",
      "<class 'int'>\n",
      "<class 'int'>\n"
     ]
    }
   ],
   "source": [
    "num3 = 6.3\n",
    "num4 = 1\n",
    "\n",
    "print(type(num3))\n",
    "print(type(num4))\n",
    "\n",
    "num5 = int(num3)\n",
    "print(type(num5))\n"
   ]
  },
  {
   "cell_type": "code",
   "execution_count": 121,
   "id": "fab167fd-b424-42fc-a845-4b98a9605309",
   "metadata": {},
   "outputs": [],
   "source": [
    "article1 = \"주인공 성기훈의 내레이션과 함께, 어릴 적 기훈이 동네 친구들과의 오징어 게임에서 이기는 장면을 보여준 후 타이틀이 등장하면서 시작한다.\"\n",
    "\n",
    "article2 = \"\"\"성인이 된 기훈은 이혼한 뒤 대리운전 기사 등을 전전하다 백발의 노모에게 얹혀살고 있었고, \n",
    "하나뿐인 어린 딸 가영의 생일 선물을 살 돈도 어머니에게서 받아내는 비루한 인생을 살고 있었다. \n",
    "이혼 후 가영은 재혼한 전처가 키우고 있었지만, 기훈은 가영의 생일도 챙겨주지 않고 어머니의 돈을 몰래 빼내서 경마 도박에 올인하는데 딸의 생일(6월 8일) 날짜를 이용해 베팅하며 우여곡절 끝에 456만 원이라는 거금을 얻게 된다.\n",
    "[4]\\n밖으로 나와 가영이와 전화 통화를 하며 즐거워하던 것도 잠시, \n",
    "자신을 찾아온 사채업자 김정래 대표 때문에 황급히 \\n도망치다 누군가와 부딪히고 주머니에 있는 455만 원을 전부 \n",
    "소매치기당하고 만다. \n",
    "기훈은 이를 눈치챌 틈도 없이 도망치다 결국 사채업자들에게 붙잡혀 화장실에서 신체포기각서를 쓰게 된다.\n",
    "[5] 어떻게든 만 원이라도 만들어서[6] 인형뽑기로 권총 라이터를 선물했다가[7] 황급히 가져간 뒤에 떡볶이를 \n",
    "사주지만, 아버지 노릇도 제대로 못해준 나머지 그저 자괴감만 든다. 결국 \n",
    "\"내년 생일에는 더 잘 챙겨줄게.\"라며 애써 가영을 위로하지만 가영이는 아무런 대답을 못하고 머뭇거린다.\"\"\""
   ]
  },
  {
   "cell_type": "code",
   "execution_count": 131,
   "id": "afa8c27c-dbb8-4443-b4f2-127cb81a5af6",
   "metadata": {},
   "outputs": [
    {
     "name": "stdout",
     "output_type": "stream",
     "text": [
      "3\n",
      "576\n",
      "성인이 된 기훈은 이혼한 뒤 대리운전 기사 등을 전전하다 백발의 노모에게 얹혀살고 있었고, \n",
      "하나뿐인 어린 딸 가영의 생일 선물을 살 돈도 어머니에게서 받아내는 비루한 인생을 살고 있었다. \n",
      "이혼 후 가영은 재혼한 전처가 키우고 있었지만, 기훈은 가영의 생일도 챙겨주지 않고 어머니의 돈을 몰래 빼내서 경마 도박에 올인하는데 딸의 생일(6월 8일) 날짜를 이용해 베팅하며 우여곡절 끝에 456만 원이라는 거금을 얻게 된다.\n",
      "[4]\n",
      "밖으로 나와 가영이와 전화 통화를 하며 즐거워하던 것도 잠시, \n",
      "자신을 찾아온 사채업자 김정래 대표 때문에 황급히 \n",
      "도망치다 누군가와 부딪히고 주머니에 있는 455만 원을 전부 \n",
      "소매치기당하고 만다. \n",
      "기훈은 이를 눈치챌 틈도 없이 도망치다 결국 사채업자들에게 붙잡혀 화장실에서 신체포기각서를 쓰게 된다.\n",
      "[5] 어떻게든 만 원이라도 만들어서[6] 인형뽑기로 권총 라이터를 선물했다가[7] 황급히 가져간 뒤에 떡볶이를 \n",
      "사주지만, 아버지 노릇도 제대로 못해준 나머지 그저 자괴감만 든다. 결국 \n",
      "\"내년 생일에는 더 잘 챙겨줄게.\"라며 애써 가영을 위로하지만 가영이는 아무런 대답을 못하고 머뭇거린다.\n",
      "0\n",
      "4\n",
      "571\n"
     ]
    }
   ],
   "source": [
    "#객체란? \n",
    "# 1. article2라는 변수를 만들고 문장을 할당함 \n",
    "# 2. article2라는 변수에 문자열 형태의 값이 할당됨으로 이제 ararticle2라는 변수는 문자열 객체라고 부를 수 있음\n",
    "# 3. 객체는 어떤 타입의 객체이냐에 따라서 사용할 수 있는 메서드 함수(*문자열())가 결정됨\n",
    "\n",
    "print(article2.count(\"기훈\"))\n",
    "print(len(article2))\n",
    "print(article2)\n",
    "print(article2.find(\"성\"))# \"성\" 이라는 문자열은 0번째 인덱스 값을 가지고 있음 \n",
    "print(article2.find(\"된\"))\n",
    "print(article2.find(\"\"))\n",
    "\n",
    "# 동의 보감 => 동 : 0 // 감 : 3 => 문자열의 전체 총 개수 - 1 => 마지막번째 문자열의 인덱스 값과 동일"
   ]
  },
  {
   "cell_type": "code",
   "execution_count": 188,
   "id": "4f90eee6-f1ef-422e-ae15-ed7abac5d6ac",
   "metadata": {},
   "outputs": [
    {
     "name": "stdout",
     "output_type": "stream",
     "text": [
      "python\n",
      "p\n",
      "y\n",
      "6\n",
      "n\n",
      "<class 'str'>\n",
      "py\n",
      "th\n",
      "o\n"
     ]
    }
   ],
   "source": [
    "# 파이썬 > 문자열 >슬라이스 기능\n",
    "\n",
    "text001 = \"python\"\n",
    "\n",
    "print(text001)\n",
    "print(text001[0])\n",
    "print(text001[1])\n",
    "print(len(text001))\n",
    "print(text001[len(text001) -1])\n",
    "print(type(text001))\n",
    "\n",
    "print(text001[0:2])\n",
    "print(text001[2:4])\n",
    "print(text001[-2])"
   ]
  },
  {
   "cell_type": "code",
   "execution_count": 193,
   "id": "1bf20849-85a4-4408-b540-2b909ae56c64",
   "metadata": {},
   "outputs": [
    {
     "name": "stdout",
     "output_type": "stream",
     "text": [
      "14\n",
      "computer\n",
      "8\n",
      "wonshil\n"
     ]
    }
   ],
   "source": [
    "some_string = \"   computer   \"\n",
    "print(len(some_string))\n",
    "\n",
    "some_string2 = some_string.strip()\n",
    "\n",
    "print(some_string.strip())\n",
    "print(len(some_string2))\n",
    "\n",
    "some_string3 = \",,,wonshil,,,\"\n",
    "print(some_string3.strip(\",\"))\n"
   ]
  },
  {
   "cell_type": "code",
   "execution_count": 199,
   "id": "006d6666-cf96-4bd8-9c89-86c55d03c421",
   "metadata": {},
   "outputs": [
    {
     "name": "stdout",
     "output_type": "stream",
     "text": [
      "i have a pen, ihave a apple\n",
      "i have a pen, i have a apple \n",
      "i have a apple, i have a pen \n",
      "i have a pen, i have a pen \n"
     ]
    }
   ],
   "source": [
    "var01 = \"pen\" \n",
    "var02 = \"apple\"\n",
    "\n",
    "print(f\"i have a {var01}, ihave a {var02}\") \n",
    "\n",
    "print(\"i have a {}, i have a {} \".format(\"pen\", \"apple\"))\n",
    "print(\"i have a {1}, i have a {0} \".format(\"pen\", \"apple\"))\n",
    "print(\"i have a {0}, i have a {0} \".format(\"pen\", \"apple\"))"
   ]
  },
  {
   "cell_type": "code",
   "execution_count": 201,
   "id": "788a9050-efe4-4b4a-b781-177584b1b0cc",
   "metadata": {},
   "outputs": [
    {
     "name": "stdout",
     "output_type": "stream",
     "text": [
      "<class 'float'>\n",
      "0.90\n"
     ]
    }
   ],
   "source": [
    "interest = 0.897\n",
    "print(type(interest))\n",
    "print(format(interest, \".2f\"))"
   ]
  },
  {
   "cell_type": "code",
   "execution_count": 207,
   "id": "dab7da11-5cb2-4f5e-a491-fe112a3377cc",
   "metadata": {},
   "outputs": [
    {
     "name": "stdout",
     "output_type": "stream",
     "text": [
      "i have a 1.651200, i have a 5.641200\n"
     ]
    }
   ],
   "source": [
    "print(\"i have a %f, i have a %f\" % (1.6512, 5.6412))\n",
    "\n",
    "# %s 문자열 \n",
    "# %d 정수 입력\n",
    "# %f 부동소수 입력"
   ]
  }
 ],
 "metadata": {
  "kernelspec": {
   "display_name": "Python [conda env:base] *",
   "language": "python",
   "name": "conda-base-py"
  },
  "language_info": {
   "codemirror_mode": {
    "name": "ipython",
    "version": 3
   },
   "file_extension": ".py",
   "mimetype": "text/x-python",
   "name": "python",
   "nbconvert_exporter": "python",
   "pygments_lexer": "ipython3",
   "version": "3.13.5"
  }
 },
 "nbformat": 4,
 "nbformat_minor": 5
}
