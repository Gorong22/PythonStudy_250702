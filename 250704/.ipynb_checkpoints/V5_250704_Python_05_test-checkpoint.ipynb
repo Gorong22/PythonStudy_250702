{
 "cells": [
  {
   "cell_type": "markdown",
   "id": "57f4063e-6d84-426c-ba99-b5ccc6f412b9",
   "metadata": {},
   "source": [
    "# 사용자로부터 어떤 값을 받고 해당 값을 한화 (+한국돈)으로 바꿔서 출력되도록 해주세요\n",
    "\n",
    "1. 일단 사용자에게 돈을 받을 수 있도록 질문을 해야함\n",
    "2. 그리고 현재 환율의 정보를 변수로 입력해서 놔둬야함\n",
    "3. 환율 공식을 지정한 변수를 만들어야함\n",
    "4. 근데 사용자가 달러라고 작성할 수 도 있잖아 그러면 이걸 어떻게 해야하지? 달러는 문자고 100은 숫자다\n",
    "5. 그러면 리스트로 만들어서 for in 문 해봐도 될거같은데\n",
    "6. 그러면 100달러 라는 질문을 받아도 여기서 내가 문자를 없애고 남은 값을 숫자로 인식시키면 되잖아 \n",
    "\n",
    "ex) 100달러 한율 1112원 // 1112000원으로 출력되도록 "
   ]
  },
  {
   "cell_type": "code",
   "execution_count": 27,
   "id": "fee55e8a-fbc3-46f4-afcf-f638c087ae0e",
   "metadata": {},
   "outputs": [
    {
     "name": "stdin",
     "output_type": "stream",
     "text": [
      "숫자를 입력하세요 ex 100달러 100달러\n"
     ]
    },
    {
     "name": "stdout",
     "output_type": "stream",
     "text": [
      "당신이 주신 돈은 100이며, 환율된 금액은 138,050.0 입니다\n"
     ]
    }
   ],
   "source": [
    "us = []\n",
    "\n",
    "for _ in range(1):\n",
    "    Q1 = input(\"숫자를 입력하세요 ex 100달러\")\n",
    "    Q2 = Q1.replace(\"달러\", \"\")\n",
    "    Q3 = int(Q2)\n",
    "    rate = 1380.50\n",
    "    krw = Q3 * rate\n",
    "    Q4 = int(Q3)\n",
    "    us.append(Q4)\n",
    "print(f\"당신이 주신 돈은 {us[0]:,}이며, 환율된 금액은 {krw:,} 입니다\")\n"
   ]
  },
  {
   "cell_type": "markdown",
   "id": "5559f88f-ab38-4aa8-a993-2899dda271d7",
   "metadata": {},
   "source": [
    "달러의 환율을 1112원 설정, 위원화의 환율을 171원 설정, 엔화의 환율을 1010원으로 설정을 하시되 해당 화폐당 환율의 값을\n",
    "오늘 배웠던 딕셔너리 자료 구조로 정의 하고, 사용자가 원하는 달러, 엔화, 위안화 값을 입력했을때 해당 값을 원화로 한화로 바꿔서 \n",
    "출력도리 수 있도록 해주세요\n",
    "\n",
    "100달러 => 11,200원 // 100위안 => 17,100원 \n",
    "\n",
    "1. 일단 딕셔너리로 이름과 키값을 정해야한다\n",
    "2. 이름은 미국 : 1112원 중국 : 171원 일본: 101원\n",
    "3. 그다음에 사용자가 가지고 있는 돈을 받아야하는데 뒤의 글자로 어떤 나라의 돈인지 확인해야한다\n",
    "4. 그리고 그 문자를 기준으로 if 문을 써서 환율 별로 곱해서 받아보면된다 \n",
    "\n"
   ]
  },
  {
   "cell_type": "code",
   "execution_count": 35,
   "id": "5745df9f-45e8-49a1-8f45-29db6865863d",
   "metadata": {},
   "outputs": [
    {
     "name": "stdin",
     "output_type": "stream",
     "text": [
      "당신이 가진 돈을 해당 국가의 화폐단위와 함께 적어라 ex) 1000엔 100 달러\n"
     ]
    }
   ],
   "source": [
    "money = {\"미국\":1112, \"중국\":171, \"일본\":1010}\n",
    "\n",
    "Q1 = input(\"당신이 가진 돈을 해당 국가의 화폐단위와 함께 적어라 ex) 1000엔\")\n",
    "if Q1 == (\"달러\"):\n",
    "    Q2 = Q1.replace(\"달러\", \"\")\n",
    "    Q3 = int(Q2)\n",
    "    us = int(money[\"미국\"])\n",
    "    krw = Q3 * us\n",
    "    print(krw)"
   ]
  },
  {
   "cell_type": "code",
   "execution_count": 47,
   "id": "140d505f-d5c7-48fa-8f2a-09773d6f65a1",
   "metadata": {},
   "outputs": [
    {
     "name": "stdin",
     "output_type": "stream",
     "text": [
      "당신이 가진 돈을 해당 국가의 화폐단위와 함께 적어라 ex) 1000엔 200달러\n"
     ]
    },
    {
     "name": "stdout",
     "output_type": "stream",
     "text": [
      "222,400원입니다\n"
     ]
    }
   ],
   "source": [
    "money = {\"미국\":1112, \"중국\":171, \"일본\":1010}\n",
    "Q1 = input(\"당신이 가진 돈을 해당 국가의 화폐단위와 함께 적어라 ex) 1000엔\")\n",
    "\n",
    "if Q1[-2:] == \"달러\":\n",
    "    print(f\"{money['미국'] * int(Q1[:-2]):,}원입니다\")"
   ]
  },
  {
   "cell_type": "markdown",
   "id": "f39de86d-1f1f-4404-ad54-e2f431938b6e",
   "metadata": {},
   "source": [
    "2~9단까지 => \n",
    "1) 숫자 2부터 9까지 반복순회 2*1 = 2\n",
    "\n",
    "2) 아 그래서 변수로 시작 점을 알리고 그다음 1~ 9까지 반복을 시켜야지 "
   ]
  },
  {
   "cell_type": "code",
   "execution_count": 52,
   "id": "a4846d18-34a1-4e57-b30f-22986112a20f",
   "metadata": {},
   "outputs": [
    {
     "name": "stdout",
     "output_type": "stream",
     "text": [
      "----------\n",
      "-구구단 2단-\n",
      "----------\n",
      "2 x 1 = 2\n",
      "2 x 2 = 4\n",
      "2 x 3 = 6\n",
      "2 x 4 = 8\n",
      "2 x 5 = 10\n",
      "2 x 6 = 12\n",
      "2 x 7 = 14\n",
      "2 x 8 = 16\n",
      "2 x 9 = 18\n",
      "\n",
      "\n",
      "----------\n",
      "-구구단 3단-\n",
      "----------\n",
      "3 x 1 = 3\n",
      "3 x 2 = 6\n",
      "3 x 3 = 9\n",
      "3 x 4 = 12\n",
      "3 x 5 = 15\n",
      "3 x 6 = 18\n",
      "3 x 7 = 21\n",
      "3 x 8 = 24\n",
      "3 x 9 = 27\n",
      "\n",
      "\n",
      "----------\n",
      "-구구단 4단-\n",
      "----------\n",
      "4 x 1 = 4\n",
      "4 x 2 = 8\n",
      "4 x 3 = 12\n",
      "4 x 4 = 16\n",
      "4 x 5 = 20\n",
      "4 x 6 = 24\n",
      "4 x 7 = 28\n",
      "4 x 8 = 32\n",
      "4 x 9 = 36\n",
      "\n",
      "\n",
      "----------\n",
      "-구구단 5단-\n",
      "----------\n",
      "5 x 1 = 5\n",
      "5 x 2 = 10\n",
      "5 x 3 = 15\n",
      "5 x 4 = 20\n",
      "5 x 5 = 25\n",
      "5 x 6 = 30\n",
      "5 x 7 = 35\n",
      "5 x 8 = 40\n",
      "5 x 9 = 45\n",
      "\n",
      "\n",
      "----------\n",
      "-구구단 6단-\n",
      "----------\n",
      "6 x 1 = 6\n",
      "6 x 2 = 12\n",
      "6 x 3 = 18\n",
      "6 x 4 = 24\n",
      "6 x 5 = 30\n",
      "6 x 6 = 36\n",
      "6 x 7 = 42\n",
      "6 x 8 = 48\n",
      "6 x 9 = 54\n",
      "\n",
      "\n",
      "----------\n",
      "-구구단 7단-\n",
      "----------\n",
      "7 x 1 = 7\n",
      "7 x 2 = 14\n",
      "7 x 3 = 21\n",
      "7 x 4 = 28\n",
      "7 x 5 = 35\n",
      "7 x 6 = 42\n",
      "7 x 7 = 49\n",
      "7 x 8 = 56\n",
      "7 x 9 = 63\n",
      "\n",
      "\n",
      "----------\n",
      "-구구단 8단-\n",
      "----------\n",
      "8 x 1 = 8\n",
      "8 x 2 = 16\n",
      "8 x 3 = 24\n",
      "8 x 4 = 32\n",
      "8 x 5 = 40\n",
      "8 x 6 = 48\n",
      "8 x 7 = 56\n",
      "8 x 8 = 64\n",
      "8 x 9 = 72\n",
      "\n",
      "\n",
      "----------\n",
      "-구구단 9단-\n",
      "----------\n",
      "9 x 1 = 9\n",
      "9 x 2 = 18\n",
      "9 x 3 = 27\n",
      "9 x 4 = 36\n",
      "9 x 5 = 45\n",
      "9 x 6 = 54\n",
      "9 x 7 = 63\n",
      "9 x 8 = 72\n",
      "9 x 9 = 81\n",
      "\n",
      "\n"
     ]
    }
   ],
   "source": [
    "for num01 in range(2, 10) :\n",
    "    print(\"----------\")\n",
    "    print(f\"-구구단 {num01}단-\")\n",
    "    print(\"----------\")\n",
    "    for num02 in  range(1, 10) :\n",
    "        print(f\"{num01} x {num02} = {num01 * num02}\")\n",
    "    print(\"\\n\")    "
   ]
  },
  {
   "cell_type": "markdown",
   "id": "a1c70dfc-0860-4211-a583-778da85d4840",
   "metadata": {},
   "source": [
    "위에서 작성한 코드를 활용해서 다음과 같은 결과를 출력해주세요 \n",
    "구구단 2~9단까지 출력하지만, 계산된 결과 값이 짝수인 경우만 출력해주세요 \n",
    "\n",
    "if 쓰면 될거 같은데? 나머지값은 % 고"
   ]
  },
  {
   "cell_type": "code",
   "execution_count": 56,
   "id": "cde66552-e237-4b06-b7cf-53269298c803",
   "metadata": {},
   "outputs": [
    {
     "name": "stdout",
     "output_type": "stream",
     "text": [
      "----------\n",
      "-구구단 2단-\n",
      "----------\n",
      "2 x 1 = 2\n",
      "2 x 2 = 4\n",
      "2 x 3 = 6\n",
      "2 x 4 = 8\n",
      "2 x 5 = 10\n",
      "2 x 6 = 12\n",
      "2 x 7 = 14\n",
      "2 x 8 = 16\n",
      "2 x 9 = 18\n",
      "\n",
      "\n",
      "----------\n",
      "-구구단 3단-\n",
      "----------\n",
      "3 x 2 = 6\n",
      "3 x 4 = 12\n",
      "3 x 6 = 18\n",
      "3 x 8 = 24\n",
      "\n",
      "\n",
      "----------\n",
      "-구구단 4단-\n",
      "----------\n",
      "4 x 1 = 4\n",
      "4 x 2 = 8\n",
      "4 x 3 = 12\n",
      "4 x 4 = 16\n",
      "4 x 5 = 20\n",
      "4 x 6 = 24\n",
      "4 x 7 = 28\n",
      "4 x 8 = 32\n",
      "4 x 9 = 36\n",
      "\n",
      "\n",
      "----------\n",
      "-구구단 5단-\n",
      "----------\n",
      "5 x 2 = 10\n",
      "5 x 4 = 20\n",
      "5 x 6 = 30\n",
      "5 x 8 = 40\n",
      "\n",
      "\n",
      "----------\n",
      "-구구단 6단-\n",
      "----------\n",
      "6 x 1 = 6\n",
      "6 x 2 = 12\n",
      "6 x 3 = 18\n",
      "6 x 4 = 24\n",
      "6 x 5 = 30\n",
      "6 x 6 = 36\n",
      "6 x 7 = 42\n",
      "6 x 8 = 48\n",
      "6 x 9 = 54\n",
      "\n",
      "\n",
      "----------\n",
      "-구구단 7단-\n",
      "----------\n",
      "7 x 2 = 14\n",
      "7 x 4 = 28\n",
      "7 x 6 = 42\n",
      "7 x 8 = 56\n",
      "\n",
      "\n",
      "----------\n",
      "-구구단 8단-\n",
      "----------\n",
      "8 x 1 = 8\n",
      "8 x 2 = 16\n",
      "8 x 3 = 24\n",
      "8 x 4 = 32\n",
      "8 x 5 = 40\n",
      "8 x 6 = 48\n",
      "8 x 7 = 56\n",
      "8 x 8 = 64\n",
      "8 x 9 = 72\n",
      "\n",
      "\n",
      "----------\n",
      "-구구단 9단-\n",
      "----------\n",
      "9 x 2 = 18\n",
      "9 x 4 = 36\n",
      "9 x 6 = 54\n",
      "9 x 8 = 72\n",
      "\n",
      "\n"
     ]
    }
   ],
   "source": [
    "for num01 in range(2, 10) :\n",
    "    print(\"----------\")\n",
    "    print(f\"-구구단 {num01}단-\")\n",
    "    print(\"----------\")\n",
    "    for num02 in  range(1, 10) :\n",
    "        if num01 * num02 %2 == 0 :\n",
    "            print(f\"{num01} x {num02} = {num01 * num02}\")\n",
    "    print(\"\\n\")    "
   ]
  },
  {
   "cell_type": "markdown",
   "id": "5a7331aa-c235-4901-9815-92d930ab7f7c",
   "metadata": {},
   "source": [
    "6209동 101호 \n",
    "6209동 102호\n",
    "6209동 103호\n",
    "6209동 104호\n",
    "\n",
    "6208동 101호\n",
    "6208동 102호\n",
    "6208동 103호\n",
    "6208동 104호\n",
    "\n",
    "6207동 101호\n",
    "6207동 102호\n",
    "6207동 103호\n",
    "6207동 104호\n",
    "\n",
    "뭔가 반복 되는거 같으니까 반복문을 써야하나?\n",
    "중첩포문으로 해도 되려냐? \n"
   ]
  },
  {
   "cell_type": "code",
   "execution_count": 59,
   "id": "10a41aff-cd0a-48a5-98f2-7beec0d2d82a",
   "metadata": {},
   "outputs": [
    {
     "ename": "TypeError",
     "evalue": "unsupported operand type(s) for +: 'int' and 'str'",
     "output_type": "error",
     "traceback": [
      "\u001b[1;31m---------------------------------------------------------------------------\u001b[0m",
      "\u001b[1;31mTypeError\u001b[0m                                 Traceback (most recent call last)",
      "Cell \u001b[1;32mIn[59], line 5\u001b[0m\n\u001b[0;32m      2\u001b[0m hos \u001b[38;5;241m=\u001b[39m [\u001b[38;5;124m\"\u001b[39m\u001b[38;5;124m101호\u001b[39m\u001b[38;5;124m\"\u001b[39m, \u001b[38;5;124m\"\u001b[39m\u001b[38;5;124m102호\u001b[39m\u001b[38;5;124m\"\u001b[39m, \u001b[38;5;124m\"\u001b[39m\u001b[38;5;124m103호\u001b[39m\u001b[38;5;124m\"\u001b[39m, \u001b[38;5;124m\"\u001b[39m\u001b[38;5;124m104호\u001b[39m\u001b[38;5;124m\"\u001b[39m,]\n\u001b[0;32m      4\u001b[0m \u001b[38;5;28;01mfor\u001b[39;00m dongs \u001b[38;5;129;01min\u001b[39;00m \u001b[38;5;28mrange\u001b[39m(\u001b[38;5;241m4\u001b[39m) :\n\u001b[1;32m----> 5\u001b[0m     \u001b[38;5;28mprint\u001b[39m(dongs\u001b[38;5;241m+\u001b[39mhos[\u001b[38;5;241m0\u001b[39m])\n",
      "\u001b[1;31mTypeError\u001b[0m: unsupported operand type(s) for +: 'int' and 'str'"
     ]
    }
   ],
   "source": [
    "dongs = [\"6209동\", \"6208동\", \"6207동\",]\n",
    "hos = [\"101호\", \"102호\", \"103호\", \"104호\",]\n",
    "\n",
    "for dongs in range(4) :\n",
    "    print(dongs+hos[0])\n",
    "#dongs를 리스트로 만들었는데,\n",
    "for dongs in range(4)에서 같은 이름 dongs를 변수로 덮어써버림\n",
    "\n",
    "dongs는 이제 0, 1, 2, 3이 되고,\n",
    "\n",
    "숫자 + 문자열은 못 더하니까 오류 발생!"
   ]
  },
  {
   "cell_type": "code",
   "execution_count": 60,
   "id": "a8914bc8-db5e-4ff2-abf3-dddc17f0e630",
   "metadata": {},
   "outputs": [
    {
     "name": "stdout",
     "output_type": "stream",
     "text": [
      "6209동 101호\n",
      "6209동 102호\n",
      "6209동 103호\n",
      "6209동 104호\n",
      "6208동 101호\n",
      "6208동 102호\n",
      "6208동 103호\n",
      "6208동 104호\n",
      "6207동 101호\n",
      "6207동 102호\n",
      "6207동 103호\n",
      "6207동 104호\n"
     ]
    }
   ],
   "source": [
    "dongs = [\"6209동\", \"6208동\", \"6207동\",]\n",
    "hos = [\"101호\", \"102호\", \"103호\", \"104호\",]\n",
    "\n",
    "for item_1 in dongs:\n",
    "    for item_2 in hos:\n",
    "        print(item_1, item_2)"
   ]
  },
  {
   "cell_type": "code",
   "execution_count": 63,
   "id": "0f55c6bf-b57e-42ec-ad06-ac5b327a223c",
   "metadata": {},
   "outputs": [
    {
     "data": {
      "text/plain": [
       "('coding01', 'coding02', 'coding03', 'coding04')"
      ]
     },
     "execution_count": 63,
     "metadata": {},
     "output_type": "execute_result"
    }
   ],
   "source": [
    "tupledata = (\"coding01\", \"coding02\", \"coding03\")\n",
    "temp_list = list(tupledata)\n",
    "temp_list.append(\"coding04\")\n",
    "result = tuple(temp_list)\n",
    "\n",
    "result"
   ]
  },
  {
   "cell_type": "code",
   "execution_count": 67,
   "id": "1eff4841-a946-4504-b355-b1d1504f98cc",
   "metadata": {},
   "outputs": [
    {
     "name": "stdout",
     "output_type": "stream",
     "text": [
      "<class 'type'>\n"
     ]
    }
   ],
   "source": [
    "#tupleadd = (\"coding04\")\n",
    "\n",
    "#result = tupledata + tupleadd\n",
    "\n",
    "tuple(list(tupledata) + [\"coding04\"])\n",
    "\n",
    "print(type(tuple))\n"
   ]
  },
  {
   "cell_type": "markdown",
   "id": "9c2c8053-4d20-442d-8601-32e92bd184ac",
   "metadata": {},
   "source": [
    "딕셔너리 형태의 자료 구조를 하나 만들어서 아래와 같이 값을 출력해주세요 \n",
    "\n",
    "envirement : 환경 x\n",
    "company : 회사 o\n",
    "goverment : 정부 x\n",
    "face : 얼굴 x\n",
    "\n",
    "1. 딕셔너리로 일단 먼저 정리를 해야겠지요?\n",
    "2. 그리고 하나씩 출력하려면 반복문이 좋겠지 for in문 아니었나? 조금 햇갈리는데.. 일단 해보지머\n",
    "3. 일단 한줄씩 나오는건 FOR IN이 맞는데 지금 WORD로 하니까 하나씩 나왔엉\n",
    "4. 외웠는지 못외웠는지 판단을 해야한다면?\n",
    "5. 그러면 일단 질문을 해야하지 않을까?\n",
    "6. 그리고 만약 맞으면 O, 틀리면 X 아님? \n",
    "\n"
   ]
  },
  {
   "cell_type": "code",
   "execution_count": 71,
   "id": "84496af1-7b4e-4c2a-b63a-c46d341143e5",
   "metadata": {},
   "outputs": [
    {
     "name": "stdout",
     "output_type": "stream",
     "text": [
      "apple\n"
     ]
    }
   ],
   "source": [
    "dic = {\"사과\": \"apple\", \"포도\": \"grape\"}\n",
    "print(dic[\"사과\"])"
   ]
  },
  {
   "cell_type": "code",
   "execution_count": 92,
   "id": "9d563500-7611-459b-8e83-eeb89011c389",
   "metadata": {},
   "outputs": [
    {
     "name": "stdout",
     "output_type": "stream",
     "text": [
      "envirement : 환경\n",
      "company : 회사\n",
      "goverment : 정부\n",
      "face : 얼굴\n"
     ]
    }
   ],
   "source": [
    "eng = {\"envirement\": \"환경\", \"company\": \"회사\", \"goverment\": \"정부\", \"face\": \"얼굴\"}\n",
    "\n",
    "for word in eng:\n",
    "    print(f\"{word} : {eng[word]}\")"
   ]
  },
  {
   "cell_type": "code",
   "execution_count": 94,
   "id": "15cef7bc-fced-4819-940e-07f625802f6d",
   "metadata": {},
   "outputs": [
    {
     "name": "stdout",
     "output_type": "stream",
     "text": [
      "envirement : 환경\n",
      "company : 회사\n",
      "goverment : 정부\n",
      "face : 얼굴\n"
     ]
    }
   ],
   "source": [
    "eng = {\"envirement\": \"환경\", \"company\": \"회사\", \"goverment\": \"정부\", \"face\": \"얼굴\"}\n",
    "\n",
    "for word in eng.keys():\n",
    "    print(f\"{word} : {eng[word]}\")"
   ]
  },
  {
   "cell_type": "markdown",
   "id": "2d13fd81-abdf-462b-9803-b69bce8c6749",
   "metadata": {},
   "source": [
    "1. 일단 질문을 던져서 답을 받아야겠지?\n",
    "2. 근데 질문을 다 다르게 해야한다는게 문제임... 이걸 한번에 "
   ]
  },
  {
   "cell_type": "code",
   "execution_count": 112,
   "id": "876194f1-d4d0-4594-94ae-125b24cb7233",
   "metadata": {},
   "outputs": [
    {
     "ename": "IndentationError",
     "evalue": "unexpected indent (4232150887.py, line 10)",
     "output_type": "error",
     "traceback": [
      "\u001b[1;36m  Cell \u001b[1;32mIn[112], line 10\u001b[1;36m\u001b[0m\n\u001b[1;33m    elif Q2 == \"회사\" :\u001b[0m\n\u001b[1;37m    ^\u001b[0m\n\u001b[1;31mIndentationError\u001b[0m\u001b[1;31m:\u001b[0m unexpected indent\n"
     ]
    }
   ],
   "source": [
    "#일단은 질문을 던져\n",
    "\n",
    "eng = {\"envirement\": \"환경\", \"company\": \"회사\", \"goverment\": \"정부\", \"face\": \"얼굴\"}\n",
    "\n",
    "for word in eng :\n",
    "    Q1 = input(\"다음 envirement 뜻을 맞춰주세요\")\n",
    "    if Q1 == \"환경\" :\n",
    "        print(f\"{word} : {eng[word]}{o}\")\n",
    "        Q2 = input(\"다음 company 뜻을 맞춰주세요\")\n",
    "            elif Q2 == \"회사\" :     \n",
    "                print(f\"{word} : {eng[word]}{o}\")"
   ]
  },
  {
   "cell_type": "code",
   "execution_count": null,
   "id": "d5124531-9e6b-4420-af5a-b21e8e3cb66c",
   "metadata": {},
   "outputs": [],
   "source": [
    "사용자로부터 사전에 등록되어 있느 ㄴ단어들 중 1개를 입력받으세요 그러면 입력받은 단어의 경우, 외움표시 o 표시로 수정하고, 아직 외우지 못한 단어들만 출력하는 프로그램 코드를 작성"
   ]
  },
  {
   "cell_type": "code",
   "execution_count": 115,
   "id": "62c0d652-56f6-45cd-bfc9-0828f6036d7a",
   "metadata": {},
   "outputs": [
    {
     "name": "stdin",
     "output_type": "stream",
     "text": [
      "단어를 입력하세요 (예: company):  company\n"
     ]
    },
    {
     "name": "stdout",
     "output_type": "stream",
     "text": [
      "company : 회사 ❌\n"
     ]
    }
   ],
   "source": [
    "eng = {\n",
    "    \"envirement\": [\"환경\", \"o\"],\n",
    "    \"company\": [\"회사\", \"x\"],\n",
    "    \"goverment\": [\"정부\", \"o\"],\n",
    "    \"face\": [\"얼굴\", \"x\"]\n",
    "}\n",
    "\n",
    "word = input(\"단어를 입력하세요 (예: company): \")\n",
    "\n",
    "# 처리\n",
    "if word in eng:\n",
    "    meaning, status = eng[word]\n",
    "    mark = \"✅\" if status == \"o\" else \"❌\"\n",
    "    print(f\"{word} : {meaning} {mark}\")\n",
    "else:\n",
    "    print(\"사전에 없는 단어입니다.\")"
   ]
  },
  {
   "cell_type": "markdown",
   "id": "be6f709e-323d-424d-bbf3-78801933de89",
   "metadata": {},
   "source": [
    "- dict_all = {\"envirement\":\"환경\", \"envirement\":정부}\n",
    "- dict2 = {\"company\":\"회사\", \"face\":\"얼굴\"}\n",
    "- dict3 = {\"apple\":\"사과\"}\n",
    "- dict_all 안에 dict2와 dict3 이라는 값을 모두 넣어주세요 그리고  dict_all 값을 출력해주세요\n",
    "\n",
    "1. 일단 다 더해야하는데 딕셔너리는 key 값으로 움직인다..\n",
    "2. 그러면 반복문을 쓰긴 해야겠네 반복해서 다 더해야하니까\n",
    "3. 그러면 for in"
   ]
  },
  {
   "cell_type": "code",
   "execution_count": 117,
   "id": "8715b0fd-9e4a-459d-a772-444330ac5739",
   "metadata": {},
   "outputs": [
    {
     "data": {
      "text/plain": [
       "{'envirement': '환경',\n",
       " 'goverment': '정부',\n",
       " 'company': '회사',\n",
       " 'face': '얼굴',\n",
       " 'apple': '사과'}"
      ]
     },
     "execution_count": 117,
     "metadata": {},
     "output_type": "execute_result"
    }
   ],
   "source": [
    "dict_all = {\"envirement\":\"환경\", \"goverment\":\"정부\"}\n",
    "dict2 = {\"company\":\"회사\", \"face\":\"얼굴\"}\n",
    "dict3 = {\"apple\":\"사과\"}\n",
    "\n",
    "for word in dict2.keys() :\n",
    "    dict_all[word] = dict2[word]\n",
    "\n",
    "for word in dict3.keys() :\n",
    "    dict_all[word] = dict3[word]\n",
    "\n",
    "dict_all\n",
    "    \n",
    "    "
   ]
  },
  {
   "cell_type": "code",
   "execution_count": 121,
   "id": "e8081974-0441-42fe-9b96-fa32d3b9de10",
   "metadata": {},
   "outputs": [
    {
     "data": {
      "text/plain": [
       "{1, 2, 3, 4, 5, 6}"
      ]
     },
     "execution_count": 121,
     "metadata": {},
     "output_type": "execute_result"
    }
   ],
   "source": [
    "number_list = {1, 2, 3}\n",
    "number_list.add(4)\n",
    "number_list.update([5, 6])\n",
    "\n",
    "number_list"
   ]
  },
  {
   "cell_type": "markdown",
   "id": "c9bd3ff4-263a-4594-9d1b-3459e6d818d4",
   "metadata": {},
   "source": [
    "임의의 숫자 2개를 사용자에게 받으면 해당 2개의 숫자를 \n",
    "곱한 값을 반환하는 함수를 만들고 , 해당 함수의 결과값을\n",
    "화면에 출력해라\n",
    "\n",
    "def 로 함수를 만들어야겠찌 \n",
    "\n",
    "근데 일단 함수는 틀이니까 그 안에 내용이 중요하겠지 \n",
    "\n",
    "그러면 일단 input으로 질문 2개를 만들고 \n",
    "반환하는 값을 만ㄷ르면 되겠찌 "
   ]
  },
  {
   "cell_type": "code",
   "execution_count": 146,
   "id": "2d64d867-a85c-4cf7-bf39-f657969dc429",
   "metadata": {},
   "outputs": [],
   "source": [
    "def gob() :\n",
    "    Q1 = int(input(\"숫자하나 적으세요\"))\n",
    "    Q2 = int(input(\"숫자하나 더 적으세요\"))\n",
    "    A = Q1 * Q2 \n",
    "    print(f\"{A}\")"
   ]
  },
  {
   "cell_type": "code",
   "execution_count": 147,
   "id": "1e703827-5642-47e9-9c1a-d4a16cd5dfaf",
   "metadata": {},
   "outputs": [
    {
     "name": "stdin",
     "output_type": "stream",
     "text": [
      "숫자하나 적으세요 12\n",
      "숫자하나 더 적으세요 42\n"
     ]
    },
    {
     "name": "stdout",
     "output_type": "stream",
     "text": [
      "504\n"
     ]
    }
   ],
   "source": [
    "gob()"
   ]
  },
  {
   "cell_type": "code",
   "execution_count": 156,
   "id": "54a2eb33-2317-4d99-a7bb-6b3ff672aad8",
   "metadata": {},
   "outputs": [],
   "source": [
    "def gob2() :\n",
    "    num_all = [int(input(\"숫자를 입력하세요\"))for _ in range(2)]\n",
    "    A = num_all[0] * num_all[1]\n",
    "    print(f\"{A}\")"
   ]
  },
  {
   "cell_type": "code",
   "execution_count": 157,
   "id": "6f0c578f-4e20-46c3-9a3e-e7dcc64fb8f8",
   "metadata": {},
   "outputs": [
    {
     "name": "stdin",
     "output_type": "stream",
     "text": [
      "숫자를 입력하세요 23\n",
      "숫자를 입력하세요 3456\n"
     ]
    },
    {
     "name": "stdout",
     "output_type": "stream",
     "text": [
      "79488\n"
     ]
    }
   ],
   "source": [
    "gob2()"
   ]
  },
  {
   "cell_type": "markdown",
   "id": "809aebaf-c931-40c5-ad9d-472729a4b484",
   "metadata": {},
   "source": [
    "- 인자값 3개를 받을 수 있는 함수를 호출합니다 \n",
    "- func1(인자값1, 인자값2, 인자값3)\n",
    "- 해당 함수의 3번째 인자값=인자값3, + => 첫번쨰 인자값과 두번째 인자값을 더한 결과값을 \n",
    "반환하도록 해주시고, 만약 세번째 인자값이 * 라면, 첫번째 인자값과 두번쨰 인자값을 곱한\n",
    "결과값을 변환해주세요. 그런데 만약 3번째 인자값이 +도 아니고 *도 아니라면 무조건 0-이라는 값을 \n",
    "반환하도록 하는 함수를 만들어주세요\n",
    "\n",
    "1. 일단 인자값 3개를 받을 수있는\n",
    "2. 일단 인자값1과 인자값2를 더한게 인자값 3이라는 건가?\n",
    "3. 근데 내가 이해가 안되느게 숫자를 안받는데 어떻게 내가한다는\n",
    "4. 아 반복문이구나\n",
    "5. 그면 1~ 10까지 반복을 해야겠네 그러면 for in 문을 써야겠지?\n",
    "6. 근데 인자값이 * 라는 뜻을 모르겠다?\n",
    "7. 아니 그냥 더하기인데 인자값이 *가 나올수 있는거야? "
   ]
  },
  {
   "cell_type": "code",
   "execution_count": 158,
   "id": "37c58cb3-74bf-4286-8f7e-b591cc37ff5d",
   "metadata": {},
   "outputs": [
    {
     "name": "stdout",
     "output_type": "stream",
     "text": [
      "3 6 0\n"
     ]
    }
   ],
   "source": [
    "def calc(data1, data2, way) :\n",
    "    if way == \"+\" :\n",
    "        return data1 + data2\n",
    "    elif way == \"*\" :\n",
    "        return data1 * data2\n",
    "    else :\n",
    "        return 0\n",
    "\n",
    "data01 = calc(1, 2, \"+\")\n",
    "data02 = calc(3, 2, \"*\")\n",
    "data03 = calc(2, 4, \"-\")\n",
    "print(data01, data02, data03)\n",
    "    "
   ]
  }
 ],
 "metadata": {
  "kernelspec": {
   "display_name": "Python [conda env:base] *",
   "language": "python",
   "name": "conda-base-py"
  },
  "language_info": {
   "codemirror_mode": {
    "name": "ipython",
    "version": 3
   },
   "file_extension": ".py",
   "mimetype": "text/x-python",
   "name": "python",
   "nbconvert_exporter": "python",
   "pygments_lexer": "ipython3",
   "version": "3.13.5"
  }
 },
 "nbformat": 4,
 "nbformat_minor": 5
}
