{
 "cells": [
  {
   "cell_type": "code",
   "execution_count": null,
   "id": "3fd009ed-4b23-418d-a122-aeecadb16578",
   "metadata": {},
   "outputs": [],
   "source": [
    "# 함수(function)\n",
    "\n",
    "#list : 하나의 그룹안에 순번을 매겨서 값을 저장해놓은 형태 (\"단일 값을 수정, 삭제 등 변경 허용\")\n",
    "#tuple : 하나의 그물안에 순번을 매겨서 값을 지정해놓은 형태 (\"단일 값을 수정 삭제 등 변경 허용 x \"\n",
    "#dictionary : 사전(\"단어 : 뜻 형태 예시 등등 세부정보\") -> key(단어) & value(\"해당 단어에 대한 의미\") => 속성"
   ]
  },
  {
   "cell_type": "code",
   "execution_count": 5,
   "id": "64f6f525-8132-461b-b3f9-5216b03c699f",
   "metadata": {},
   "outputs": [],
   "source": [
    "def func1() :\n",
    "    print(\"hello\")\n",
    "    print(\"hello\")\n",
    "    print(\"hello\")\n",
    "    print(\"hello\")\n",
    "    print(\"hello\")"
   ]
  },
  {
   "cell_type": "code",
   "execution_count": 6,
   "id": "9686459f-b583-42eb-a640-137cd9f75558",
   "metadata": {},
   "outputs": [
    {
     "name": "stdout",
     "output_type": "stream",
     "text": [
      "hello\n",
      "hello\n",
      "hello\n",
      "hello\n",
      "hello\n"
     ]
    }
   ],
   "source": [
    "func1()"
   ]
  },
  {
   "cell_type": "code",
   "execution_count": 17,
   "id": "c00ded76-a4ca-4e94-bc19-5b94c7cac62f",
   "metadata": {},
   "outputs": [],
   "source": [
    "def func2(parameter01, parameter02) :\n",
    "    print(f\"Hello, {parameter01} {parameter02}\")\n",
    "    return f\"Hello, {parameter01} {parameter02}\""
   ]
  },
  {
   "cell_type": "code",
   "execution_count": 20,
   "id": "ae14325c-4066-48c8-86bd-e690ea10bade",
   "metadata": {},
   "outputs": [
    {
     "name": "stdout",
     "output_type": "stream",
     "text": [
      "Hello, hyoungwon Wonsil\n"
     ]
    },
    {
     "data": {
      "text/plain": [
       "'Hello, hyoungwon Wonsil'"
      ]
     },
     "execution_count": 20,
     "metadata": {},
     "output_type": "execute_result"
    }
   ],
   "source": [
    "result = func2(\"hyoungwon\", \"Wonsil\")\n",
    "result"
   ]
  },
  {
   "cell_type": "code",
   "execution_count": 21,
   "id": "9acf2a9e-2971-4dda-861b-6ebbb8ad8aa4",
   "metadata": {},
   "outputs": [
    {
     "data": {
      "text/plain": [
       "'Hello, hyoungwon Wonsil'"
      ]
     },
     "execution_count": 21,
     "metadata": {},
     "output_type": "execute_result"
    }
   ],
   "source": [
    "result"
   ]
  },
  {
   "cell_type": "code",
   "execution_count": 29,
   "id": "52917bdf-4ade-4104-a4ee-204ebcb498c6",
   "metadata": {},
   "outputs": [],
   "source": [
    "def sum(a, b) :\n",
    "    c = 1 #local \n",
    "    result02 = a + b\n",
    "    return(result02)\n",
    "a = 1 #global"
   ]
  },
  {
   "cell_type": "code",
   "execution_count": 23,
   "id": "150f8d16-7ced-410a-8e85-25cb89e181ef",
   "metadata": {},
   "outputs": [
    {
     "data": {
      "text/plain": [
       "3"
      ]
     },
     "execution_count": 23,
     "metadata": {},
     "output_type": "execute_result"
    }
   ],
   "source": [
    "sum(1, 2)"
   ]
  },
  {
   "cell_type": "code",
   "execution_count": 25,
   "id": "238a98ba-ccb3-429b-8d08-388f943bf221",
   "metadata": {},
   "outputs": [
    {
     "data": {
      "text/plain": [
       "1"
      ]
     },
     "execution_count": 25,
     "metadata": {},
     "output_type": "execute_result"
    }
   ],
   "source": [
    "a"
   ]
  },
  {
   "cell_type": "code",
   "execution_count": 26,
   "id": "f2012c2a-17a2-47c2-99ac-b0546fafd872",
   "metadata": {},
   "outputs": [
    {
     "ename": "NameError",
     "evalue": "name 'c' is not defined",
     "output_type": "error",
     "traceback": [
      "\u001b[1;31m---------------------------------------------------------------------------\u001b[0m",
      "\u001b[1;31mNameError\u001b[0m                                 Traceback (most recent call last)",
      "Cell \u001b[1;32mIn[26], line 1\u001b[0m\n\u001b[1;32m----> 1\u001b[0m c\n",
      "\u001b[1;31mNameError\u001b[0m: name 'c' is not defined"
     ]
    }
   ],
   "source": [
    "c"
   ]
  },
  {
   "cell_type": "code",
   "execution_count": 30,
   "id": "c009a231-f93e-4707-8545-bbee2e5b0623",
   "metadata": {},
   "outputs": [
    {
     "ename": "NameError",
     "evalue": "name 'result02' is not defined",
     "output_type": "error",
     "traceback": [
      "\u001b[1;31m---------------------------------------------------------------------------\u001b[0m",
      "\u001b[1;31mNameError\u001b[0m                                 Traceback (most recent call last)",
      "Cell \u001b[1;32mIn[30], line 1\u001b[0m\n\u001b[1;32m----> 1\u001b[0m result02\n",
      "\u001b[1;31mNameError\u001b[0m: name 'result02' is not defined"
     ]
    }
   ],
   "source": [
    "result02"
   ]
  },
  {
   "cell_type": "code",
   "execution_count": 31,
   "id": "c3706b9e-0931-425d-9cbf-8dbe7ec0ab86",
   "metadata": {},
   "outputs": [
    {
     "name": "stdout",
     "output_type": "stream",
     "text": [
      "1\n",
      "2\n",
      "3\n"
     ]
    }
   ],
   "source": [
    "for item in [1, 2, 3] :\n",
    "    print(item) #item => 블록변수(block)"
   ]
  },
  {
   "cell_type": "code",
   "execution_count": 32,
   "id": "eafb5f8f-6757-47b5-8243-064f4efeaaad",
   "metadata": {},
   "outputs": [
    {
     "data": {
      "text/plain": [
       "3"
      ]
     },
     "execution_count": 32,
     "metadata": {},
     "output_type": "execute_result"
    }
   ],
   "source": [
    "item"
   ]
  },
  {
   "cell_type": "code",
   "execution_count": 33,
   "id": "9cea3bf0-f79a-421b-80b9-f7ba712e5006",
   "metadata": {},
   "outputs": [],
   "source": [
    "def func7(a) :\n",
    "    b = a + 1\n",
    "    return a, b"
   ]
  },
  {
   "cell_type": "code",
   "execution_count": 35,
   "id": "279f2551-846b-4484-93d2-00d32405e1d9",
   "metadata": {},
   "outputs": [
    {
     "name": "stdout",
     "output_type": "stream",
     "text": [
      "(2, 3)\n",
      "<class 'tuple'>\n"
     ]
    }
   ],
   "source": [
    "result07 = func7(2)\n",
    "print(result07)\n",
    "print(type(result07))"
   ]
  },
  {
   "cell_type": "code",
   "execution_count": 36,
   "id": "e4627bdd-ed43-44cd-80e8-32784e353253",
   "metadata": {},
   "outputs": [
    {
     "name": "stdout",
     "output_type": "stream",
     "text": [
      "<class 'str'>\n",
      "<class 'int'>\n",
      "<class 'bool'>\n",
      "<class 'list'>\n"
     ]
    }
   ],
   "source": [
    "print(type(\"str\"))\n",
    "print(type(1))\n",
    "print(type(True))\n",
    "print(type([1, 2, 3]))"
   ]
  },
  {
   "cell_type": "code",
   "execution_count": 38,
   "id": "eff28e15-409d-469d-8c57-f902eea8436c",
   "metadata": {},
   "outputs": [],
   "source": [
    "def id_check(id) :\n",
    "    if id == \"admin\" :\n",
    "        print(\"invalid id : admin\")\n",
    "        return\n",
    "    \n",
    "    print(f\"vaild id : {id}\")"
   ]
  },
  {
   "cell_type": "code",
   "execution_count": 41,
   "id": "c1a60a7d-c2b7-4b0b-a0a3-287ba3c609aa",
   "metadata": {},
   "outputs": [
    {
     "name": "stdout",
     "output_type": "stream",
     "text": [
      "invalid id : admin\n"
     ]
    }
   ],
   "source": [
    "id_check(\"admin\")"
   ]
  },
  {
   "cell_type": "code",
   "execution_count": 4,
   "id": "ce341077-40c7-466a-acc4-5cdd3f1841a6",
   "metadata": {},
   "outputs": [
    {
     "data": {
      "text/plain": [
       "{'name': 'david'}"
      ]
     },
     "execution_count": 4,
     "metadata": {},
     "output_type": "execute_result"
    }
   ],
   "source": [
    "dict1 = {\"name\": \"david\"}\n",
    "dict1"
   ]
  },
  {
   "cell_type": "code",
   "execution_count": 5,
   "id": "875a9c27-6ab2-427c-8481-afecd198f169",
   "metadata": {},
   "outputs": [],
   "source": [
    "data_dict = {\"한국\":\"kr\", \"일본\":\"JP\", \"중국\":\"on\"}"
   ]
  },
  {
   "cell_type": "code",
   "execution_count": 10,
   "id": "e978fe78-0772-4caf-aa9f-d671e4e65625",
   "metadata": {},
   "outputs": [],
   "source": [
    "data_dict[\"한국\"]"
   ]
  },
  {
   "cell_type": "code",
   "execution_count": 14,
   "id": "9e9940de-4f93-439c-858a-7d74bda77570",
   "metadata": {},
   "outputs": [],
   "source": [
    "data_dict[\"미국\"] = \"US\""
   ]
  },
  {
   "cell_type": "code",
   "execution_count": 15,
   "id": "db87fcc2-a5bf-47ab-a13c-184da2891f0b",
   "metadata": {},
   "outputs": [
    {
     "data": {
      "text/plain": [
       "{'한국': 'US', '일본': 'JP', '중국': 'on', '미국': 'US'}"
      ]
     },
     "execution_count": 15,
     "metadata": {},
     "output_type": "execute_result"
    }
   ],
   "source": [
    "data_dict"
   ]
  },
  {
   "cell_type": "code",
   "execution_count": 17,
   "id": "5a5671b3-5d7f-402f-831f-b00bab09c57c",
   "metadata": {},
   "outputs": [],
   "source": [
    "del data_dict[\"일본\"]"
   ]
  },
  {
   "cell_type": "code",
   "execution_count": 18,
   "id": "46faa9a5-1a83-4ec3-9229-4cb9aec60454",
   "metadata": {},
   "outputs": [
    {
     "data": {
      "text/plain": [
       "{'한국': 'US', '중국': 'on', '미국': 'US'}"
      ]
     },
     "execution_count": 18,
     "metadata": {},
     "output_type": "execute_result"
    }
   ],
   "source": [
    "data_dict\n"
   ]
  },
  {
   "cell_type": "code",
   "execution_count": 19,
   "id": "a65c9de6-21e8-4613-a58d-9d8da53755b0",
   "metadata": {},
   "outputs": [
    {
     "name": "stdout",
     "output_type": "stream",
     "text": [
      "저의 이름은 이형원 입니다, 나이는 34입니다\n"
     ]
    }
   ],
   "source": [
    "name = \"이형원\"\n",
    "age = 34 \n",
    "\n",
    "print(f\"저의 이름은 {name} 입니다, 나이는 {age}입니다\")"
   ]
  },
  {
   "cell_type": "code",
   "execution_count": 20,
   "id": "d44430c6-5c61-480b-b84d-9c6ade759965",
   "metadata": {},
   "outputs": [
    {
     "name": "stdout",
     "output_type": "stream",
     "text": [
      "오늘의 기분은 개좋음 입니다\n"
     ]
    }
   ],
   "source": [
    "felling = \"개좋음\"\n",
    "print(f\"오늘의 기분은 {felling} 입니다\")"
   ]
  },
  {
   "cell_type": "code",
   "execution_count": 21,
   "id": "a5524a3c-b0e6-4047-8c84-62791102870c",
   "metadata": {},
   "outputs": [
    {
     "name": "stdout",
     "output_type": "stream",
     "text": [
      "10\n"
     ]
    }
   ],
   "source": [
    "num1 = 3\n",
    "num2 = 7\n",
    "print(num1 + num2)"
   ]
  },
  {
   "cell_type": "code",
   "execution_count": 25,
   "id": "a5559eb5-aea3-45d6-b7d5-24a32e15789f",
   "metadata": {},
   "outputs": [
    {
     "name": "stdout",
     "output_type": "stream",
     "text": [
      "b a\n"
     ]
    }
   ],
   "source": [
    "Q1 = \"a\"\n",
    "Q2 = \"b\"\n",
    "\n",
    "Q1, Q2 = Q2, Q1\n",
    "print(Q1, Q2)"
   ]
  },
  {
   "cell_type": "code",
   "execution_count": 28,
   "id": "f8ad0a96-4a21-4ef6-8ef4-a11b639849a9",
   "metadata": {},
   "outputs": [
    {
     "name": "stdout",
     "output_type": "stream",
     "text": [
      "HelloWord\n"
     ]
    }
   ],
   "source": [
    "a = \"Hello\"\n",
    "b = \"Word\"\n",
    "\n",
    "print(a+b)\n"
   ]
  },
  {
   "cell_type": "code",
   "execution_count": 30,
   "id": "69c2fe5d-33b0-431a-b23d-cf6d4624da81",
   "metadata": {},
   "outputs": [
    {
     "name": "stdout",
     "output_type": "stream",
     "text": [
      "파\n"
     ]
    }
   ],
   "source": [
    "a = \"파이썬\"\n",
    "print(a[0])"
   ]
  },
  {
   "cell_type": "code",
   "execution_count": 38,
   "id": "74925da6-21a7-48fc-acce-22bec34b2502",
   "metadata": {},
   "outputs": [
    {
     "name": "stdout",
     "output_type": "stream",
     "text": [
      "재미있는\n"
     ]
    }
   ],
   "source": [
    "a = \"오늘은 정말 재미있는 날이다\"\n",
    "word = a.split()\n",
    "print(word[2])"
   ]
  },
  {
   "cell_type": "code",
   "execution_count": 45,
   "id": "cd5c422c-d57b-44f7-92ba-8e02953f27eb",
   "metadata": {},
   "outputs": [
    {
     "name": "stdout",
     "output_type": "stream",
     "text": [
      "dict_keys(['한국', '중국', '미국'])\n",
      "<class 'dict_keys'>\n",
      "dict_values(['US', 'on', 'US'])\n"
     ]
    }
   ],
   "source": [
    "keys = data_dict.keys()\n",
    "print(keys)\n",
    "print(type(keys))\n",
    "\n",
    "velues = data_dict.values()\n",
    "print(velues)\n",
    "items"
   ]
  },
  {
   "cell_type": "code",
   "execution_count": 46,
   "id": "ad4fe510-7fa9-42a2-8329-b0688280d9c4",
   "metadata": {},
   "outputs": [
    {
     "name": "stdout",
     "output_type": "stream",
     "text": [
      "한국\n",
      "중국\n",
      "미국\n"
     ]
    }
   ],
   "source": [
    "for key in keys :\n",
    "    print(key)"
   ]
  },
  {
   "cell_type": "code",
   "execution_count": 50,
   "id": "4abae3c2-4b94-4f13-be4d-86d4eb701035",
   "metadata": {},
   "outputs": [
    {
     "name": "stdout",
     "output_type": "stream",
     "text": [
      "당신의 10년뒤 나이는 40 입니다\n"
     ]
    }
   ],
   "source": [
    "age = 30\n",
    "print(f\"당신의 10년뒤 나이는 {age+10} 입니다\")"
   ]
  },
  {
   "cell_type": "code",
   "execution_count": 52,
   "id": "f5aa1e94-7d02-42f8-abe8-71a486cdcb44",
   "metadata": {},
   "outputs": [
    {
     "name": "stdout",
     "output_type": "stream",
     "text": [
      "당신의 BMI 지수는 0.5028571428571429 입니다\n"
     ]
    }
   ],
   "source": [
    "height = 175\n",
    "weight = 88\n",
    "print(f\"당신의 BMI 지수는 {weight / height} 입니다\")"
   ]
  },
  {
   "cell_type": "code",
   "execution_count": 53,
   "id": "ee73ac0a-429f-401f-818b-9c6a6cab0ef5",
   "metadata": {},
   "outputs": [
    {
     "name": "stdout",
     "output_type": "stream",
     "text": [
      "당신이 8시간씩 일하면 56이야\n"
     ]
    }
   ],
   "source": [
    "work = 8\n",
    "print(f\"당신이 8시간씩 일하면 {work*7}이야\")\n"
   ]
  },
  {
   "cell_type": "code",
   "execution_count": 55,
   "id": "8130f253-5341-4cd8-beef-ca4a34265dc1",
   "metadata": {},
   "outputs": [
    {
     "name": "stdout",
     "output_type": "stream",
     "text": [
      "['수박', '포도', '사과']\n"
     ]
    }
   ],
   "source": [
    "food = [\"수박\", \"포도\", \"사과\"]\n",
    "print(food)"
   ]
  },
  {
   "cell_type": "code",
   "execution_count": 59,
   "id": "f683473e-b62b-45fc-b04a-47dd59ccbdbd",
   "metadata": {},
   "outputs": [
    {
     "name": "stdout",
     "output_type": "stream",
     "text": [
      "포도\n"
     ]
    }
   ],
   "source": [
    "food = [\"수박\", \"포도\", \"사과\"]\n",
    "print(food[1])"
   ]
  },
  {
   "cell_type": "code",
   "execution_count": 67,
   "id": "2c52b678-0aa5-44d6-b8df-b6447b6871c4",
   "metadata": {},
   "outputs": [
    {
     "name": "stdout",
     "output_type": "stream",
     "text": [
      "['수박', '포도', '사과', '참외']\n",
      "['수박', '포도', '사과']\n"
     ]
    },
    {
     "ename": "IndexError",
     "evalue": "pop index out of range",
     "output_type": "error",
     "traceback": [
      "\u001b[1;31m---------------------------------------------------------------------------\u001b[0m",
      "\u001b[1;31mIndexError\u001b[0m                                Traceback (most recent call last)",
      "Cell \u001b[1;32mIn[67], line 5\u001b[0m\n\u001b[0;32m      3\u001b[0m food\u001b[38;5;241m.\u001b[39mpop(\u001b[38;5;241m3\u001b[39m)\n\u001b[0;32m      4\u001b[0m \u001b[38;5;28mprint\u001b[39m(food)\n\u001b[1;32m----> 5\u001b[0m food\u001b[38;5;241m.\u001b[39mpop(\u001b[38;5;241m3\u001b[39m)\n\u001b[0;32m      6\u001b[0m \u001b[38;5;28mprint\u001b[39m(food)\n\u001b[0;32m      7\u001b[0m food \u001b[38;5;241m=\u001b[39m [\u001b[38;5;124m\"\u001b[39m\u001b[38;5;124m사과\u001b[39m\u001b[38;5;124m\"\u001b[39m, \u001b[38;5;124m\"\u001b[39m\u001b[38;5;124m참외\u001b[39m\u001b[38;5;124m\"\u001b[39m]\n",
      "\u001b[1;31mIndexError\u001b[0m: pop index out of range"
     ]
    }
   ],
   "source": [
    "food.append(\"참외\")\n",
    "print(food)\n",
    "food.pop(3)\n",
    "print(food)\n",
    "food.pop(3)\n",
    "print(food)\n",
    "food = [\"사과\", \"참외\"]\n",
    "for item in food:\n",
    "    print(item)"
   ]
  },
  {
   "cell_type": "code",
   "execution_count": 68,
   "id": "1fecfcc0-12e9-47d5-9338-4988c6b25cbf",
   "metadata": {},
   "outputs": [
    {
     "name": "stdout",
     "output_type": "stream",
     "text": [
      "수박\n",
      "포도\n",
      "사과\n"
     ]
    }
   ],
   "source": [
    "food01 = [\"사과\", \"참외\"]\n",
    "for item in food :\n",
    "    print(item)"
   ]
  },
  {
   "cell_type": "code",
   "execution_count": 72,
   "id": "da95ec06-8bac-43c0-a6d5-b50b96bb9638",
   "metadata": {},
   "outputs": [
    {
     "name": "stdin",
     "output_type": "stream",
     "text": [
      "나이를 입력해주세요 20\n"
     ]
    },
    {
     "name": "stdout",
     "output_type": "stream",
     "text": [
      "당신은 성년입니다\n"
     ]
    }
   ],
   "source": [
    "a = int(input(\"나이를 입력해주세요\"))\n",
    "if a >= 20:\n",
    "    print(f\"당신은 성년입니다\")\n",
    "else:\n",
    "    print(f\"미성년자입니다\")"
   ]
  },
  {
   "cell_type": "code",
   "execution_count": 74,
   "id": "6fc777df-8c03-47d6-a561-a964e715a9e8",
   "metadata": {},
   "outputs": [
    {
     "name": "stdin",
     "output_type": "stream",
     "text": [
      "온도를 입력해주세요 30\n"
     ]
    },
    {
     "name": "stdout",
     "output_type": "stream",
     "text": [
      "더워요\n"
     ]
    }
   ],
   "source": [
    "tem = int(input(\"온도를 입력해주세요\"))\n",
    "if tem >= 30 :\n",
    "    print(f\"더워요\")\n",
    "else:\n",
    "    print(f\"괜찮아요\")"
   ]
  },
  {
   "cell_type": "code",
   "execution_count": 85,
   "id": "ce0b56b7-7d4b-47e6-a3bd-d02e7ad8bcc7",
   "metadata": {},
   "outputs": [
    {
     "name": "stdin",
     "output_type": "stream",
     "text": [
      "닫신의 시험 점수를 입력해주세요 90\n"
     ]
    },
    {
     "name": "stdout",
     "output_type": "stream",
     "text": [
      "아주 잘하셨음요 A\n"
     ]
    }
   ],
   "source": [
    "test = int(input(\"닫신의 시험 점수를 입력해주세요\"))\n",
    "if test >= 90 :\n",
    "    print(f\"아주 잘하셨음요 A\")\n",
    "elif test < 90 and test >= 80:\n",
    "    print(f\"잘했어요 B\")\n",
    "else:\n",
    "    print(\"분발하셈\")"
   ]
  },
  {
   "cell_type": "code",
   "execution_count": 89,
   "id": "5b7f0fe0-8e6c-4479-b474-85bb963cfd5b",
   "metadata": {},
   "outputs": [
    {
     "name": "stdin",
     "output_type": "stream",
     "text": [
      "숫자를 입력하세요 89\n"
     ]
    },
    {
     "name": "stdout",
     "output_type": "stream",
     "text": [
      "홀수입니당\n"
     ]
    }
   ],
   "source": [
    "test2 = int(input(\"숫자를 입력하세요\"))\n",
    "if test2 % 2 == 0: \n",
    "    print(\"짝수입니당\")\n",
    "else:\n",
    "    print(\"홀수입니당\")"
   ]
  },
  {
   "cell_type": "code",
   "execution_count": null,
   "id": "0749394e-d62c-4277-aca9-151d75d42867",
   "metadata": {},
   "outputs": [],
   "source": []
  },
  {
   "cell_type": "code",
   "execution_count": 78,
   "id": "e881e965-1188-4691-acc6-aa8da643ac12",
   "metadata": {},
   "outputs": [
    {
     "name": "stdout",
     "output_type": "stream",
     "text": [
      "뉴스A\n",
      "뉴스B\n",
      "뉴스C\n",
      "뉴스D\n"
     ]
    }
   ],
   "source": [
    "titles = [\"뉴스A\", \"뉴스B\", \"뉴스C\", \"뉴스D\",]\n",
    "for title in titles:\n",
    "    print(title)"
   ]
  },
  {
   "cell_type": "code",
   "execution_count": 80,
   "id": "05da950c-f6fd-4b5e-94dd-3bea0a9a8b9d",
   "metadata": {},
   "outputs": [
    {
     "name": "stdout",
     "output_type": "stream",
     "text": [
      "[{'정치': '뉴스A', 'Link': 'https://www.naver.com'}, {'경제': '뉴스B', 'Link': 'https://www.daum.net'}]\n"
     ]
    }
   ],
   "source": [
    "article01 = {\n",
    "    \"정치\":\"뉴스A\", \n",
    "    \"Link\":\"https://www.naver.com\"\n",
    "}\n",
    "article02 = {\n",
    "    \"경제\":\"뉴스B\", \n",
    "    \"Link\":\"https://www.daum.net\"\n",
    "}\n",
    "\n",
    "articlelist = [article01, article02]\n",
    "print(articlelist)"
   ]
  },
  {
   "cell_type": "code",
   "execution_count": 92,
   "id": "976ac85f-c867-4044-b2c0-17354d210494",
   "metadata": {},
   "outputs": [
    {
     "name": "stdout",
     "output_type": "stream",
     "text": [
      "1\n",
      "2\n",
      "3\n",
      "4\n",
      "5\n"
     ]
    }
   ],
   "source": [
    "num = []\n",
    "for num in range(1, 6):\n",
    "    print(num)"
   ]
  }
 ],
 "metadata": {
  "kernelspec": {
   "display_name": "Python [conda env:base] *",
   "language": "python",
   "name": "conda-base-py"
  },
  "language_info": {
   "codemirror_mode": {
    "name": "ipython",
    "version": 3
   },
   "file_extension": ".py",
   "mimetype": "text/x-python",
   "name": "python",
   "nbconvert_exporter": "python",
   "pygments_lexer": "ipython3",
   "version": "3.13.5"
  }
 },
 "nbformat": 4,
 "nbformat_minor": 5
}
