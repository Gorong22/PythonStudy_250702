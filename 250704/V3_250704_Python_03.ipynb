{
 "cells": [
  {
   "cell_type": "code",
   "execution_count": null,
   "id": "3fd009ed-4b23-418d-a122-aeecadb16578",
   "metadata": {},
   "outputs": [],
   "source": [
    "# 함수(function)"
   ]
  },
  {
   "cell_type": "code",
   "execution_count": 5,
   "id": "64f6f525-8132-461b-b3f9-5216b03c699f",
   "metadata": {},
   "outputs": [],
   "source": [
    "def func1() :\n",
    "    print(\"hello\")\n",
    "    print(\"hello\")\n",
    "    print(\"hello\")\n",
    "    print(\"hello\")\n",
    "    print(\"hello\")"
   ]
  },
  {
   "cell_type": "code",
   "execution_count": 6,
   "id": "9686459f-b583-42eb-a640-137cd9f75558",
   "metadata": {},
   "outputs": [
    {
     "name": "stdout",
     "output_type": "stream",
     "text": [
      "hello\n",
      "hello\n",
      "hello\n",
      "hello\n",
      "hello\n"
     ]
    }
   ],
   "source": [
    "func1()"
   ]
  },
  {
   "cell_type": "code",
   "execution_count": 17,
   "id": "c00ded76-a4ca-4e94-bc19-5b94c7cac62f",
   "metadata": {},
   "outputs": [],
   "source": [
    "def func2(parameter01, parameter02) :\n",
    "    print(f\"Hello, {parameter01} {parameter02}\")\n",
    "    return f\"Hello, {parameter01} {parameter02}\""
   ]
  },
  {
   "cell_type": "code",
   "execution_count": 20,
   "id": "ae14325c-4066-48c8-86bd-e690ea10bade",
   "metadata": {},
   "outputs": [
    {
     "name": "stdout",
     "output_type": "stream",
     "text": [
      "Hello, hyoungwon Wonsil\n"
     ]
    },
    {
     "data": {
      "text/plain": [
       "'Hello, hyoungwon Wonsil'"
      ]
     },
     "execution_count": 20,
     "metadata": {},
     "output_type": "execute_result"
    }
   ],
   "source": [
    "result = func2(\"hyoungwon\", \"Wonsil\")\n",
    "result"
   ]
  },
  {
   "cell_type": "code",
   "execution_count": 21,
   "id": "9acf2a9e-2971-4dda-861b-6ebbb8ad8aa4",
   "metadata": {},
   "outputs": [
    {
     "data": {
      "text/plain": [
       "'Hello, hyoungwon Wonsil'"
      ]
     },
     "execution_count": 21,
     "metadata": {},
     "output_type": "execute_result"
    }
   ],
   "source": [
    "result"
   ]
  },
  {
   "cell_type": "code",
   "execution_count": 29,
   "id": "52917bdf-4ade-4104-a4ee-204ebcb498c6",
   "metadata": {},
   "outputs": [],
   "source": [
    "def sum(a, b) :\n",
    "    c = 1 #local \n",
    "    result02 = a + b\n",
    "    return(result02)\n",
    "a = 1 #global"
   ]
  },
  {
   "cell_type": "code",
   "execution_count": 23,
   "id": "150f8d16-7ced-410a-8e85-25cb89e181ef",
   "metadata": {},
   "outputs": [
    {
     "data": {
      "text/plain": [
       "3"
      ]
     },
     "execution_count": 23,
     "metadata": {},
     "output_type": "execute_result"
    }
   ],
   "source": [
    "sum(1, 2)"
   ]
  },
  {
   "cell_type": "code",
   "execution_count": 25,
   "id": "238a98ba-ccb3-429b-8d08-388f943bf221",
   "metadata": {},
   "outputs": [
    {
     "data": {
      "text/plain": [
       "1"
      ]
     },
     "execution_count": 25,
     "metadata": {},
     "output_type": "execute_result"
    }
   ],
   "source": [
    "a"
   ]
  },
  {
   "cell_type": "code",
   "execution_count": 26,
   "id": "f2012c2a-17a2-47c2-99ac-b0546fafd872",
   "metadata": {},
   "outputs": [
    {
     "ename": "NameError",
     "evalue": "name 'c' is not defined",
     "output_type": "error",
     "traceback": [
      "\u001b[1;31m---------------------------------------------------------------------------\u001b[0m",
      "\u001b[1;31mNameError\u001b[0m                                 Traceback (most recent call last)",
      "Cell \u001b[1;32mIn[26], line 1\u001b[0m\n\u001b[1;32m----> 1\u001b[0m c\n",
      "\u001b[1;31mNameError\u001b[0m: name 'c' is not defined"
     ]
    }
   ],
   "source": [
    "c"
   ]
  },
  {
   "cell_type": "code",
   "execution_count": 30,
   "id": "c009a231-f93e-4707-8545-bbee2e5b0623",
   "metadata": {},
   "outputs": [
    {
     "ename": "NameError",
     "evalue": "name 'result02' is not defined",
     "output_type": "error",
     "traceback": [
      "\u001b[1;31m---------------------------------------------------------------------------\u001b[0m",
      "\u001b[1;31mNameError\u001b[0m                                 Traceback (most recent call last)",
      "Cell \u001b[1;32mIn[30], line 1\u001b[0m\n\u001b[1;32m----> 1\u001b[0m result02\n",
      "\u001b[1;31mNameError\u001b[0m: name 'result02' is not defined"
     ]
    }
   ],
   "source": [
    "result02"
   ]
  },
  {
   "cell_type": "code",
   "execution_count": 31,
   "id": "c3706b9e-0931-425d-9cbf-8dbe7ec0ab86",
   "metadata": {},
   "outputs": [
    {
     "name": "stdout",
     "output_type": "stream",
     "text": [
      "1\n",
      "2\n",
      "3\n"
     ]
    }
   ],
   "source": [
    "for item in [1, 2, 3] :\n",
    "    print(item) #item => 블록변수(block)"
   ]
  },
  {
   "cell_type": "code",
   "execution_count": 32,
   "id": "eafb5f8f-6757-47b5-8243-064f4efeaaad",
   "metadata": {},
   "outputs": [
    {
     "data": {
      "text/plain": [
       "3"
      ]
     },
     "execution_count": 32,
     "metadata": {},
     "output_type": "execute_result"
    }
   ],
   "source": [
    "item"
   ]
  },
  {
   "cell_type": "code",
   "execution_count": 33,
   "id": "9cea3bf0-f79a-421b-80b9-f7ba712e5006",
   "metadata": {},
   "outputs": [],
   "source": [
    "def func7(a) :\n",
    "    b = a + 1\n",
    "    return a, b"
   ]
  },
  {
   "cell_type": "code",
   "execution_count": 35,
   "id": "279f2551-846b-4484-93d2-00d32405e1d9",
   "metadata": {},
   "outputs": [
    {
     "name": "stdout",
     "output_type": "stream",
     "text": [
      "(2, 3)\n",
      "<class 'tuple'>\n"
     ]
    }
   ],
   "source": [
    "result07 = func7(2)\n",
    "print(result07)\n",
    "print(type(result07))"
   ]
  },
  {
   "cell_type": "code",
   "execution_count": 36,
   "id": "e4627bdd-ed43-44cd-80e8-32784e353253",
   "metadata": {},
   "outputs": [
    {
     "name": "stdout",
     "output_type": "stream",
     "text": [
      "<class 'str'>\n",
      "<class 'int'>\n",
      "<class 'bool'>\n",
      "<class 'list'>\n"
     ]
    }
   ],
   "source": [
    "print(type(\"str\"))\n",
    "print(type(1))\n",
    "print(type(True))\n",
    "print(type([1, 2, 3]))"
   ]
  },
  {
   "cell_type": "code",
   "execution_count": 38,
   "id": "eff28e15-409d-469d-8c57-f902eea8436c",
   "metadata": {},
   "outputs": [],
   "source": [
    "def id_check(id) :\n",
    "    if id == \"admin\" :\n",
    "        print(\"invalid id : admin\")\n",
    "        return\n",
    "    \n",
    "    print(f\"vaild id : {id}\")"
   ]
  },
  {
   "cell_type": "code",
   "execution_count": 41,
   "id": "c1a60a7d-c2b7-4b0b-a0a3-287ba3c609aa",
   "metadata": {},
   "outputs": [
    {
     "name": "stdout",
     "output_type": "stream",
     "text": [
      "invalid id : admin\n"
     ]
    }
   ],
   "source": [
    "id_check(\"admin\")"
   ]
  },
  {
   "cell_type": "code",
   "execution_count": null,
   "id": "ce341077-40c7-466a-acc4-5cdd3f1841a6",
   "metadata": {},
   "outputs": [],
   "source": []
  }
 ],
 "metadata": {
  "kernelspec": {
   "display_name": "Python [conda env:base] *",
   "language": "python",
   "name": "conda-base-py"
  },
  "language_info": {
   "codemirror_mode": {
    "name": "ipython",
    "version": 3
   },
   "file_extension": ".py",
   "mimetype": "text/x-python",
   "name": "python",
   "nbconvert_exporter": "python",
   "pygments_lexer": "ipython3",
   "version": "3.13.5"
  }
 },
 "nbformat": 4,
 "nbformat_minor": 5
}
