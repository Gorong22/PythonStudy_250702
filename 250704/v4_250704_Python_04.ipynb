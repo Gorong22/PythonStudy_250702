{
 "cells": [
  {
   "cell_type": "code",
   "execution_count": null,
   "id": "54cc4215-89e8-4157-941c-8c10f752affb",
   "metadata": {},
   "outputs": [],
   "source": [
    "# 자료구조"
   ]
  },
  {
   "cell_type": "code",
   "execution_count": 1,
   "id": "1d56938c-2961-49f9-94d3-0da1fb573fb9",
   "metadata": {},
   "outputs": [
    {
     "data": {
      "text/plain": [
       "set"
      ]
     },
     "execution_count": 1,
     "metadata": {},
     "output_type": "execute_result"
    }
   ],
   "source": [
    "data_set01 = set()\n",
    "type(data_set01)"
   ]
  },
  {
   "cell_type": "code",
   "execution_count": 3,
   "id": "b56200f2-6f68-4140-861a-8f971f726926",
   "metadata": {},
   "outputs": [
    {
     "data": {
      "text/plain": [
       "{'apple', 'dell', 'lg', 'samsung'}"
      ]
     },
     "execution_count": 3,
     "metadata": {},
     "output_type": "execute_result"
    }
   ],
   "source": [
    "data_set02 = {\"apple\", \"dell\", \"samsung\", \"lg\"}\n",
    "data_set02"
   ]
  },
  {
   "cell_type": "code",
   "execution_count": 4,
   "id": "b6da8b84-67d4-4005-b783-22eefe638dd8",
   "metadata": {},
   "outputs": [
    {
     "data": {
      "text/plain": [
       "{'a', 'e', 'l', 'p'}"
      ]
     },
     "execution_count": 4,
     "metadata": {},
     "output_type": "execute_result"
    }
   ],
   "source": [
    "data_set03 = set(\"apple\")\n",
    "data_set03"
   ]
  },
  {
   "cell_type": "code",
   "execution_count": 7,
   "id": "f00bc535-8c1b-47de-b75a-779f36969408",
   "metadata": {},
   "outputs": [
    {
     "data": {
      "text/plain": [
       "{'jyp', 'sm'}"
      ]
     },
     "execution_count": 7,
     "metadata": {},
     "output_type": "execute_result"
    }
   ],
   "source": [
    "#data_set04 = set(\"sm\", \"jyp\")\n",
    "{\"sm\", \"jyp\"}"
   ]
  },
  {
   "cell_type": "code",
   "execution_count": 8,
   "id": "6ebf917e-2be7-4689-b803-8975cb58dacf",
   "metadata": {},
   "outputs": [
    {
     "name": "stdout",
     "output_type": "stream",
     "text": [
      "lg\n",
      "apple\n",
      "dell\n",
      "samsung\n"
     ]
    }
   ],
   "source": [
    "for data in data_set02:\n",
    "    print(data)"
   ]
  },
  {
   "cell_type": "code",
   "execution_count": 13,
   "id": "8178e0b1-bb8a-4f41-88c7-c5436b098097",
   "metadata": {},
   "outputs": [
    {
     "name": "stdout",
     "output_type": "stream",
     "text": [
      "False\n",
      "True\n"
     ]
    }
   ],
   "source": [
    "print(\"motorola\" in data_set02)\n",
    "print(\"apple\" in data_set02)\n"
   ]
  },
  {
   "cell_type": "code",
   "execution_count": 19,
   "id": "08eaa3aa-547d-486d-9aa3-4c346b93fc5a",
   "metadata": {},
   "outputs": [],
   "source": [
    "data04 = {\"피카츄\", \"라이츄ㅜ\", \"꼬부기\"}"
   ]
  },
  {
   "cell_type": "code",
   "execution_count": 17,
   "id": "409b96f3-636b-44af-96f8-f4e0c36400f3",
   "metadata": {},
   "outputs": [],
   "source": [
    "data05 = {\"잠만보\", \"파이리\", \"피카츄\"}"
   ]
  },
  {
   "cell_type": "code",
   "execution_count": 20,
   "id": "f09d2d59-ef0a-4e45-b713-a6ca43cbb346",
   "metadata": {},
   "outputs": [
    {
     "data": {
      "text/plain": [
       "{'피카츄'}"
      ]
     },
     "execution_count": 20,
     "metadata": {},
     "output_type": "execute_result"
    }
   ],
   "source": [
    "data04 & data05"
   ]
  },
  {
   "cell_type": "code",
   "execution_count": 21,
   "id": "4f6184e7-4937-4394-b207-493fa728bd5d",
   "metadata": {},
   "outputs": [
    {
     "data": {
      "text/plain": [
       "{'꼬부기', '라이츄ㅜ', '잠만보', '파이리', '피카츄'}"
      ]
     },
     "execution_count": 21,
     "metadata": {},
     "output_type": "execute_result"
    }
   ],
   "source": [
    "data04 | data05"
   ]
  },
  {
   "cell_type": "code",
   "execution_count": 22,
   "id": "19cb59cc-6024-4dc2-ad37-1a657c08a7af",
   "metadata": {},
   "outputs": [
    {
     "data": {
      "text/plain": [
       "{'꼬부기', '라이츄ㅜ'}"
      ]
     },
     "execution_count": 22,
     "metadata": {},
     "output_type": "execute_result"
    }
   ],
   "source": [
    "data04 - data05"
   ]
  },
  {
   "cell_type": "code",
   "execution_count": 23,
   "id": "90f65ab7-f9dd-43d6-9c37-35c504977435",
   "metadata": {},
   "outputs": [
    {
     "data": {
      "text/plain": [
       "{'잠만보', '파이리'}"
      ]
     },
     "execution_count": 23,
     "metadata": {},
     "output_type": "execute_result"
    }
   ],
   "source": [
    "data05 - data04"
   ]
  },
  {
   "cell_type": "code",
   "execution_count": 24,
   "id": "b246de42-b081-4b90-8dcc-c24a6d83a7fd",
   "metadata": {},
   "outputs": [
    {
     "data": {
      "text/plain": [
       "{'꼬부기', '라이츄ㅜ', '잠만보', '파이리'}"
      ]
     },
     "execution_count": 24,
     "metadata": {},
     "output_type": "execute_result"
    }
   ],
   "source": [
    "data04 ^ data05"
   ]
  }
 ],
 "metadata": {
  "kernelspec": {
   "display_name": "Python [conda env:base] *",
   "language": "python",
   "name": "conda-base-py"
  },
  "language_info": {
   "codemirror_mode": {
    "name": "ipython",
    "version": 3
   },
   "file_extension": ".py",
   "mimetype": "text/x-python",
   "name": "python",
   "nbconvert_exporter": "python",
   "pygments_lexer": "ipython3",
   "version": "3.13.5"
  }
 },
 "nbformat": 4,
 "nbformat_minor": 5
}
