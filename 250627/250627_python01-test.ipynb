{
 "cells": [
  {
   "cell_type": "code",
   "execution_count": 1,
   "id": "844146f3-a0b3-46f9-814d-a7e967d3ea4e",
   "metadata": {},
   "outputs": [
    {
     "name": "stdout",
     "output_type": "stream",
     "text": [
      "hello world\n"
     ]
    }
   ],
   "source": [
    "print(\"hello world\")"
   ]
  },
  {
   "cell_type": "code",
   "execution_count": 8,
   "id": "408dad99-44da-487c-be95-3d83e0d82727",
   "metadata": {},
   "outputs": [
    {
     "name": "stdout",
     "output_type": "stream",
     "text": [
      "3.1\n"
     ]
    }
   ],
   "source": [
    "var = 3.1415\n",
    "\n",
    "print(format(var, \".1f\"))"
   ]
  },
  {
   "cell_type": "code",
   "execution_count": 10,
   "id": "51416610-8563-482e-9d32-b2572a05379d",
   "metadata": {},
   "outputs": [
    {
     "name": "stdout",
     "output_type": "stream",
     "text": [
      "<class 'str'>\n",
      "<class 'int'>\n"
     ]
    }
   ],
   "source": [
    "num1 = \"720\"\n",
    "print(type(num1))\n",
    "\n",
    "num2 = int(num1)\n",
    "print(type(num2))"
   ]
  },
  {
   "cell_type": "code",
   "execution_count": 13,
   "id": "83d454cf-3016-45d8-bc78-d9d54480856d",
   "metadata": {},
   "outputs": [
    {
     "name": "stdout",
     "output_type": "stream",
     "text": [
      "36\n"
     ]
    }
   ],
   "source": [
    "double = 6 ** 2\n",
    "print(double)"
   ]
  },
  {
   "cell_type": "code",
   "execution_count": 30,
   "id": "e6529365-52d6-4748-bc08-43dfb3f09f93",
   "metadata": {},
   "outputs": [
    {
     "name": "stdin",
     "output_type": "stream",
     "text": [
      "첫 번째 숫자를 입력하세요:  1\n",
      "두 번째 숫자를 입력하세요:  124\n"
     ]
    },
    {
     "name": "stdout",
     "output_type": "stream",
     "text": [
      "두 수의 합은: 125\n"
     ]
    }
   ],
   "source": [
    "num1 = input(\"첫 번째 숫자를 입력하세요: \")\n",
    "num2 = input(\"두 번째 숫자를 입력하세요: \")\n",
    "\n",
    "# 문자열로 받아온 입력값을 정수(int)로 변환\n",
    "num1 = int(num1)\n",
    "num2 = int(num2)\n",
    "\n",
    "result = num1 + num2\n",
    "\n",
    "print(\"두 수의 합은:\", result)\n"
   ]
  }
 ],
 "metadata": {
  "kernelspec": {
   "display_name": "Python [conda env:base] *",
   "language": "python",
   "name": "conda-base-py"
  },
  "language_info": {
   "codemirror_mode": {
    "name": "ipython",
    "version": 3
   },
   "file_extension": ".py",
   "mimetype": "text/x-python",
   "name": "python",
   "nbconvert_exporter": "python",
   "pygments_lexer": "ipython3",
   "version": "3.13.5"
  }
 },
 "nbformat": 4,
 "nbformat_minor": 5
}
