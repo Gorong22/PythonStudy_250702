{
 "cells": [
  {
   "cell_type": "markdown",
   "id": "19fdcc8b-8122-41b2-9eee-5867f895b011",
   "metadata": {},
   "source": [
    "# 조건문 \n",
    "```\n",
    "\n",
    "if 조건 : \n",
    "    실행문 \n",
    "if 조건1 and 조건2 :조건이 참일때 실행 \n",
    "    실행문\n",
    "\n",
    "if 조건1 or 조건2 :\n",
    "    실행문\n",
    "\n",
    "if not 조건 : 조건이 거짓인 경우 실행 \n",
    "    실행문 \n",
    "\n",
    "```\n",
    "\n",
    "```\n",
    "if 조건 :\n",
    "    실행문이 실행된다\n",
    "else :\n",
    "    실행문 \n"
   ]
  },
  {
   "cell_type": "code",
   "execution_count": 4,
   "id": "a2b72901-4874-403f-a99e-805e48dd0ada",
   "metadata": {},
   "outputs": [
    {
     "name": "stdin",
     "output_type": "stream",
     "text": [
      "당신의 나이는? 12\n"
     ]
    },
    {
     "name": "stdout",
     "output_type": "stream",
     "text": [
      "돌아가라 애송이\n"
     ]
    }
   ],
   "source": [
    "age = int(input(\"당신의 나이는?\"))\n",
    "if age >30 :\n",
    "    print(f\"당신은 아직 {age} 나이는 적당합니다 축하합니다\") \n",
    "else : \n",
    "    print(f\"돌아가라 애송이\")"
   ]
  },
  {
   "cell_type": "code",
   "execution_count": 7,
   "id": "c04d32c1-46ef-44ae-80d3-5935ba82fa95",
   "metadata": {},
   "outputs": [
    {
     "name": "stdin",
     "output_type": "stream",
     "text": [
      "당신의 나이는? 13\n"
     ]
    }
   ],
   "source": [
    "age = int(input(\"당신의 나이는?\"))\n",
    "if age >= 19:\n",
    "    print(\"당신은 성인입니다!\") "
   ]
  },
  {
   "cell_type": "code",
   "execution_count": 12,
   "id": "a878d6e7-c0ee-4244-a7c1-6edfdce1ad96",
   "metadata": {},
   "outputs": [
    {
     "name": "stdin",
     "output_type": "stream",
     "text": [
      "형원이의 나이는? 15\n",
      "원실이의 나이는? 15\n"
     ]
    }
   ],
   "source": [
    "age1 = int(input(\"형원이의 나이는?\"))\n",
    "age2 = int(input(\"원실이의 나이는?\"))\n",
    "\n",
    "if age1 >= 19 or age2 >= 19 :\n",
    "    print(\"영화관 입장 가능!\")"
   ]
  },
  {
   "cell_type": "code",
   "execution_count": 15,
   "id": "97ba9ce9-0d68-4ffd-8d82-0a4196d12b64",
   "metadata": {},
   "outputs": [
    {
     "name": "stdin",
     "output_type": "stream",
     "text": [
      "현재 얼마 있냐? 100000\n"
     ]
    },
    {
     "name": "stdout",
     "output_type": "stream",
     "text": [
      "하 거지새키 꺼져\n"
     ]
    }
   ],
   "source": [
    "cash = int(input(\"현재 얼마 있냐?\"))\n",
    "\n",
    "if cash > 100000 : \n",
    "    print(\"다내놔라 뒤지기싫으면\") \n",
    "else : \n",
    "    print(\"하 거지새키 꺼져\")"
   ]
  },
  {
   "cell_type": "code",
   "execution_count": 18,
   "id": "7b1fab50-54a4-4b43-a2e5-6e600f87ad4a",
   "metadata": {},
   "outputs": [
    {
     "name": "stdin",
     "output_type": "stream",
     "text": [
      "실례지만 나이가 어떻게 되시나요? 18\n"
     ]
    },
    {
     "name": "stdout",
     "output_type": "stream",
     "text": [
      "18살 이라고? 돌아가라 애송이\n"
     ]
    }
   ],
   "source": [
    "# 사용자로부터 나이를 입력 받아서, 나이가 19세 이상이면 \" 당신은 성인입니다 출력\" \n",
    "# 19세 미만이면 \"돌아가라 애송이\" 라고 출력하세요 \n",
    "\n",
    "age = int(input(\"실례지만 나이가 어떻게 되시나요?\"))\n",
    "if age > 19 :\n",
    "    print(f\"어유 나이가 벌써 {age} 나 되셨나요? 입장하셔요\") \n",
    "else :\n",
    "    print(f\"{age}살 이라고? 돌아가라 애송이\") "
   ]
  },
  {
   "cell_type": "code",
   "execution_count": 31,
   "id": "11f4f22b-7b8c-4b4d-b480-d7c3ccfdb321",
   "metadata": {},
   "outputs": [
    {
     "name": "stdin",
     "output_type": "stream",
     "text": [
      "나이가 어떻게 되시나요 12\n"
     ]
    },
    {
     "name": "stdout",
     "output_type": "stream",
     "text": [
      "당신은 어린이입니다\n"
     ]
    }
   ],
   "source": [
    "# 사용자로 부터 나이를 입력 받아서, 나이가 19세 이상이면 \"당신은 성인입니다 출력\" 13세 이상, 19세 이하 면 당신은 청소년 입니다로 출력 13세 이하면 당신은 아동입니다\n",
    "\n",
    "age = int(input(\"나이가 어떻게 되시나요\"))\n",
    "\n",
    "if age >= 19 : \n",
    "    print(\"당신은 성인입니다\") \n",
    "elif age >= 13 and age < 19 : \n",
    "    print(\"당신은 청소년 입니다\") \n",
    "else:\n",
    "    print(\"당신은 어린이입니다\")"
   ]
  },
  {
   "cell_type": "code",
   "execution_count": 33,
   "id": "fca77097-eb25-43ce-aec6-a1d3a61fac39",
   "metadata": {},
   "outputs": [
    {
     "name": "stdin",
     "output_type": "stream",
     "text": [
      "나이가 어떻게 되시나요 4\n"
     ]
    }
   ],
   "source": [
    "age = int(input(\"나이가 어떻게 되시나요\"))\n",
    "\n",
    "if age >= 19 : \n",
    "    print(\"당신은 성인입니다\") \n",
    "elif age >= 13 and age < 19 : \n",
    "    print(\"당신은 청소년 입니다\") \n",
    "elif age >= 5 and age < 13 :\n",
    "    print(\"당신은 어린이입니다\")"
   ]
  },
  {
   "cell_type": "code",
   "execution_count": null,
   "id": "97095169-64d3-40fa-a930-18a69cab23fc",
   "metadata": {},
   "outputs": [],
   "source": [
    "# 사용자로부터 현재 현금이 얼마 잇는지 확인후 10만원 이상이면 레스토랑으로 갑시다 라는 문장 출력 \n",
    "# 그렇지 않다면 만약 5만원 이상 10만원 미만 일 경우 한뷔나 먹으로가자 하고 5만원미만 1만원 이상이면 편의점가자 만원 미만이면 꺼져 출력"
   ]
  },
  {
   "cell_type": "code",
   "execution_count": 41,
   "id": "8f16b037-e9fa-448e-9f5a-4b216509ea30",
   "metadata": {},
   "outputs": [
    {
     "name": "stdin",
     "output_type": "stream",
     "text": [
      "얼마있음? 5000\n"
     ]
    },
    {
     "name": "stdout",
     "output_type": "stream",
     "text": [
      "꺼져\n"
     ]
    }
   ],
   "source": [
    "money = int(input(\"얼마있음?\"))\n",
    "\n",
    "if money >= 100000 : \n",
    "    print(\"레스토랑 갑시다\")\n",
    "\n",
    "elif money < 100000 and money >= 50000 :\n",
    "    print(\"한뷔나 갑시다\") \n",
    "elif money < 50000 and money >= 10000 :\n",
    "    print(\"편의점 가자\")\n",
    "else :\n",
    "    print(\"꺼져\")"
   ]
  },
  {
   "cell_type": "code",
   "execution_count": 43,
   "id": "4bc9ffb6-5599-4faf-8016-9e0aa2ffb892",
   "metadata": {},
   "outputs": [
    {
     "name": "stdin",
     "output_type": "stream",
     "text": [
      "얼마있음? 1000\n"
     ]
    },
    {
     "name": "stdout",
     "output_type": "stream",
     "text": [
      "집으로 꺼져\n"
     ]
    }
   ],
   "source": [
    "cash = int(input(\"얼마있음?\"))\n",
    "\n",
    "if cash >= 100000 :\n",
    "    print(\"레스토랑으로 갑시다\")\n",
    "else :\n",
    "    if cash >= 50000 :\n",
    "        print(\"한뷔가자\")\n",
    "    else : \n",
    "        print(\"집으로 꺼져\")"
   ]
  },
  {
   "cell_type": "code",
   "execution_count": 48,
   "id": "7f3afa29-346f-4194-b658-3bc5636f527d",
   "metadata": {},
   "outputs": [
    {
     "name": "stdin",
     "output_type": "stream",
     "text": [
      "돈이 얼마있음? 55000\n"
     ]
    },
    {
     "name": "stdout",
     "output_type": "stream",
     "text": [
      "분식집\n"
     ]
    }
   ],
   "source": [
    "# 사용자로부터 얼마의 현금이 있는지 확인 후, 10만원 초과인 경우 레스토랑 출력 \n",
    "# 7만원 초과 페밀리 레스토랑 출력(10만원 7만 천원)\n",
    "# 6만원 초과인 경우 한식집 출력 (6만 천원 부터 칠만원 미만)\n",
    "# 그렇지 않으면 분식집 출력 (6만원 부터 5만원 사이)\n",
    "# 그렇지않은 경우 5만원 미만인 경우 집 출력 (4만9천원 0원)\n",
    "\n",
    "\n",
    "cash = int(input(\"돈이 얼마있음?\"))\n",
    "\n",
    "if cash > 100000 : \n",
    "    print(\"레스토랑\")\n",
    "elif cash >= 100000 and cash > 70000 :\n",
    "        print(\"패밀리 레스토랑\")\n",
    "elif cash < 70000 and cash > 60000 :\n",
    "        print(\"패밀리 레스토랑\")\n",
    "elif cash <= 60000 and cash > 50000 :\n",
    "        print(\"분식집\") \n",
    "else :\n",
    "    print(\"꺼져\")"
   ]
  },
  {
   "cell_type": "code",
   "execution_count": 52,
   "id": "f37ef04d-4ed3-4c09-883e-748063f50af8",
   "metadata": {},
   "outputs": [
    {
     "name": "stdout",
     "output_type": "stream",
     "text": [
      "분식집\n"
     ]
    }
   ],
   "source": [
    "if cash > 100000:\n",
    "    print(\"레스토랑\")\n",
    "elif cash > 70000:\n",
    "    print(\"패밀리레스토랑\")\n",
    "elif cash > 60000:\n",
    "    print(\"한식집\")\n",
    "elif cash > 50000:\n",
    "    print(\"분식집\")\n",
    "else:\n",
    "    print(\"집\")"
   ]
  },
  {
   "cell_type": "code",
   "execution_count": 54,
   "id": "5fd68f29-c2e5-4e5a-9093-738bf867d32c",
   "metadata": {},
   "outputs": [
    {
     "name": "stdin",
     "output_type": "stream",
     "text": [
      "숫자를 입력해주세요 3\n"
     ]
    },
    {
     "name": "stdout",
     "output_type": "stream",
     "text": [
      "당신이 적은 3숫자는 홀수 입니다\n"
     ]
    }
   ],
   "source": [
    "# 해당 숫자를 홀수 인지 짝수 인지 분별해서 출력핫헤요 \n",
    "\n",
    "num = int(input(\"숫자를 입력해주세요\"))\n",
    "if num % 2 == 0:\n",
    "    print(f\"당신이 적은 {num}숫자는 짝수 입니다\") \n",
    "else :\n",
    "    print(f\"당신이 적은 {num}숫자는 홀수 입니다\")"
   ]
  },
  {
   "cell_type": "code",
   "execution_count": 67,
   "id": "dfb1d412-43a0-4c7b-aa53-6e8211fc00a7",
   "metadata": {},
   "outputs": [
    {
     "name": "stdin",
     "output_type": "stream",
     "text": [
      " 1\n",
      " 2\n",
      " 3\n"
     ]
    },
    {
     "name": "stdout",
     "output_type": "stream",
     "text": [
      "1\n"
     ]
    }
   ],
   "source": [
    "num1 = int(input())\n",
    "num2 = int(input())\n",
    "num3 = int(input())\n",
    "\n",
    "if num1 <= num2 and num1 <= num3 :\n",
    "    print(num1)\n",
    "elif num2 <= num1 and num2 <= num3 :\n",
    "    print(num2)\n",
    "elif num3 <= num1 and num3 <= num2 :\n",
    "    print(num3)"
   ]
  },
  {
   "cell_type": "code",
   "execution_count": 68,
   "id": "3e20005a-aaa2-4269-98b9-1032075d56e9",
   "metadata": {},
   "outputs": [
    {
     "name": "stdin",
     "output_type": "stream",
     "text": [
      " 5\n",
      " 21\n",
      " 1\n"
     ]
    },
    {
     "data": {
      "text/plain": [
       "1"
      ]
     },
     "execution_count": 68,
     "metadata": {},
     "output_type": "execute_result"
    }
   ],
   "source": [
    "num1 = int(input())\n",
    "num2 = int(input())\n",
    "num3 = int(input())\n",
    "\n",
    "min(num1, num2, num3)"
   ]
  },
  {
   "cell_type": "code",
   "execution_count": 69,
   "id": "3a26c7c2-23b9-485b-9a24-230aead59d2e",
   "metadata": {},
   "outputs": [
    {
     "name": "stdin",
     "output_type": "stream",
     "text": [
      " 6\n",
      " 23\n",
      " 1\n"
     ]
    },
    {
     "data": {
      "text/plain": [
       "1"
      ]
     },
     "execution_count": 69,
     "metadata": {},
     "output_type": "execute_result"
    }
   ],
   "source": [
    "nums = [int(input()) for _ in range(3)]\n",
    "min(nums)"
   ]
  },
  {
   "cell_type": "code",
   "execution_count": null,
   "id": "eeeb22bd-9748-4c45-8ebf-b65e75de2df8",
   "metadata": {},
   "outputs": [],
   "source": []
  }
 ],
 "metadata": {
  "kernelspec": {
   "display_name": "Python [conda env:base] *",
   "language": "python",
   "name": "conda-base-py"
  },
  "language_info": {
   "codemirror_mode": {
    "name": "ipython",
    "version": 3
   },
   "file_extension": ".py",
   "mimetype": "text/x-python",
   "name": "python",
   "nbconvert_exporter": "python",
   "pygments_lexer": "ipython3",
   "version": "3.13.5"
  }
 },
 "nbformat": 4,
 "nbformat_minor": 5
}
