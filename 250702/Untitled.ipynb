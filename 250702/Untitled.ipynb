{
 "cells": [
  {
   "cell_type": "code",
   "execution_count": 3,
   "id": "32762c71-9ed9-4028-94cc-4aed5ba05f84",
   "metadata": {},
   "outputs": [
    {
     "name": "stdin",
     "output_type": "stream",
     "text": [
      "숫자 입력하세요 12\n",
      "숫자 다른거 입력하세요 23\n"
     ]
    },
    {
     "name": "stdout",
     "output_type": "stream",
     "text": [
      "당신이 입력한 숫자의 합은 35 입니다\n"
     ]
    }
   ],
   "source": [
    "Q1 = input(\"숫자 입력하세요\")\n",
    "Q2 = input(\"숫자 다른거 입력하세요\")\n",
    "\n",
    "num1 = int(Q1)\n",
    "num2 = int(Q2)\n",
    "\n",
    "print(f\"당신이 입력한 숫자의 합은 {num1+num2} 입니다\")"
   ]
  },
  {
   "cell_type": "code",
   "execution_count": 4,
   "id": "12ab661e-b729-4548-aa60-336dd2202943",
   "metadata": {},
   "outputs": [
    {
     "name": "stdin",
     "output_type": "stream",
     "text": [
      " 51\n",
      " 32\n"
     ]
    },
    {
     "name": "stdout",
     "output_type": "stream",
     "text": [
      "83\n"
     ]
    }
   ],
   "source": [
    "Q1 = int(input())\n",
    "Q2 = int(input())\n",
    "\n",
    "print(Q1+Q2)"
   ]
  },
  {
   "cell_type": "code",
   "execution_count": 10,
   "id": "1b724e17-e4cf-47ef-a0d7-5b5dadb1c6cb",
   "metadata": {},
   "outputs": [
    {
     "name": "stdin",
     "output_type": "stream",
     "text": [
      "숫자를 입력해주세요 100\n",
      "숫자를 한번 더 입력하세요 10\n"
     ]
    },
    {
     "name": "stdout",
     "output_type": "stream",
     "text": [
      " 당신이 입력한 값 중 곱한 값은 1000, 나눈 값은 10.0, 나눈 몫은 10, 나머지 값은 0 입니다\n"
     ]
    }
   ],
   "source": [
    "num1 = int(input(\"숫자를 입력해주세요\"))\n",
    "num2 = int(input(\"숫자를 한번 더 입력하세요\"))\n",
    "\n",
    "print(f\" 당신이 입력한 값 중 곱한 값은 {num1 * num2}, 나눈 값은 {num1 / num2}, 나눈 몫은 {num1 // num2}, 나머지 값은 {num1 % num2} 입니다\")\n",
    "\n",
    "#선생님 답변 \n",
    "#print(\"곱한 값 :\", num1\n",
    "#print(num1, \"//\", num2, \"=\" num1//num2)"
   ]
  },
  {
   "cell_type": "code",
   "execution_count": 12,
   "id": "d3b5c7e8-9ee0-4516-bc13-c26df22d9783",
   "metadata": {},
   "outputs": [
    {
     "name": "stdout",
     "output_type": "stream",
     "text": [
      "오마이뉴스\n",
      "한국일보\n",
      "시사인\n",
      "뉴시스\n",
      "스포츠조선\n"
     ]
    }
   ],
   "source": [
    "mydata = [\"hello\", 1, 2, \"world\"]\n",
    "news = [\"오마이뉴스\", \"한국일보\", \"시사인\", \"뉴시스\", \"스포츠조선\"]\n",
    "\n",
    "for media in news:\n",
    "    print(media)"
   ]
  },
  {
   "cell_type": "code",
   "execution_count": 18,
   "id": "44d55d69-a2b5-4399-8427-6b26ed541a7e",
   "metadata": {},
   "outputs": [
    {
     "name": "stdout",
     "output_type": "stream",
     "text": [
      "['서울시']\n",
      "<class 'list'>\n"
     ]
    }
   ],
   "source": [
    "location = [\"서울시\", \"경기도\", \"인천시\"]\n",
    "\n",
    "print(location[0:1])\n",
    "print(type(location))"
   ]
  },
  {
   "cell_type": "code",
   "execution_count": 22,
   "id": "a3938be0-c121-4571-882a-1b22a54d5ee5",
   "metadata": {},
   "outputs": [
    {
     "data": {
      "text/plain": [
       "['서울시', '경기도', '인천시', '경산시', '경산시']"
      ]
     },
     "execution_count": 22,
     "metadata": {},
     "output_type": "execute_result"
    }
   ],
   "source": [
    "location.append(\"경산시\")\n",
    "\n",
    "#print(location)\n",
    "location"
   ]
  },
  {
   "cell_type": "code",
   "execution_count": 25,
   "id": "8f9f13fd-ac2b-4ffd-86cb-e3a6a838ecd6",
   "metadata": {},
   "outputs": [
    {
     "data": {
      "text/plain": [
       "['서울시', '경기도', '인천시', '경산시', '경산시', '대구광역시', '대구광역시']"
      ]
     },
     "execution_count": 25,
     "metadata": {},
     "output_type": "execute_result"
    }
   ],
   "source": [
    "location.append(\"대구광역시\")\n",
    "location"
   ]
  },
  {
   "cell_type": "code",
   "execution_count": 26,
   "id": "47b77862-f83c-4fdb-bff8-3d40fa8d7ebe",
   "metadata": {},
   "outputs": [
    {
     "data": {
      "text/plain": [
       "'대구광역시'"
      ]
     },
     "execution_count": 26,
     "metadata": {},
     "output_type": "execute_result"
    }
   ],
   "source": [
    "location[-2]"
   ]
  },
  {
   "cell_type": "code",
   "execution_count": 28,
   "id": "bef886f5-08a1-449e-8b31-0a576a900a37",
   "metadata": {},
   "outputs": [
    {
     "data": {
      "text/plain": [
       "['인천시']"
      ]
     },
     "execution_count": 28,
     "metadata": {},
     "output_type": "execute_result"
    }
   ],
   "source": [
    "location[2:3]"
   ]
  },
  {
   "cell_type": "code",
   "execution_count": 29,
   "id": "f21169c4-827e-4006-93b1-36ec4437d78f",
   "metadata": {},
   "outputs": [],
   "source": [
    "location.remove(\"대구광역시\")"
   ]
  },
  {
   "cell_type": "code",
   "execution_count": 30,
   "id": "3432b132-33e2-41ca-93e6-fb8976ddff3f",
   "metadata": {},
   "outputs": [
    {
     "data": {
      "text/plain": [
       "['서울시', '경기도', '인천시', '경산시', '경산시', '대구광역시']"
      ]
     },
     "execution_count": 30,
     "metadata": {},
     "output_type": "execute_result"
    }
   ],
   "source": [
    "location"
   ]
  },
  {
   "cell_type": "code",
   "execution_count": 34,
   "id": "b9c7bd90-8732-4186-8c53-c6a4522a6224",
   "metadata": {},
   "outputs": [
    {
     "data": {
      "text/plain": [
       "'분석'"
      ]
     },
     "execution_count": 34,
     "metadata": {},
     "output_type": "execute_result"
    }
   ],
   "source": [
    "word = \"데이터분석\"\n",
    "word[3:5]"
   ]
  },
  {
   "cell_type": "code",
   "execution_count": 36,
   "id": "a5cf0d79-ee26-4e3d-99cc-e7043ce5c8d6",
   "metadata": {},
   "outputs": [],
   "source": [
    "del location[3]"
   ]
  },
  {
   "cell_type": "code",
   "execution_count": 37,
   "id": "90235b0f-e092-4e29-932f-1dd1e8651e95",
   "metadata": {},
   "outputs": [
    {
     "data": {
      "text/plain": [
       "['서울시', '경기도', '인천시', '경산시', '대구광역시']"
      ]
     },
     "execution_count": 37,
     "metadata": {},
     "output_type": "execute_result"
    }
   ],
   "source": [
    "location"
   ]
  },
  {
   "cell_type": "code",
   "execution_count": 38,
   "id": "fb457efb-ccc0-4acb-ac1c-fcb88622beec",
   "metadata": {},
   "outputs": [],
   "source": [
    "del location[2]"
   ]
  },
  {
   "cell_type": "code",
   "execution_count": 39,
   "id": "9a0346e9-0953-4f04-b1ba-07e2cfca06e8",
   "metadata": {},
   "outputs": [
    {
     "data": {
      "text/plain": [
       "['서울시', '경기도', '경산시', '대구광역시']"
      ]
     },
     "execution_count": 39,
     "metadata": {},
     "output_type": "execute_result"
    }
   ],
   "source": [
    "location"
   ]
  },
  {
   "cell_type": "code",
   "execution_count": 40,
   "id": "92dea817-317f-4d65-a5d6-fcb86fb636b1",
   "metadata": {},
   "outputs": [],
   "source": [
    "location.insert(0, \"제주도\")"
   ]
  },
  {
   "cell_type": "code",
   "execution_count": 41,
   "id": "2939e6ea-9713-45fb-89a6-ec8e953249d7",
   "metadata": {},
   "outputs": [
    {
     "data": {
      "text/plain": [
       "['제주도', '서울시', '경기도', '경산시', '대구광역시']"
      ]
     },
     "execution_count": 41,
     "metadata": {},
     "output_type": "execute_result"
    }
   ],
   "source": [
    "location"
   ]
  },
  {
   "cell_type": "code",
   "execution_count": 42,
   "id": "bc082dd0-89cf-4ebe-bb19-5dfcbc006e92",
   "metadata": {},
   "outputs": [
    {
     "data": {
      "text/plain": [
       "list"
      ]
     },
     "execution_count": 42,
     "metadata": {},
     "output_type": "execute_result"
    }
   ],
   "source": [
    "location01 = []\n",
    "type(location01)"
   ]
  },
  {
   "cell_type": "code",
   "execution_count": 43,
   "id": "ce09262b-a452-4796-ad52-aba31ada1d66",
   "metadata": {},
   "outputs": [],
   "source": [
    "location01.append(\"강원도\")"
   ]
  },
  {
   "cell_type": "code",
   "execution_count": 45,
   "id": "63adfc63-b36f-45b5-9780-7674b1fe59a9",
   "metadata": {},
   "outputs": [
    {
     "data": {
      "text/plain": [
       "['강원도']"
      ]
     },
     "execution_count": 45,
     "metadata": {},
     "output_type": "execute_result"
    }
   ],
   "source": [
    "location01"
   ]
  },
  {
   "cell_type": "code",
   "execution_count": 47,
   "id": "26eb8a04-78e3-497b-9d01-582604007a19",
   "metadata": {},
   "outputs": [
    {
     "name": "stdout",
     "output_type": "stream",
     "text": [
      "<class 'list'>\n"
     ]
    }
   ],
   "source": [
    "location02 = list()\n",
    "print(type(location02))"
   ]
  },
  {
   "cell_type": "code",
   "execution_count": 59,
   "id": "9ee3c292-884e-44b4-800d-54e890d80878",
   "metadata": {},
   "outputs": [
    {
     "name": "stdout",
     "output_type": "stream",
     "text": [
      "[2, 1, 4, 3]\n",
      "[4, 3, 2, 1]\n"
     ]
    }
   ],
   "source": [
    "numbers = [2, 1, 4, 3]\n",
    "print(numbers)\n",
    "\n",
    "numbers.sort()\n",
    "numbers\n",
    "\n",
    "numbers.reverse()\n",
    "print(numbers)"
   ]
  },
  {
   "cell_type": "code",
   "execution_count": 62,
   "id": "336e642e-2aca-4ef6-a844-9748b825764a",
   "metadata": {},
   "outputs": [
    {
     "data": {
      "text/plain": [
       "'python'"
      ]
     },
     "execution_count": 62,
     "metadata": {},
     "output_type": "execute_result"
    }
   ],
   "source": [
    "pythonBasic = \"python is easy\"\n",
    "pylist = pythonBasic.split()\n",
    "pylist[0]"
   ]
  },
  {
   "cell_type": "code",
   "execution_count": null,
   "id": "ccdef8bd-9011-4409-9f91-fc766a43ed9b",
   "metadata": {},
   "outputs": [],
   "source": []
  }
 ],
 "metadata": {
  "kernelspec": {
   "display_name": "Python [conda env:base] *",
   "language": "python",
   "name": "conda-base-py"
  },
  "language_info": {
   "codemirror_mode": {
    "name": "ipython",
    "version": 3
   },
   "file_extension": ".py",
   "mimetype": "text/x-python",
   "name": "python",
   "nbconvert_exporter": "python",
   "pygments_lexer": "ipython3",
   "version": "3.13.5"
  }
 },
 "nbformat": 4,
 "nbformat_minor": 5
}
