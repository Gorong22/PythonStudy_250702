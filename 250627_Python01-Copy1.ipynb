{
 "cells": [
  {
   "cell_type": "markdown",
   "id": "62d94de4-dc45-4b36-8231-b36c2507ca8b",
   "metadata": {},
   "source": [
    "# 파이썬 기초문법 할꺼임요 \n",
    "\n",
    "- 아래 셀추가 b 위에 셀 추가 a\n",
    "\n",
    "- 변수\n",
    "\n",
    "- 연산자 ( 사칙연산 // 비교연산)\n",
    "\n",
    "- 자료타입"
   ]
  },
  {
   "cell_type": "markdown",
   "id": "ac940c39-51bb-47d6-8c6c-6e6e03ee3c0a",
   "metadata": {},
   "source": [
    "# 단축기 \n",
    "# A(above) 위쪾 셀 추가 \n",
    "# B(below) 아래쪽에 셀 추가 \n",
    "# dd : 셀 삭제 \n",
    "# 되돌리기 : CTR + z\n",
    "# 행 바꿈 ( 개행 ) \n",
    "# 줄바꿈 enter \n",
    "# 셀 실행 ctr + enter "
   ]
  },
  {
   "cell_type": "code",
   "execution_count": 14,
   "id": "dd5dc6fa-7c65-490c-8bff-c8cae700b1d9",
   "metadata": {},
   "outputs": [
    {
     "name": "stdout",
     "output_type": "stream",
     "text": [
      "1\n"
     ]
    }
   ],
   "source": [
    "num = 1 \n",
    "\n",
    "# num -> 변수 ( 어떤 값을 담을 수 있는 그릇 ) \n",
    "# Snake 표기법 => hello_world \n",
    "# Camel 표기법 => helloWorld (*\n",
    "# Hungarian 표기법 => HelloWorld\n",
    "# num 이라는 변수 안에 1이라는 값을 할당 했다 \n",
    "print(num) \n",
    "# print () => 함수 (#Function : 기능)\n",
    "# print라는 함수안에 num이라는 변수값을 인자(argment)값으로 사용했다 "
   ]
  },
  {
   "cell_type": "code",
   "execution_count": 17,
   "id": "486e2359-6de1-43d3-8e85-b916eb174979",
   "metadata": {},
   "outputs": [
    {
     "name": "stdout",
     "output_type": "stream",
     "text": [
      "Hello Hello\n"
     ]
    }
   ],
   "source": [
    "print(\"Hello Hello\")"
   ]
  },
  {
   "cell_type": "code",
   "execution_count": 19,
   "id": "d4867118-e65d-43a5-b2c7-623ab61c46f7",
   "metadata": {},
   "outputs": [
    {
     "name": "stdout",
     "output_type": "stream",
     "text": [
      "<class 'int'>\n",
      "<class 'str'>\n"
     ]
    }
   ],
   "source": [
    "# 자료타입이 왜 중요한가? \n",
    "print(type(1))\n",
    "# 알트 시프트 아래 (복제) 단축기\n",
    "print(type(\"1\"))"
   ]
  },
  {
   "cell_type": "code",
   "execution_count": 24,
   "id": "37ce0e1e-bf72-42bd-81b1-a30201013ab9",
   "metadata": {},
   "outputs": [
    {
     "name": "stdout",
     "output_type": "stream",
     "text": [
      "10\n",
      "4\n",
      "21\n",
      "2.3333333333333335\n",
      "50\n"
     ]
    }
   ],
   "source": [
    "# 연산기능 \n",
    "num01 = 3\n",
    "num02 = 7\n",
    "\n",
    "print(num01 + num02)\n",
    "print(num02 - num01)\n",
    "print(num01 * num02)\n",
    "print(num02 / num01)\n",
    "print((7 + 3) * 5)"
   ]
  },
  {
   "cell_type": "code",
   "execution_count": 28,
   "id": "ed162460-60ea-4247-a784-d363c50748ee",
   "metadata": {},
   "outputs": [
    {
     "name": "stdout",
     "output_type": "stream",
     "text": [
      "2.142857142857143\n",
      "2\n",
      "1\n",
      "8\n"
     ]
    }
   ],
   "source": [
    "print(15 / 7 ) # 나누기 연산자\n",
    "print(15 // 7 )# 나누기 후 몫의 값을 정수로 찾아 주는 연산자 \n",
    "print(15 % 7) # 나머지 연산자\n",
    "print(2 ** 3)"
   ]
  },
  {
   "cell_type": "code",
   "execution_count": 29,
   "id": "ba1b36ec-f280-459b-a4a3-8a427a96dcba",
   "metadata": {},
   "outputs": [
    {
     "name": "stdout",
     "output_type": "stream",
     "text": [
      "<class 'str'> <class 'int'> <class 'float'> <class 'bool'>\n"
     ]
    }
   ],
   "source": [
    "str_data =\"Hello\" # 문자열\n",
    "int_data = 1 # 정수\n",
    "float_data = 1.1 # 부동소수\n",
    "boll_data = True # 논리형\n",
    "\n",
    "print(type(str_data), type(int_data), type(float_data), type(boll_data))"
   ]
  },
  {
   "cell_type": "code",
   "execution_count": 34,
   "id": "02889af3-d6d7-460a-8f2a-9609adefd2ae",
   "metadata": {},
   "outputs": [
    {
     "name": "stdout",
     "output_type": "stream",
     "text": [
      "200\n"
     ]
    }
   ],
   "source": [
    "digit1 = 10\n",
    "digit2 = 20\n",
    "name = \"won\"\n",
    "\n",
    "print(digit1 * digit2) # 동일한 자료형태의 경우에는 연산처리 가능!"
   ]
  },
  {
   "cell_type": "code",
   "execution_count": 36,
   "id": "024212db-a75b-41af-8745-f4402bfc2e5b",
   "metadata": {},
   "outputs": [
    {
     "name": "stdout",
     "output_type": "stream",
     "text": [
      "wonshil\n"
     ]
    }
   ],
   "source": [
    "name1 = \"won\"\n",
    "name2 = \"shil\"\n",
    "\n",
    "print(name1 + name2)"
   ]
  },
  {
   "cell_type": "code",
   "execution_count": 45,
   "id": "f6cbafd6-b08a-480a-9e19-be1a1b296e57",
   "metadata": {},
   "outputs": [
    {
     "name": "stdout",
     "output_type": "stream",
     "text": [
      "True\n",
      "False\n",
      "False\n",
      "True\n",
      "False\n",
      "True\n"
     ]
    }
   ],
   "source": [
    "num1 = 2 \n",
    "num2 = 4 \n",
    "\n",
    "print(num01 < num2)\n",
    "print(num01 > num2)\n",
    "print(num01 >= num2) # 같거나 크다 \n",
    "print(num01 <= num2) # 같거나 작다\n",
    "print(num01 == num2) # 값이 동일하다\n",
    "print(num01 != num2) # 느낌표는 not 이란 뜻 같지 않다 라는 뜻"
   ]
  },
  {
   "cell_type": "code",
   "execution_count": 1,
   "id": "9b8af2fb-d293-42ab-8591-ece0c57ec950",
   "metadata": {},
   "outputs": [
    {
     "name": "stdout",
     "output_type": "stream",
     "text": [
      "p\n"
     ]
    }
   ],
   "source": [
    "word = \"python\"\n",
    "print(word[0])"
   ]
  },
  {
   "cell_type": "code",
   "execution_count": 13,
   "id": "11148034-6567-480c-b796-5fb8ac3c03ad",
   "metadata": {},
   "outputs": [
    {
     "name": "stdout",
     "output_type": "stream",
     "text": [
      "분석\n"
     ]
    }
   ],
   "source": [
    "sentence = \" 데이터분석기초\"\n",
    "print = (sentence[3])\n",
    "del print\n",
    "print(sentence[4:6])"
   ]
  },
  {
   "cell_type": "code",
   "execution_count": 14,
   "id": "a121c2e2-8eb6-475a-8676-bf427c23a289",
   "metadata": {},
   "outputs": [
    {
     "name": "stdin",
     "output_type": "stream",
     "text": [
      "나이를 입력하세용 26\n"
     ]
    },
    {
     "name": "stdout",
     "output_type": "stream",
     "text": [
      "당신의 나이는27입니다요\n"
     ]
    }
   ],
   "source": [
    "Q1 = input(\"나이를 입력하세용\")\n",
    "age = int(Q1)\n",
    "print(f\"당신의 나이는{age+1}입니다요\")"
   ]
  },
  {
   "cell_type": "code",
   "execution_count": 17,
   "id": "0dde078a-509f-4c4d-946e-d5793974cbca",
   "metadata": {},
   "outputs": [
    {
     "name": "stdin",
     "output_type": "stream",
     "text": [
      "당신의 이름을 입력하세요 형원\n",
      "당신의 사는 도시 이름을 말씀하세요 ex)서울 서울\n"
     ]
    },
    {
     "name": "stdout",
     "output_type": "stream",
     "text": [
      "형원은 서울에 살아용\n"
     ]
    }
   ],
   "source": [
    "Q1 = input(\"당신의 이름을 입력하세요\") \n",
    "Q2 = input(\"당신의 사는 도시 이름을 말씀하세요 ex)서울\")\n",
    "print(f\"{Q1}은 {Q2}에 살아용\")"
   ]
  },
  {
   "cell_type": "code",
   "execution_count": 22,
   "id": "53114f7a-e4b5-4296-b2d7-6fa8817045f5",
   "metadata": {},
   "outputs": [
    {
     "name": "stdout",
     "output_type": "stream",
     "text": [
      "메뉴: 김밥, 가격 3000원\n"
     ]
    }
   ],
   "source": [
    "menu = \"김밥\"\n",
    "price = 3000\n",
    "print(\"메뉴: {}, 가격 {}원\".format(menu, price))"
   ]
  },
  {
   "cell_type": "code",
   "execution_count": 24,
   "id": "34560165-87cf-4ee0-9d85-1ae54a2af90b",
   "metadata": {},
   "outputs": [
    {
     "name": "stdout",
     "output_type": "stream",
     "text": [
      "hello python\n"
     ]
    }
   ],
   "source": [
    "text = \"  Hello Python  \"\n",
    "print(text.strip().lower())"
   ]
  },
  {
   "cell_type": "code",
   "execution_count": 34,
   "id": "1c4acb78-028d-4234-ad40-d91ff271ad3f",
   "metadata": {},
   "outputs": [
    {
     "name": "stdout",
     "output_type": "stream",
     "text": [
      "-01월 01일\n"
     ]
    }
   ],
   "source": [
    "date = \"2025-07-01\"\n",
    "month = date[7:]\n",
    "day = date[8:]\n",
    "print(f\"{month}월 {day}일\")"
   ]
  },
  {
   "cell_type": "code",
   "execution_count": 36,
   "id": "4120d439-7cb2-40fd-909f-54c25b75f928",
   "metadata": {},
   "outputs": [
    {
     "name": "stdin",
     "output_type": "stream",
     "text": [
      "지금 생각하신 숫자를 작성해주세요 61\n",
      "한개 또 작성해주세요 3219841653641986541\n"
     ]
    },
    {
     "name": "stdout",
     "output_type": "stream",
     "text": [
      "당신이 생각한 숫자를 더하면 3219841653641986602 의 값이 나옵니다\n"
     ]
    }
   ],
   "source": [
    "Q1 = input(\"지금 생각하신 숫자를 작성해주세요\")\n",
    "Q2 = input(\"한개 또 작성해주세요\") \n",
    "\n",
    "num1 = int(Q1)\n",
    "num2 = int(Q2)\n",
    "print(f\"당신이 생각한 숫자를 더하면 {num1+num2} 의 값이 나옵니다\")"
   ]
  },
  {
   "cell_type": "code",
   "execution_count": 39,
   "id": "b6585eb6-1159-44a6-a338-c6205fb3cd90",
   "metadata": {},
   "outputs": [
    {
     "name": "stdout",
     "output_type": "stream",
     "text": [
      "p\n"
     ]
    }
   ],
   "source": [
    "word = \"python\"\n",
    "print(word[0])"
   ]
  },
  {
   "cell_type": "code",
   "execution_count": 40,
   "id": "6b5d718f-2331-4399-addb-576d485ee52b",
   "metadata": {},
   "outputs": [
    {
     "name": "stdout",
     "output_type": "stream",
     "text": [
      "데이터\n"
     ]
    }
   ],
   "source": [
    "sentence = \"데이터분석기초\"\n",
    "print(sentence[0:3])"
   ]
  },
  {
   "cell_type": "code",
   "execution_count": 43,
   "id": "c4700a13-8cc6-4cce-bf8c-01dba6cec512",
   "metadata": {},
   "outputs": [
    {
     "name": "stdin",
     "output_type": "stream",
     "text": [
      "당신의 이름을 적으세요 이형원\n",
      "당신의 나이를 적으세요 30\n"
     ]
    },
    {
     "name": "stdout",
     "output_type": "stream",
     "text": [
      "당신의 이름은 이형원 이고 나이는 30 이지요?\n"
     ]
    }
   ],
   "source": [
    "Q1 = input(\"당신의 이름을 적으세요\") \n",
    "Q2 = input(\"당신의 나이를 적으세요\") \n",
    "\n",
    "age = int(Q2)\n",
    "\n",
    "print(f\"당신의 이름은 {Q1} 이고 나이는 {age} 이지요?\")"
   ]
  },
  {
   "cell_type": "code",
   "execution_count": 44,
   "id": "3400b134-7725-4367-b43e-fd368510f20b",
   "metadata": {},
   "outputs": [],
   "source": [
    "date = \"2025-07-01\""
   ]
  },
  {
   "cell_type": "code",
   "execution_count": null,
   "id": "f9218e56-b99d-404b-a7e7-9a4cfa31550a",
   "metadata": {},
   "outputs": [],
   "source": []
  }
 ],
 "metadata": {
  "kernelspec": {
   "display_name": "Python [conda env:base] *",
   "language": "python",
   "name": "conda-base-py"
  },
  "language_info": {
   "codemirror_mode": {
    "name": "ipython",
    "version": 3
   },
   "file_extension": ".py",
   "mimetype": "text/x-python",
   "name": "python",
   "nbconvert_exporter": "python",
   "pygments_lexer": "ipython3",
   "version": "3.13.5"
  }
 },
 "nbformat": 4,
 "nbformat_minor": 5
}
